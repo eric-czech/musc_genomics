{
 "cells": [
  {
   "cell_type": "code",
   "execution_count": 1,
   "metadata": {
    "collapsed": false
   },
   "outputs": [],
   "source": [
    "%run -m ipy_startup\n",
    "%run -m ipy_logging\n",
    "%matplotlib inline\n",
    "%load_ext rpy2.ipython\n",
    "from musc_genomics.data_import import cgds, api, prep\n",
    "from musc_genomics.data_modeling import modeling\n",
    "from musc_genomics import data\n",
    "pd.set_option('max_info_rows', int(1E9))"
   ]
  },
  {
   "cell_type": "markdown",
   "metadata": {},
   "source": [
    "# Load Cosmic Response Data"
   ]
  },
  {
   "cell_type": "code",
   "execution_count": 2,
   "metadata": {
    "collapsed": false
   },
   "outputs": [
    {
     "name": "stderr",
     "output_type": "stream",
     "text": [
      "2016-07-19 14:58:23,185:DEBUG:research.project.manager: Loading saved data from location \"/Users/eczech/data/research/musc_genomics/prepared/response_cosmic.pkl\"\n"
     ]
    },
    {
     "name": "stdout",
     "output_type": "stream",
     "text": [
      "<class 'pandas.core.frame.DataFrame'>\n",
      "Int64Index: 958836 entries, 0 to 1187759\n",
      "Data columns (total 8 columns):\n",
      "CellLine             958836 non-null object\n",
      "CosmicID             958836 non-null int64\n",
      "CancerType           958836 non-null object\n",
      "Tissue               958836 non-null object\n",
      "ExperimentDetails    958836 non-null object\n",
      "Value                958836 non-null float64\n",
      "DrugName             958836 non-null object\n",
      "ValueUnit            958836 non-null object\n",
      "dtypes: float64(1), int64(1), object(6)\n",
      "memory usage: 65.8+ MB\n"
     ]
    }
   ],
   "source": [
    "d_cosmic = data.load('prepared', 'response_cosmic')\n",
    "d_cosmic.info()"
   ]
  },
  {
   "cell_type": "markdown",
   "metadata": {},
   "source": [
    "# Load CGDS Features"
   ]
  },
  {
   "cell_type": "code",
   "execution_count": 4,
   "metadata": {
    "collapsed": false
   },
   "outputs": [
    {
     "name": "stderr",
     "output_type": "stream",
     "text": [
      "2016-07-19 14:58:28,537:DEBUG:research.project.manager: Loading saved data from location \"/Users/eczech/data/research/musc_genomics/prepared/features_raw.pkl\"\n"
     ]
    },
    {
     "data": {
      "text/html": [
       "<div>\n",
       "<table border=\"1\" class=\"dataframe\">\n",
       "  <thead>\n",
       "    <tr style=\"text-align: right;\">\n",
       "      <th>FEATURE</th>\n",
       "      <th>CN:A1BG</th>\n",
       "      <th>CN:A1BG-AS1</th>\n",
       "      <th>CN:A1CF</th>\n",
       "      <th>CN:A2M</th>\n",
       "      <th>CN:A2ML1</th>\n",
       "      <th>CN:A4GALT</th>\n",
       "      <th>CN:A4GNT</th>\n",
       "      <th>CN:AAAS</th>\n",
       "      <th>CN:AACS</th>\n",
       "      <th>CN:AACSP1</th>\n",
       "    </tr>\n",
       "    <tr>\n",
       "      <th>TUMOR_ID</th>\n",
       "      <th></th>\n",
       "      <th></th>\n",
       "      <th></th>\n",
       "      <th></th>\n",
       "      <th></th>\n",
       "      <th></th>\n",
       "      <th></th>\n",
       "      <th></th>\n",
       "      <th></th>\n",
       "      <th></th>\n",
       "    </tr>\n",
       "  </thead>\n",
       "  <tbody>\n",
       "    <tr>\n",
       "      <th>1321N1</th>\n",
       "      <td>-0.15440</td>\n",
       "      <td>-0.15440</td>\n",
       "      <td>-0.09850</td>\n",
       "      <td>-0.1819</td>\n",
       "      <td>-0.1819</td>\n",
       "      <td>-0.1732</td>\n",
       "      <td>0.25750</td>\n",
       "      <td>-0.04040</td>\n",
       "      <td>-0.1284</td>\n",
       "      <td>0.1682</td>\n",
       "    </tr>\n",
       "    <tr>\n",
       "      <th>143B</th>\n",
       "      <td>-0.21200</td>\n",
       "      <td>-0.21200</td>\n",
       "      <td>0.15800</td>\n",
       "      <td>-0.1753</td>\n",
       "      <td>-0.1753</td>\n",
       "      <td>-0.2536</td>\n",
       "      <td>0.20600</td>\n",
       "      <td>-0.14450</td>\n",
       "      <td>-0.2757</td>\n",
       "      <td>0.2150</td>\n",
       "    </tr>\n",
       "    <tr>\n",
       "      <th>22RV1</th>\n",
       "      <td>-0.08084</td>\n",
       "      <td>-0.08084</td>\n",
       "      <td>-0.00250</td>\n",
       "      <td>0.4486</td>\n",
       "      <td>0.4486</td>\n",
       "      <td>-0.0574</td>\n",
       "      <td>-0.03030</td>\n",
       "      <td>0.46490</td>\n",
       "      <td>0.4406</td>\n",
       "      <td>-0.0518</td>\n",
       "    </tr>\n",
       "    <tr>\n",
       "      <th>2313287</th>\n",
       "      <td>-0.03310</td>\n",
       "      <td>-0.03310</td>\n",
       "      <td>-0.05348</td>\n",
       "      <td>-0.1917</td>\n",
       "      <td>-0.1917</td>\n",
       "      <td>-0.0512</td>\n",
       "      <td>-0.04608</td>\n",
       "      <td>-0.01474</td>\n",
       "      <td>-0.0516</td>\n",
       "      <td>-0.0514</td>\n",
       "    </tr>\n",
       "    <tr>\n",
       "      <th>253JBV</th>\n",
       "      <td>NaN</td>\n",
       "      <td>NaN</td>\n",
       "      <td>NaN</td>\n",
       "      <td>NaN</td>\n",
       "      <td>NaN</td>\n",
       "      <td>NaN</td>\n",
       "      <td>NaN</td>\n",
       "      <td>NaN</td>\n",
       "      <td>NaN</td>\n",
       "      <td>NaN</td>\n",
       "    </tr>\n",
       "  </tbody>\n",
       "</table>\n",
       "</div>"
      ],
      "text/plain": [
       "FEATURE   CN:A1BG  CN:A1BG-AS1  CN:A1CF  CN:A2M  CN:A2ML1  CN:A4GALT  \\\n",
       "TUMOR_ID                                                               \n",
       "1321N1   -0.15440     -0.15440 -0.09850 -0.1819   -0.1819    -0.1732   \n",
       "143B     -0.21200     -0.21200  0.15800 -0.1753   -0.1753    -0.2536   \n",
       "22RV1    -0.08084     -0.08084 -0.00250  0.4486    0.4486    -0.0574   \n",
       "2313287  -0.03310     -0.03310 -0.05348 -0.1917   -0.1917    -0.0512   \n",
       "253JBV        NaN          NaN      NaN     NaN       NaN        NaN   \n",
       "\n",
       "FEATURE   CN:A4GNT  CN:AAAS  CN:AACS  CN:AACSP1  \n",
       "TUMOR_ID                                         \n",
       "1321N1     0.25750 -0.04040  -0.1284     0.1682  \n",
       "143B       0.20600 -0.14450  -0.2757     0.2150  \n",
       "22RV1     -0.03030  0.46490   0.4406    -0.0518  \n",
       "2313287   -0.04608 -0.01474  -0.0516    -0.0514  \n",
       "253JBV         NaN      NaN      NaN        NaN  "
      ]
     },
     "execution_count": 4,
     "metadata": {},
     "output_type": "execute_result"
    }
   ],
   "source": [
    "d_cgds = data.load('prepared', 'features_raw')\n",
    "d_cgds.iloc[:5, :10]"
   ]
  },
  {
   "cell_type": "code",
   "execution_count": 6,
   "metadata": {
    "collapsed": false
   },
   "outputs": [
    {
     "data": {
      "text/plain": [
       "0.0    967\n",
       "1.0     52\n",
       "dtype: int64"
      ]
     },
     "execution_count": 6,
     "metadata": {},
     "output_type": "execute_result"
    }
   ],
   "source": [
    "d_cgds.filter(regex='^GE:').apply(pd.isnull).mean(axis=1).value_counts()"
   ]
  },
  {
   "cell_type": "code",
   "execution_count": 9,
   "metadata": {
    "collapsed": false
   },
   "outputs": [
    {
     "data": {
      "text/plain": [
       "[0.99, 1)       889\n",
       "[1, inf)        115\n",
       "[0.97, 0.99)     15\n",
       "[0.9, 0.97)       0\n",
       "[0.8, 0.9)        0\n",
       "dtype: int64"
      ]
     },
     "execution_count": 9,
     "metadata": {},
     "output_type": "execute_result"
    }
   ],
   "source": [
    "d_cgds.filter(regex='^MU:AAC').apply(pd.isnull).mean(axis=1)\\\n",
    "    .pipe(pd.cut, bins=[.8, .9, .97, .99, 1, np.inf], right=False).value_counts()"
   ]
  },
  {
   "cell_type": "markdown",
   "metadata": {
    "collapsed": true
   },
   "source": [
    "# Merge"
   ]
  },
  {
   "cell_type": "code",
   "execution_count": 10,
   "metadata": {
    "collapsed": false
   },
   "outputs": [
    {
     "name": "stdout",
     "output_type": "stream",
     "text": [
      "<class 'pandas.core.frame.DataFrame'>\n",
      "Index: 416 entries, 22RV1 to ZR7530\n",
      "Columns: 107384 entries, CN:A1BG to RES:VAL:SB590885\n",
      "dtypes: float64(107378), object(6)\n",
      "memory usage: 340.8+ MB\n"
     ]
    }
   ],
   "source": [
    "# This list should contain all drugs to undergo further study (it \n",
    "# should grow over time, and not be repeated in different scenarios\n",
    "# and saved to multiple merged results)\n",
    "drug_names = [\n",
    "    'PD-0332991', # Palbociclib\n",
    "    'ABT-263', # Navitoclax\n",
    "    'SB590885', 'PLX4720', 'Nutlin-3a', 'AZD2281', 'AG-014699'\n",
    "]\n",
    "\n",
    "d = modeling.get_modeling_data(d_cosmic, d_cgds, drug_names)\n",
    "d.info()"
   ]
  },
  {
   "cell_type": "code",
   "execution_count": 11,
   "metadata": {
    "collapsed": false
   },
   "outputs": [
    {
     "name": "stdout",
     "output_type": "stream",
     "text": [
      "<class 'pandas.core.frame.DataFrame'>\n",
      "Index: 416 entries, 22RV1 to ZR7530\n",
      "Data columns (total 8 columns):\n",
      "RES:CANCERTYPE        416 non-null object\n",
      "RES:TISSUE            416 non-null object\n",
      "RES:VAL:ABT-263       411 non-null float64\n",
      "RES:VAL:AG-014699     409 non-null float64\n",
      "RES:VAL:NUTLIN-3A     411 non-null float64\n",
      "RES:VAL:PD-0332991    389 non-null float64\n",
      "RES:VAL:PLX4720       411 non-null float64\n",
      "RES:VAL:SB590885      396 non-null float64\n",
      "dtypes: float64(6), object(2)\n",
      "memory usage: 29.2+ KB\n"
     ]
    }
   ],
   "source": [
    "d.filter(regex='RES:').info()"
   ]
  },
  {
   "cell_type": "markdown",
   "metadata": {},
   "source": [
    "# Export"
   ]
  },
  {
   "cell_type": "code",
   "execution_count": 12,
   "metadata": {
    "collapsed": false
   },
   "outputs": [
    {
     "name": "stderr",
     "output_type": "stream",
     "text": [
      "2016-07-19 15:00:20,829:DEBUG:research.project.manager: Saving data to location \"/Users/eczech/data/research/musc_genomics/prepared/modeling_data_merge_raw.pkl\"\n"
     ]
    },
    {
     "data": {
      "text/plain": [
       "'/Users/eczech/data/research/musc_genomics/prepared/modeling_data_merge_raw.pkl'"
      ]
     },
     "execution_count": 12,
     "metadata": {},
     "output_type": "execute_result"
    }
   ],
   "source": [
    "data.save('prepared', 'modeling_data_merge_raw', d)"
   ]
  },
  {
   "cell_type": "markdown",
   "metadata": {},
   "source": [
    "# Analysis"
   ]
  },
  {
   "cell_type": "code",
   "execution_count": 13,
   "metadata": {
    "collapsed": false
   },
   "outputs": [
    {
     "data": {
      "text/html": [
       "<div>\n",
       "<table border=\"1\" class=\"dataframe\">\n",
       "  <thead>\n",
       "    <tr style=\"text-align: right;\">\n",
       "      <th>FEATURE</th>\n",
       "      <th>CL:CANCER_TYPE</th>\n",
       "      <th>CL:HISTOLOGY</th>\n",
       "      <th>CL:PRIMARY_SITE</th>\n",
       "      <th>CL:GENDER</th>\n",
       "      <th>RES:CANCERTYPE</th>\n",
       "      <th>RES:TISSUE</th>\n",
       "      <th>RES:VAL:ABT-263</th>\n",
       "      <th>RES:VAL:AG-014699</th>\n",
       "      <th>RES:VAL:NUTLIN-3A</th>\n",
       "      <th>RES:VAL:PD-0332991</th>\n",
       "      <th>RES:VAL:PLX4720</th>\n",
       "      <th>RES:VAL:SB590885</th>\n",
       "    </tr>\n",
       "    <tr>\n",
       "      <th>TUMOR_ID</th>\n",
       "      <th></th>\n",
       "      <th></th>\n",
       "      <th></th>\n",
       "      <th></th>\n",
       "      <th></th>\n",
       "      <th></th>\n",
       "      <th></th>\n",
       "      <th></th>\n",
       "      <th></th>\n",
       "      <th></th>\n",
       "      <th></th>\n",
       "      <th></th>\n",
       "    </tr>\n",
       "  </thead>\n",
       "  <tbody>\n",
       "    <tr>\n",
       "      <th>22RV1</th>\n",
       "      <td>solid</td>\n",
       "      <td>carcinoma</td>\n",
       "      <td>prostate</td>\n",
       "      <td>male</td>\n",
       "      <td>urogenital_system</td>\n",
       "      <td>prostate</td>\n",
       "      <td>5.010086</td>\n",
       "      <td>2.676501</td>\n",
       "      <td>2.549906</td>\n",
       "      <td>0.517856</td>\n",
       "      <td>6.697773</td>\n",
       "      <td>4.639378</td>\n",
       "    </tr>\n",
       "    <tr>\n",
       "      <th>2313287</th>\n",
       "      <td>solid</td>\n",
       "      <td>carcinoma</td>\n",
       "      <td>stomach</td>\n",
       "      <td>male</td>\n",
       "      <td>digestive_system</td>\n",
       "      <td>stomach</td>\n",
       "      <td>3.649499</td>\n",
       "      <td>6.000943</td>\n",
       "      <td>3.039341</td>\n",
       "      <td>3.912658</td>\n",
       "      <td>6.753041</td>\n",
       "      <td>6.373648</td>\n",
       "    </tr>\n",
       "    <tr>\n",
       "      <th>5637</th>\n",
       "      <td>solid</td>\n",
       "      <td>carcinoma</td>\n",
       "      <td>urinary_tract</td>\n",
       "      <td>male</td>\n",
       "      <td>urogenital_system</td>\n",
       "      <td>bladder</td>\n",
       "      <td>1.283993</td>\n",
       "      <td>2.897053</td>\n",
       "      <td>6.412843</td>\n",
       "      <td>5.887130</td>\n",
       "      <td>2.998122</td>\n",
       "      <td>5.108025</td>\n",
       "    </tr>\n",
       "    <tr>\n",
       "      <th>639V</th>\n",
       "      <td>solid</td>\n",
       "      <td>carcinoma</td>\n",
       "      <td>urinary_tract</td>\n",
       "      <td>male</td>\n",
       "      <td>urogenital_system</td>\n",
       "      <td>bladder</td>\n",
       "      <td>3.378504</td>\n",
       "      <td>5.784257</td>\n",
       "      <td>3.779543</td>\n",
       "      <td>3.054728</td>\n",
       "      <td>6.816524</td>\n",
       "      <td>6.274532</td>\n",
       "    </tr>\n",
       "    <tr>\n",
       "      <th>647V</th>\n",
       "      <td>solid</td>\n",
       "      <td>carcinoma</td>\n",
       "      <td>urinary_tract</td>\n",
       "      <td>male</td>\n",
       "      <td>urogenital_system</td>\n",
       "      <td>bladder</td>\n",
       "      <td>4.510450</td>\n",
       "      <td>3.973549</td>\n",
       "      <td>6.739784</td>\n",
       "      <td>5.881208</td>\n",
       "      <td>6.842532</td>\n",
       "      <td>6.625275</td>\n",
       "    </tr>\n",
       "  </tbody>\n",
       "</table>\n",
       "</div>"
      ],
      "text/plain": [
       "FEATURE  CL:CANCER_TYPE CL:HISTOLOGY CL:PRIMARY_SITE CL:GENDER  \\\n",
       "TUMOR_ID                                                         \n",
       "22RV1             solid    carcinoma        prostate      male   \n",
       "2313287           solid    carcinoma         stomach      male   \n",
       "5637              solid    carcinoma   urinary_tract      male   \n",
       "639V              solid    carcinoma   urinary_tract      male   \n",
       "647V              solid    carcinoma   urinary_tract      male   \n",
       "\n",
       "FEATURE      RES:CANCERTYPE RES:TISSUE  RES:VAL:ABT-263  RES:VAL:AG-014699  \\\n",
       "TUMOR_ID                                                                     \n",
       "22RV1     urogenital_system   prostate         5.010086           2.676501   \n",
       "2313287    digestive_system    stomach         3.649499           6.000943   \n",
       "5637      urogenital_system    bladder         1.283993           2.897053   \n",
       "639V      urogenital_system    bladder         3.378504           5.784257   \n",
       "647V      urogenital_system    bladder         4.510450           3.973549   \n",
       "\n",
       "FEATURE   RES:VAL:NUTLIN-3A  RES:VAL:PD-0332991  RES:VAL:PLX4720  \\\n",
       "TUMOR_ID                                                           \n",
       "22RV1              2.549906            0.517856         6.697773   \n",
       "2313287            3.039341            3.912658         6.753041   \n",
       "5637               6.412843            5.887130         2.998122   \n",
       "639V               3.779543            3.054728         6.816524   \n",
       "647V               6.739784            5.881208         6.842532   \n",
       "\n",
       "FEATURE   RES:VAL:SB590885  \n",
       "TUMOR_ID                    \n",
       "22RV1             4.639378  \n",
       "2313287           6.373648  \n",
       "5637              5.108025  \n",
       "639V              6.274532  \n",
       "647V              6.625275  "
      ]
     },
     "execution_count": 13,
     "metadata": {},
     "output_type": "execute_result"
    }
   ],
   "source": [
    "d.filter(regex='^RES:|^CL:').head()"
   ]
  },
  {
   "cell_type": "code",
   "execution_count": 14,
   "metadata": {
    "collapsed": false
   },
   "outputs": [
    {
     "data": {
      "text/html": [
       "<div>\n",
       "<table border=\"1\" class=\"dataframe\">\n",
       "  <thead>\n",
       "    <tr style=\"text-align: right;\">\n",
       "      <th>FEATURE</th>\n",
       "      <th>CN:A1BG</th>\n",
       "      <th>CN:A1BG-AS1</th>\n",
       "      <th>CN:A1CF</th>\n",
       "      <th>CN:A2M</th>\n",
       "      <th>CN:A2ML1</th>\n",
       "    </tr>\n",
       "    <tr>\n",
       "      <th>TUMOR_ID</th>\n",
       "      <th></th>\n",
       "      <th></th>\n",
       "      <th></th>\n",
       "      <th></th>\n",
       "      <th></th>\n",
       "    </tr>\n",
       "  </thead>\n",
       "  <tbody>\n",
       "    <tr>\n",
       "      <th>COLO741</th>\n",
       "      <td>-0.8174</td>\n",
       "      <td>-0.8174</td>\n",
       "      <td>-0.2233</td>\n",
       "      <td>0.0218</td>\n",
       "      <td>0.0218</td>\n",
       "    </tr>\n",
       "  </tbody>\n",
       "</table>\n",
       "</div>"
      ],
      "text/plain": [
       "FEATURE   CN:A1BG  CN:A1BG-AS1  CN:A1CF  CN:A2M  CN:A2ML1\n",
       "TUMOR_ID                                                 \n",
       "COLO741   -0.8174      -0.8174  -0.2233  0.0218    0.0218"
      ]
     },
     "execution_count": 14,
     "metadata": {},
     "output_type": "execute_result"
    }
   ],
   "source": [
    "d[(d['CL:PRIMARY_SITE'] == 'skin') & (d['RES:TISSUE'] == 'large_intestine')].iloc[:5, :5]"
   ]
  },
  {
   "cell_type": "code",
   "execution_count": 15,
   "metadata": {
    "collapsed": false
   },
   "outputs": [
    {
     "data": {
      "text/plain": [
       "CL:PRIMARY_SITE                     RES:TISSUE                        \n",
       "autonomic_ganglia                   neuroblastoma                          9\n",
       "bone                                bone_other                             1\n",
       "                                    ewings_sarcoma                         1\n",
       "                                    osteosarcoma                           3\n",
       "                                    rhabdomyosarcoma                       1\n",
       "breast                              breast                                34\n",
       "central_nervous_system              glioma                                25\n",
       "                                    medulloblastoma                        2\n",
       "endometrium                         endometrium                            9\n",
       "haematopoietic_and_lymphoid_tissue  acute_myeloid_leukaemia               11\n",
       "                                    anaplastic_large_cell_lymphoma         1\n",
       "                                    b_cell_leukemia                        3\n",
       "                                    b_cell_lymphoma                        7\n",
       "                                    burkitt_lymphoma                       4\n",
       "                                    chronic_myeloid_leukaemia              6\n",
       "                                    haematopoietic_neoplasm_other          1\n",
       "                                    hodgkin_lymphoma                       5\n",
       "                                    leukemia                               2\n",
       "                                    lymphoblastic_leukemia                 3\n",
       "                                    lymphoblastic_t_cell_leukaemia         7\n",
       "                                    lymphoid_neoplasm_other                3\n",
       "                                    myeloma                                5\n",
       "                                    t_cell_leukemia                        1\n",
       "kidney                              kidney                                10\n",
       "large_intestine                     large_intestine                       26\n",
       "liver                               liver                                  6\n",
       "lung                                lung_nsclc_adenocarcinoma             44\n",
       "                                    lung_nsclc_carcinoid                   1\n",
       "                                    lung_nsclc_large_cell                 11\n",
       "                                    lung_nsclc_not_specified               2\n",
       "                                    lung_nsclc_squamous_cell_carcinoma     8\n",
       "                                    lung_small_cell_carcinoma             23\n",
       "oesophagus                          oesophagus                            21\n",
       "ovary                               ovary                                 12\n",
       "pancreas                            pancreas                              10\n",
       "pleura                              mesothelioma                           6\n",
       "prostate                            prostate                               3\n",
       "salivary_gland                      head_and_neck                          1\n",
       "skin                                large_intestine                        1\n",
       "                                    melanoma                              29\n",
       "small_intestine                     digestive_system_other                 1\n",
       "soft_tissue                         fibrosarcoma                           1\n",
       "                                    kidney                                 1\n",
       "                                    rhabdomyosarcoma                       3\n",
       "                                    soft_tissue_other                      4\n",
       "                                    thyroid                                1\n",
       "                                    uterus                                 1\n",
       "stomach                             stomach                               11\n",
       "thyroid                             thyroid                                7\n",
       "upper_aerodigestive_tract           head_and_neck                         12\n",
       "urinary_tract                       bladder                               16\n",
       "dtype: int64"
      ]
     },
     "execution_count": 15,
     "metadata": {},
     "output_type": "execute_result"
    }
   ],
   "source": [
    "d.groupby(['CL:PRIMARY_SITE', 'RES:TISSUE']).size()"
   ]
  }
 ],
 "metadata": {
  "kernelspec": {
   "display_name": "Python 3",
   "language": "python",
   "name": "python3"
  },
  "language_info": {
   "codemirror_mode": {
    "name": "ipython",
    "version": 3
   },
   "file_extension": ".py",
   "mimetype": "text/x-python",
   "name": "python",
   "nbconvert_exporter": "python",
   "pygments_lexer": "ipython3",
   "version": "3.5.2"
  }
 },
 "nbformat": 4,
 "nbformat_minor": 0
}
