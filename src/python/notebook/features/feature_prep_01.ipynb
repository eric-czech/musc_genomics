{
 "cells": [
  {
   "cell_type": "code",
   "execution_count": 1,
   "metadata": {
    "collapsed": true
   },
   "outputs": [],
   "source": [
    "%run -m ipy_startup\n",
    "%run -m ipy_logging\n",
    "%matplotlib inline\n",
    "from musc_genomics import data\n",
    "pd.set_option('max_info_rows', 10000)"
   ]
  },
  {
   "cell_type": "code",
   "execution_count": 2,
   "metadata": {
    "collapsed": false
   },
   "outputs": [
    {
     "name": "stderr",
     "output_type": "stream",
     "text": [
      "2016-07-19 15:01:08,237:DEBUG:research.project.manager: Loading saved data from location \"/Users/eczech/data/research/musc_genomics/prepared/modeling_data_merge_raw.pkl\"\n"
     ]
    }
   ],
   "source": [
    "d_raw = data.load('prepared', 'modeling_data_merge_raw')"
   ]
  },
  {
   "cell_type": "code",
   "execution_count": 3,
   "metadata": {
    "collapsed": false
   },
   "outputs": [
    {
     "name": "stdout",
     "output_type": "stream",
     "text": [
      "<class 'pandas.core.frame.DataFrame'>\n",
      "Index: 416 entries, 22RV1 to ZR7530\n",
      "Data columns (total 12 columns):\n",
      "CL:CANCER_TYPE        416 non-null object\n",
      "CL:HISTOLOGY          416 non-null object\n",
      "CL:PRIMARY_SITE       416 non-null object\n",
      "CL:GENDER             416 non-null object\n",
      "RES:CANCERTYPE        416 non-null object\n",
      "RES:TISSUE            416 non-null object\n",
      "RES:VAL:ABT-263       411 non-null float64\n",
      "RES:VAL:AG-014699     409 non-null float64\n",
      "RES:VAL:NUTLIN-3A     411 non-null float64\n",
      "RES:VAL:PD-0332991    389 non-null float64\n",
      "RES:VAL:PLX4720       411 non-null float64\n",
      "RES:VAL:SB590885      396 non-null float64\n",
      "dtypes: float64(6), object(6)\n",
      "memory usage: 42.2+ KB\n"
     ]
    }
   ],
   "source": [
    "d_raw.filter(regex='^RES:|^CL:').info()"
   ]
  },
  {
   "cell_type": "code",
   "execution_count": 4,
   "metadata": {
    "collapsed": false
   },
   "outputs": [
    {
     "data": {
      "text/html": [
       "<div>\n",
       "<table border=\"1\" class=\"dataframe\">\n",
       "  <thead>\n",
       "    <tr style=\"text-align: right;\">\n",
       "      <th>FEATURE</th>\n",
       "      <th>CL:CANCER_TYPE</th>\n",
       "      <th>CL:HISTOLOGY</th>\n",
       "      <th>CL:PRIMARY_SITE</th>\n",
       "      <th>CL:GENDER</th>\n",
       "      <th>RES:CANCERTYPE</th>\n",
       "      <th>RES:TISSUE</th>\n",
       "      <th>RES:VAL:ABT-263</th>\n",
       "      <th>RES:VAL:AG-014699</th>\n",
       "      <th>RES:VAL:NUTLIN-3A</th>\n",
       "      <th>RES:VAL:PD-0332991</th>\n",
       "      <th>RES:VAL:PLX4720</th>\n",
       "      <th>RES:VAL:SB590885</th>\n",
       "    </tr>\n",
       "    <tr>\n",
       "      <th>TUMOR_ID</th>\n",
       "      <th></th>\n",
       "      <th></th>\n",
       "      <th></th>\n",
       "      <th></th>\n",
       "      <th></th>\n",
       "      <th></th>\n",
       "      <th></th>\n",
       "      <th></th>\n",
       "      <th></th>\n",
       "      <th></th>\n",
       "      <th></th>\n",
       "      <th></th>\n",
       "    </tr>\n",
       "  </thead>\n",
       "  <tbody>\n",
       "    <tr>\n",
       "      <th>22RV1</th>\n",
       "      <td>solid</td>\n",
       "      <td>carcinoma</td>\n",
       "      <td>prostate</td>\n",
       "      <td>male</td>\n",
       "      <td>urogenital_system</td>\n",
       "      <td>prostate</td>\n",
       "      <td>5.010086</td>\n",
       "      <td>2.676501</td>\n",
       "      <td>2.549906</td>\n",
       "      <td>0.517856</td>\n",
       "      <td>6.697773</td>\n",
       "      <td>4.639378</td>\n",
       "    </tr>\n",
       "    <tr>\n",
       "      <th>2313287</th>\n",
       "      <td>solid</td>\n",
       "      <td>carcinoma</td>\n",
       "      <td>stomach</td>\n",
       "      <td>male</td>\n",
       "      <td>digestive_system</td>\n",
       "      <td>stomach</td>\n",
       "      <td>3.649499</td>\n",
       "      <td>6.000943</td>\n",
       "      <td>3.039341</td>\n",
       "      <td>3.912658</td>\n",
       "      <td>6.753041</td>\n",
       "      <td>6.373648</td>\n",
       "    </tr>\n",
       "    <tr>\n",
       "      <th>5637</th>\n",
       "      <td>solid</td>\n",
       "      <td>carcinoma</td>\n",
       "      <td>urinary_tract</td>\n",
       "      <td>male</td>\n",
       "      <td>urogenital_system</td>\n",
       "      <td>bladder</td>\n",
       "      <td>1.283993</td>\n",
       "      <td>2.897053</td>\n",
       "      <td>6.412843</td>\n",
       "      <td>5.887130</td>\n",
       "      <td>2.998122</td>\n",
       "      <td>5.108025</td>\n",
       "    </tr>\n",
       "    <tr>\n",
       "      <th>639V</th>\n",
       "      <td>solid</td>\n",
       "      <td>carcinoma</td>\n",
       "      <td>urinary_tract</td>\n",
       "      <td>male</td>\n",
       "      <td>urogenital_system</td>\n",
       "      <td>bladder</td>\n",
       "      <td>3.378504</td>\n",
       "      <td>5.784257</td>\n",
       "      <td>3.779543</td>\n",
       "      <td>3.054728</td>\n",
       "      <td>6.816524</td>\n",
       "      <td>6.274532</td>\n",
       "    </tr>\n",
       "    <tr>\n",
       "      <th>647V</th>\n",
       "      <td>solid</td>\n",
       "      <td>carcinoma</td>\n",
       "      <td>urinary_tract</td>\n",
       "      <td>male</td>\n",
       "      <td>urogenital_system</td>\n",
       "      <td>bladder</td>\n",
       "      <td>4.510450</td>\n",
       "      <td>3.973549</td>\n",
       "      <td>6.739784</td>\n",
       "      <td>5.881208</td>\n",
       "      <td>6.842532</td>\n",
       "      <td>6.625275</td>\n",
       "    </tr>\n",
       "  </tbody>\n",
       "</table>\n",
       "</div>"
      ],
      "text/plain": [
       "FEATURE  CL:CANCER_TYPE CL:HISTOLOGY CL:PRIMARY_SITE CL:GENDER  \\\n",
       "TUMOR_ID                                                         \n",
       "22RV1             solid    carcinoma        prostate      male   \n",
       "2313287           solid    carcinoma         stomach      male   \n",
       "5637              solid    carcinoma   urinary_tract      male   \n",
       "639V              solid    carcinoma   urinary_tract      male   \n",
       "647V              solid    carcinoma   urinary_tract      male   \n",
       "\n",
       "FEATURE      RES:CANCERTYPE RES:TISSUE  RES:VAL:ABT-263  RES:VAL:AG-014699  \\\n",
       "TUMOR_ID                                                                     \n",
       "22RV1     urogenital_system   prostate         5.010086           2.676501   \n",
       "2313287    digestive_system    stomach         3.649499           6.000943   \n",
       "5637      urogenital_system    bladder         1.283993           2.897053   \n",
       "639V      urogenital_system    bladder         3.378504           5.784257   \n",
       "647V      urogenital_system    bladder         4.510450           3.973549   \n",
       "\n",
       "FEATURE   RES:VAL:NUTLIN-3A  RES:VAL:PD-0332991  RES:VAL:PLX4720  \\\n",
       "TUMOR_ID                                                           \n",
       "22RV1              2.549906            0.517856         6.697773   \n",
       "2313287            3.039341            3.912658         6.753041   \n",
       "5637               6.412843            5.887130         2.998122   \n",
       "639V               3.779543            3.054728         6.816524   \n",
       "647V               6.739784            5.881208         6.842532   \n",
       "\n",
       "FEATURE   RES:VAL:SB590885  \n",
       "TUMOR_ID                    \n",
       "22RV1             4.639378  \n",
       "2313287           6.373648  \n",
       "5637              5.108025  \n",
       "639V              6.274532  \n",
       "647V              6.625275  "
      ]
     },
     "execution_count": 4,
     "metadata": {},
     "output_type": "execute_result"
    }
   ],
   "source": [
    "d_raw.filter(regex='^RES:|^CL:').head()"
   ]
  },
  {
   "cell_type": "code",
   "execution_count": 5,
   "metadata": {
    "collapsed": false
   },
   "outputs": [
    {
     "data": {
      "text/plain": [
       "carcinoma                                                     264\n",
       "lymphoid_neoplasm                                              37\n",
       "malignant_melanoma                                             30\n",
       "glioma                                                         25\n",
       "haematopoietic_neoplasm                                        21\n",
       "neuroblastoma                                                   9\n",
       "mesothelioma                                                    6\n",
       "unknown                                                         4\n",
       "osteosarcoma                                                    4\n",
       "rhabdomyosarcoma                                                3\n",
       "ewings_sarcoma-peripheral_primitive_neuroectodermal_tumour      2\n",
       "sarcoma                                                         2\n",
       "rhabdoid_tumour                                                 2\n",
       "primitive_neuroectodermal_tumour-medulloblastoma                2\n",
       "fibrosarcoma                                                    1\n",
       "other                                                           1\n",
       "carcinoid-endocrine_tumour                                      1\n",
       "leiomyosarcoma                                                  1\n",
       "malignant_fibrous_histiocytoma-pleomorphic_sarcoma              1\n",
       "Name: CL:HISTOLOGY, dtype: int64"
      ]
     },
     "execution_count": 5,
     "metadata": {},
     "output_type": "execute_result"
    }
   ],
   "source": [
    "d_raw['CL:HISTOLOGY'].value_counts()"
   ]
  },
  {
   "cell_type": "code",
   "execution_count": 6,
   "metadata": {
    "collapsed": false
   },
   "outputs": [
    {
     "data": {
      "text/html": [
       "<div>\n",
       "<table border=\"1\" class=\"dataframe\">\n",
       "  <thead>\n",
       "    <tr style=\"text-align: right;\">\n",
       "      <th></th>\n",
       "      <th></th>\n",
       "      <th>FEATURE</th>\n",
       "      <th>CN:A1BG</th>\n",
       "      <th>CN:A1BG-AS1</th>\n",
       "      <th>CN:A1CF</th>\n",
       "      <th>CN:A2M</th>\n",
       "      <th>CN:A2ML1</th>\n",
       "    </tr>\n",
       "    <tr>\n",
       "      <th>TUMOR_ID</th>\n",
       "      <th>RES:CANCERTYPE</th>\n",
       "      <th>RES:TISSUE</th>\n",
       "      <th></th>\n",
       "      <th></th>\n",
       "      <th></th>\n",
       "      <th></th>\n",
       "      <th></th>\n",
       "    </tr>\n",
       "  </thead>\n",
       "  <tbody>\n",
       "    <tr>\n",
       "      <th>22RV1</th>\n",
       "      <th>urogenital_system</th>\n",
       "      <th>prostate</th>\n",
       "      <td>-0.08084</td>\n",
       "      <td>-0.08084</td>\n",
       "      <td>-0.00250</td>\n",
       "      <td>0.4486</td>\n",
       "      <td>0.4486</td>\n",
       "    </tr>\n",
       "    <tr>\n",
       "      <th>2313287</th>\n",
       "      <th>digestive_system</th>\n",
       "      <th>stomach</th>\n",
       "      <td>-0.03310</td>\n",
       "      <td>-0.03310</td>\n",
       "      <td>-0.05348</td>\n",
       "      <td>-0.1917</td>\n",
       "      <td>-0.1917</td>\n",
       "    </tr>\n",
       "    <tr>\n",
       "      <th>5637</th>\n",
       "      <th>urogenital_system</th>\n",
       "      <th>bladder</th>\n",
       "      <td>-0.03514</td>\n",
       "      <td>-0.03514</td>\n",
       "      <td>-0.49350</td>\n",
       "      <td>-0.0657</td>\n",
       "      <td>-0.0657</td>\n",
       "    </tr>\n",
       "    <tr>\n",
       "      <th>639V</th>\n",
       "      <th>urogenital_system</th>\n",
       "      <th>bladder</th>\n",
       "      <td>0.08280</td>\n",
       "      <td>0.08280</td>\n",
       "      <td>0.05900</td>\n",
       "      <td>0.3126</td>\n",
       "      <td>0.3126</td>\n",
       "    </tr>\n",
       "    <tr>\n",
       "      <th>647V</th>\n",
       "      <th>urogenital_system</th>\n",
       "      <th>bladder</th>\n",
       "      <td>0.29130</td>\n",
       "      <td>0.29130</td>\n",
       "      <td>-0.32300</td>\n",
       "      <td>0.1603</td>\n",
       "      <td>0.1603</td>\n",
       "    </tr>\n",
       "  </tbody>\n",
       "</table>\n",
       "</div>"
      ],
      "text/plain": [
       "FEATURE                                CN:A1BG  CN:A1BG-AS1  CN:A1CF  CN:A2M  \\\n",
       "TUMOR_ID RES:CANCERTYPE    RES:TISSUE                                          \n",
       "22RV1    urogenital_system prostate   -0.08084     -0.08084 -0.00250  0.4486   \n",
       "2313287  digestive_system  stomach    -0.03310     -0.03310 -0.05348 -0.1917   \n",
       "5637     urogenital_system bladder    -0.03514     -0.03514 -0.49350 -0.0657   \n",
       "639V     urogenital_system bladder     0.08280      0.08280  0.05900  0.3126   \n",
       "647V     urogenital_system bladder     0.29130      0.29130 -0.32300  0.1603   \n",
       "\n",
       "FEATURE                                CN:A2ML1  \n",
       "TUMOR_ID RES:CANCERTYPE    RES:TISSUE            \n",
       "22RV1    urogenital_system prostate      0.4486  \n",
       "2313287  digestive_system  stomach      -0.1917  \n",
       "5637     urogenital_system bladder      -0.0657  \n",
       "639V     urogenital_system bladder       0.3126  \n",
       "647V     urogenital_system bladder       0.1603  "
      ]
     },
     "execution_count": 6,
     "metadata": {},
     "output_type": "execute_result"
    }
   ],
   "source": [
    "c_idx = ['TUMOR_ID', 'RES:CANCERTYPE', 'RES:TISSUE']\n",
    "d = d_raw.reset_index()\n",
    "\n",
    "# Ensure that all metadata values are currently non-null before pushing them\n",
    "# into an index\n",
    "assert np.all(d[c_idx].notnull())\n",
    "\n",
    "d = d.set_index(c_idx)\n",
    "\n",
    "d.iloc[:5, :5]"
   ]
  },
  {
   "cell_type": "markdown",
   "metadata": {},
   "source": [
    "## Minimally Encoded Feature Set"
   ]
  },
  {
   "cell_type": "code",
   "execution_count": 7,
   "metadata": {
    "collapsed": false
   },
   "outputs": [],
   "source": [
    "from sklearn.preprocessing import LabelEncoder\n",
    "\n",
    "d_encode_min = d.copy()\n",
    "encoders = {}\n",
    "\n",
    "# For each of the following non-numeric values, apply a label encoder\n",
    "# and save that encoder in a map to eventually be attached to resulting data frame\n",
    "c_encode = ['CL:PRIMARY_SITE', 'CL:CANCER_TYPE', 'CL:HISTOLOGY', 'CL:GENDER']\n",
    "for c in c_encode:\n",
    "    assert np.all(d_encode_min[c].notnull()), 'Categorical variable \"{}\" has null values'.format(c)\n",
    "    encoders[c] = LabelEncoder().fit(d_encode_min[c].values)\n",
    "    d_encode_min[c] = encoders[c].transform(d_encode_min[c]).astype(np.float64)\n",
    "d_encode_min.label_encoders = encoders\n",
    "\n",
    "# Ensure that all features have been encoded in some numeric form at this point\n",
    "assert np.all(d_encode_min.dtypes == np.float64), 'Some features are still not floating point values'"
   ]
  },
  {
   "cell_type": "code",
   "execution_count": 8,
   "metadata": {
    "collapsed": false
   },
   "outputs": [
    {
     "data": {
      "text/html": [
       "<div>\n",
       "<table border=\"1\" class=\"dataframe\">\n",
       "  <thead>\n",
       "    <tr style=\"text-align: right;\">\n",
       "      <th></th>\n",
       "      <th>count</th>\n",
       "      <th>mean</th>\n",
       "      <th>std</th>\n",
       "      <th>min</th>\n",
       "      <th>25%</th>\n",
       "      <th>50%</th>\n",
       "      <th>75%</th>\n",
       "      <th>max</th>\n",
       "    </tr>\n",
       "    <tr>\n",
       "      <th>FEATURE</th>\n",
       "      <th></th>\n",
       "      <th></th>\n",
       "      <th></th>\n",
       "      <th></th>\n",
       "      <th></th>\n",
       "      <th></th>\n",
       "      <th></th>\n",
       "      <th></th>\n",
       "    </tr>\n",
       "  </thead>\n",
       "  <tbody>\n",
       "    <tr>\n",
       "      <th>CL:CANCER_TYPE</th>\n",
       "      <td>416.0</td>\n",
       "      <td>0.870192</td>\n",
       "      <td>0.364015</td>\n",
       "      <td>0.0</td>\n",
       "      <td>1.0</td>\n",
       "      <td>1.0</td>\n",
       "      <td>1.0</td>\n",
       "      <td>2.0</td>\n",
       "    </tr>\n",
       "    <tr>\n",
       "      <th>CL:HISTOLOGY</th>\n",
       "      <td>416.0</td>\n",
       "      <td>3.487981</td>\n",
       "      <td>3.928867</td>\n",
       "      <td>0.0</td>\n",
       "      <td>1.0</td>\n",
       "      <td>1.0</td>\n",
       "      <td>5.0</td>\n",
       "      <td>18.0</td>\n",
       "    </tr>\n",
       "    <tr>\n",
       "      <th>CL:PRIMARY_SITE</th>\n",
       "      <td>416.0</td>\n",
       "      <td>9.187500</td>\n",
       "      <td>5.865023</td>\n",
       "      <td>0.0</td>\n",
       "      <td>5.0</td>\n",
       "      <td>9.0</td>\n",
       "      <td>12.0</td>\n",
       "      <td>22.0</td>\n",
       "    </tr>\n",
       "    <tr>\n",
       "      <th>CL:GENDER</th>\n",
       "      <td>416.0</td>\n",
       "      <td>0.704327</td>\n",
       "      <td>0.633659</td>\n",
       "      <td>0.0</td>\n",
       "      <td>0.0</td>\n",
       "      <td>1.0</td>\n",
       "      <td>1.0</td>\n",
       "      <td>2.0</td>\n",
       "    </tr>\n",
       "  </tbody>\n",
       "</table>\n",
       "</div>"
      ],
      "text/plain": [
       "                 count      mean       std  min  25%  50%   75%   max\n",
       "FEATURE                                                              \n",
       "CL:CANCER_TYPE   416.0  0.870192  0.364015  0.0  1.0  1.0   1.0   2.0\n",
       "CL:HISTOLOGY     416.0  3.487981  3.928867  0.0  1.0  1.0   5.0  18.0\n",
       "CL:PRIMARY_SITE  416.0  9.187500  5.865023  0.0  5.0  9.0  12.0  22.0\n",
       "CL:GENDER        416.0  0.704327  0.633659  0.0  0.0  1.0   1.0   2.0"
      ]
     },
     "execution_count": 8,
     "metadata": {},
     "output_type": "execute_result"
    }
   ],
   "source": [
    "d_encode_min.filter(regex='^CL:').describe().T"
   ]
  },
  {
   "cell_type": "code",
   "execution_count": 9,
   "metadata": {
    "collapsed": false
   },
   "outputs": [
    {
     "name": "stderr",
     "output_type": "stream",
     "text": [
      "2016-07-19 15:01:18,820:DEBUG:research.project.manager: Saving data to location \"/Users/eczech/data/research/musc_genomics/features/encode_minimal.pkl\"\n"
     ]
    },
    {
     "data": {
      "text/plain": [
       "'/Users/eczech/data/research/musc_genomics/features/encode_minimal.pkl'"
      ]
     },
     "execution_count": 9,
     "metadata": {},
     "output_type": "execute_result"
    }
   ],
   "source": [
    "data.save('features', 'encode_minimal', d_encode_min)"
   ]
  },
  {
   "cell_type": "markdown",
   "metadata": {},
   "source": [
    "## Maximally Encoded Feature Set"
   ]
  },
  {
   "cell_type": "code",
   "execution_count": 10,
   "metadata": {
    "collapsed": true
   },
   "outputs": [],
   "source": [
    "d_encode_max = d.copy()\n",
    "\n",
    "# For each of the following non-numeric values, apply dummy encoding\n",
    "c_encode = ['CL:PRIMARY_SITE', 'CL:CANCER_TYPE', 'CL:HISTOLOGY', 'CL:GENDER']\n",
    "for c in c_encode:\n",
    "    assert np.all(d_encode_max[c].notnull()), 'Categorical variable \"{}\" has null values'.format(c)\n",
    "    \n",
    "    d_encode_max = pd.concat([\n",
    "        d_encode_max.drop(c, axis=1),\n",
    "        pd.get_dummies(d_encode_max[c], prefix_sep=':', prefix=c)\n",
    "    ], axis=1)\n",
    "\n",
    "    # Remove \"unknown\" values?\n",
    "    #     c_ref = c + ':unknown'\n",
    "    #     if c_ref in d_encode_max:\n",
    "    #         d_encode_max = d_encode_max.drop(c_ref, axis=1)\n",
    "    \n",
    "# Ensure that all features have been encoded in some numeric form at this point\n",
    "assert np.all(d_encode_max.dtypes == np.float64), 'Some features are still not floating point values'"
   ]
  },
  {
   "cell_type": "code",
   "execution_count": 11,
   "metadata": {
    "collapsed": false
   },
   "outputs": [
    {
     "data": {
      "text/html": [
       "<div>\n",
       "<table border=\"1\" class=\"dataframe\">\n",
       "  <thead>\n",
       "    <tr style=\"text-align: right;\">\n",
       "      <th></th>\n",
       "      <th></th>\n",
       "      <th>FEATURE</th>\n",
       "      <th>CN:A1BG</th>\n",
       "      <th>CN:A1BG-AS1</th>\n",
       "      <th>CN:A1CF</th>\n",
       "      <th>CN:A2M</th>\n",
       "      <th>CN:A2ML1</th>\n",
       "    </tr>\n",
       "    <tr>\n",
       "      <th>TUMOR_ID</th>\n",
       "      <th>RES:CANCERTYPE</th>\n",
       "      <th>RES:TISSUE</th>\n",
       "      <th></th>\n",
       "      <th></th>\n",
       "      <th></th>\n",
       "      <th></th>\n",
       "      <th></th>\n",
       "    </tr>\n",
       "  </thead>\n",
       "  <tbody>\n",
       "    <tr>\n",
       "      <th>22RV1</th>\n",
       "      <th>urogenital_system</th>\n",
       "      <th>prostate</th>\n",
       "      <td>-0.08084</td>\n",
       "      <td>-0.08084</td>\n",
       "      <td>-0.00250</td>\n",
       "      <td>0.4486</td>\n",
       "      <td>0.4486</td>\n",
       "    </tr>\n",
       "    <tr>\n",
       "      <th>2313287</th>\n",
       "      <th>digestive_system</th>\n",
       "      <th>stomach</th>\n",
       "      <td>-0.03310</td>\n",
       "      <td>-0.03310</td>\n",
       "      <td>-0.05348</td>\n",
       "      <td>-0.1917</td>\n",
       "      <td>-0.1917</td>\n",
       "    </tr>\n",
       "    <tr>\n",
       "      <th>5637</th>\n",
       "      <th>urogenital_system</th>\n",
       "      <th>bladder</th>\n",
       "      <td>-0.03514</td>\n",
       "      <td>-0.03514</td>\n",
       "      <td>-0.49350</td>\n",
       "      <td>-0.0657</td>\n",
       "      <td>-0.0657</td>\n",
       "    </tr>\n",
       "  </tbody>\n",
       "</table>\n",
       "</div>"
      ],
      "text/plain": [
       "FEATURE                                CN:A1BG  CN:A1BG-AS1  CN:A1CF  CN:A2M  \\\n",
       "TUMOR_ID RES:CANCERTYPE    RES:TISSUE                                          \n",
       "22RV1    urogenital_system prostate   -0.08084     -0.08084 -0.00250  0.4486   \n",
       "2313287  digestive_system  stomach    -0.03310     -0.03310 -0.05348 -0.1917   \n",
       "5637     urogenital_system bladder    -0.03514     -0.03514 -0.49350 -0.0657   \n",
       "\n",
       "FEATURE                                CN:A2ML1  \n",
       "TUMOR_ID RES:CANCERTYPE    RES:TISSUE            \n",
       "22RV1    urogenital_system prostate      0.4486  \n",
       "2313287  digestive_system  stomach      -0.1917  \n",
       "5637     urogenital_system bladder      -0.0657  "
      ]
     },
     "execution_count": 11,
     "metadata": {},
     "output_type": "execute_result"
    }
   ],
   "source": [
    "d_encode_max.iloc[:3, :5]"
   ]
  },
  {
   "cell_type": "code",
   "execution_count": 13,
   "metadata": {
    "collapsed": false
   },
   "outputs": [
    {
     "data": {
      "text/html": [
       "<div>\n",
       "<table border=\"1\" class=\"dataframe\">\n",
       "  <thead>\n",
       "    <tr style=\"text-align: right;\">\n",
       "      <th></th>\n",
       "      <th>count</th>\n",
       "      <th>mean</th>\n",
       "      <th>std</th>\n",
       "      <th>min</th>\n",
       "      <th>25%</th>\n",
       "      <th>50%</th>\n",
       "      <th>75%</th>\n",
       "      <th>max</th>\n",
       "    </tr>\n",
       "    <tr>\n",
       "      <th>FEATURE</th>\n",
       "      <th></th>\n",
       "      <th></th>\n",
       "      <th></th>\n",
       "      <th></th>\n",
       "      <th></th>\n",
       "      <th></th>\n",
       "      <th></th>\n",
       "      <th></th>\n",
       "    </tr>\n",
       "  </thead>\n",
       "  <tbody>\n",
       "    <tr>\n",
       "      <th>CL:PRIMARY_SITE:autonomic_ganglia</th>\n",
       "      <td>416.0</td>\n",
       "      <td>0.021635</td>\n",
       "      <td>0.145662</td>\n",
       "      <td>0.0</td>\n",
       "      <td>0.0</td>\n",
       "      <td>0.0</td>\n",
       "      <td>0.0</td>\n",
       "      <td>1.0</td>\n",
       "    </tr>\n",
       "    <tr>\n",
       "      <th>CL:PRIMARY_SITE:bone</th>\n",
       "      <td>416.0</td>\n",
       "      <td>0.014423</td>\n",
       "      <td>0.119370</td>\n",
       "      <td>0.0</td>\n",
       "      <td>0.0</td>\n",
       "      <td>0.0</td>\n",
       "      <td>0.0</td>\n",
       "      <td>1.0</td>\n",
       "    </tr>\n",
       "    <tr>\n",
       "      <th>CL:PRIMARY_SITE:breast</th>\n",
       "      <td>416.0</td>\n",
       "      <td>0.081731</td>\n",
       "      <td>0.274284</td>\n",
       "      <td>0.0</td>\n",
       "      <td>0.0</td>\n",
       "      <td>0.0</td>\n",
       "      <td>0.0</td>\n",
       "      <td>1.0</td>\n",
       "    </tr>\n",
       "    <tr>\n",
       "      <th>CL:PRIMARY_SITE:central_nervous_system</th>\n",
       "      <td>416.0</td>\n",
       "      <td>0.064904</td>\n",
       "      <td>0.246653</td>\n",
       "      <td>0.0</td>\n",
       "      <td>0.0</td>\n",
       "      <td>0.0</td>\n",
       "      <td>0.0</td>\n",
       "      <td>1.0</td>\n",
       "    </tr>\n",
       "    <tr>\n",
       "      <th>CL:PRIMARY_SITE:endometrium</th>\n",
       "      <td>416.0</td>\n",
       "      <td>0.021635</td>\n",
       "      <td>0.145662</td>\n",
       "      <td>0.0</td>\n",
       "      <td>0.0</td>\n",
       "      <td>0.0</td>\n",
       "      <td>0.0</td>\n",
       "      <td>1.0</td>\n",
       "    </tr>\n",
       "  </tbody>\n",
       "</table>\n",
       "</div>"
      ],
      "text/plain": [
       "                                        count      mean       std  min  25%  \\\n",
       "FEATURE                                                                       \n",
       "CL:PRIMARY_SITE:autonomic_ganglia       416.0  0.021635  0.145662  0.0  0.0   \n",
       "CL:PRIMARY_SITE:bone                    416.0  0.014423  0.119370  0.0  0.0   \n",
       "CL:PRIMARY_SITE:breast                  416.0  0.081731  0.274284  0.0  0.0   \n",
       "CL:PRIMARY_SITE:central_nervous_system  416.0  0.064904  0.246653  0.0  0.0   \n",
       "CL:PRIMARY_SITE:endometrium             416.0  0.021635  0.145662  0.0  0.0   \n",
       "\n",
       "                                        50%  75%  max  \n",
       "FEATURE                                                \n",
       "CL:PRIMARY_SITE:autonomic_ganglia       0.0  0.0  1.0  \n",
       "CL:PRIMARY_SITE:bone                    0.0  0.0  1.0  \n",
       "CL:PRIMARY_SITE:breast                  0.0  0.0  1.0  \n",
       "CL:PRIMARY_SITE:central_nervous_system  0.0  0.0  1.0  \n",
       "CL:PRIMARY_SITE:endometrium             0.0  0.0  1.0  "
      ]
     },
     "execution_count": 13,
     "metadata": {},
     "output_type": "execute_result"
    }
   ],
   "source": [
    "d_encode_max.filter(regex='^CL:').describe().T.head()"
   ]
  },
  {
   "cell_type": "code",
   "execution_count": 14,
   "metadata": {
    "collapsed": false
   },
   "outputs": [
    {
     "name": "stderr",
     "output_type": "stream",
     "text": [
      "2016-07-19 15:01:31,819:DEBUG:research.project.manager: Saving data to location \"/Users/eczech/data/research/musc_genomics/features/encode_maximal.pkl\"\n"
     ]
    },
    {
     "data": {
      "text/plain": [
       "'/Users/eczech/data/research/musc_genomics/features/encode_maximal.pkl'"
      ]
     },
     "execution_count": 14,
     "metadata": {},
     "output_type": "execute_result"
    }
   ],
   "source": [
    "data.save('features', 'encode_maximal', d_encode_max)"
   ]
  },
  {
   "cell_type": "code",
   "execution_count": null,
   "metadata": {
    "collapsed": true
   },
   "outputs": [],
   "source": []
  }
 ],
 "metadata": {
  "kernelspec": {
   "display_name": "Python 3",
   "language": "python",
   "name": "python3"
  },
  "language_info": {
   "codemirror_mode": {
    "name": "ipython",
    "version": 3
   },
   "file_extension": ".py",
   "mimetype": "text/x-python",
   "name": "python",
   "nbconvert_exporter": "python",
   "pygments_lexer": "ipython3",
   "version": "3.5.2"
  }
 },
 "nbformat": 4,
 "nbformat_minor": 0
}
