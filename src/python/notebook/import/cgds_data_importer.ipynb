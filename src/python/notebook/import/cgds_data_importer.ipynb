{
 "cells": [
  {
   "cell_type": "code",
   "execution_count": 1,
   "metadata": {
    "collapsed": false
   },
   "outputs": [],
   "source": [
    "%run -m ipy_startup\n",
    "%run -m ipy_logging\n",
    "from py_utils.collection_utils import to_batches\n",
    "from musc_genomics import data\n",
    "from musc_genomics.data_import import cgds, hugo, api"
   ]
  },
  {
   "cell_type": "code",
   "execution_count": 2,
   "metadata": {
    "collapsed": false
   },
   "outputs": [
    {
     "name": "stderr",
     "output_type": "stream",
     "text": [
      "2016-07-06 11:35:55,099:DEBUG:musc_genomics.data: Loading saved data from location \"/Users/eczech/data/research/musc_genomics/materialized/hugo.pkl\"\n"
     ]
    }
   ],
   "source": [
    "ids = api.get_gene_ids()"
   ]
  },
  {
   "cell_type": "code",
   "execution_count": 7,
   "metadata": {
    "collapsed": false
   },
   "outputs": [
    {
     "data": {
      "text/plain": [
       "<module 'musc_genomics.data_import.cgds' from '/Users/eczech/repos/musc_genomics/src/python/src/musc_genomics/data_import/cgds.py'>"
      ]
     },
     "execution_count": 7,
     "metadata": {},
     "output_type": "execute_result"
    }
   ],
   "source": [
    "import imp\n",
    "imp.reload(cgds)"
   ]
  },
  {
   "cell_type": "code",
   "execution_count": 5,
   "metadata": {
    "collapsed": false
   },
   "outputs": [
    {
     "name": "stderr",
     "output_type": "stream",
     "text": [
      "2016-07-06 11:36:55,284:DEBUG:musc_genomics.data: Loading saved data from location \"/Users/eczech/data/research/musc_genomics/materialized/cgds_genetic_cn.pkl\"\n"
     ]
    }
   ],
   "source": [
    "d_gp_cn = api.get_gp_data(ids, cgds.GEN_PROF_COPY_NUMBER, ('materialized', 'cgds_genetic_cn'))"
   ]
  },
  {
   "cell_type": "code",
   "execution_count": 6,
   "metadata": {
    "collapsed": false
   },
   "outputs": [
    {
     "name": "stderr",
     "output_type": "stream",
     "text": [
      "2016-07-06 11:37:20,186:DEBUG:musc_genomics.data: Loading saved data from location \"/Users/eczech/data/research/musc_genomics/materialized/cgds_genetic_ge.pkl\"\n",
      "2016-07-06 11:37:20,187:INFO:musc_genomics.data_import.cgds: Processing batch 1 of 789\n",
      "2016-07-06 11:38:05,207:INFO:musc_genomics.data_import.cgds: Processing batch 79 of 789\n",
      "2016-07-06 11:38:53,888:INFO:musc_genomics.data_import.cgds: Processing batch 157 of 789\n",
      "2016-07-06 11:40:20,417:INFO:musc_genomics.data_import.cgds: Processing batch 235 of 789\n",
      "2016-07-06 11:42:50,216:INFO:musc_genomics.data_import.cgds: Processing batch 313 of 789\n",
      "2016-07-06 11:46:44,089:INFO:musc_genomics.data_import.cgds: Processing batch 391 of 789\n",
      "2016-07-06 11:49:59,724:INFO:musc_genomics.data_import.cgds: Processing batch 469 of 789\n",
      "2016-07-06 11:51:21,914:INFO:musc_genomics.data_import.cgds: Processing batch 547 of 789\n",
      "2016-07-06 11:52:42,129:INFO:musc_genomics.data_import.cgds: Processing batch 625 of 789\n",
      "2016-07-06 11:54:11,127:INFO:musc_genomics.data_import.cgds: Processing batch 703 of 789\n",
      "2016-07-06 11:55:41,694:INFO:musc_genomics.data_import.cgds: Processing batch 781 of 789\n",
      "2016-07-06 11:55:52,181:DEBUG:musc_genomics.data: Saving data to location \"/Users/eczech/data/research/musc_genomics/materialized/cgds_genetic_ge.pkl\"\n"
     ]
    }
   ],
   "source": [
    "d_gp_ge = api.get_gp_data(ids, cgds.GEN_PROF_GENE_EXPRESSION, ('materialized', 'cgds_genetic_ge'))"
   ]
  },
  {
   "cell_type": "code",
   "execution_count": 17,
   "metadata": {
    "collapsed": false
   },
   "outputs": [
    {
     "data": {
      "text/plain": [
       "<module 'musc_genomics.data_import.api' from '/Users/eczech/repos/musc_genomics/src/python/src/musc_genomics/data_import/api.py'>"
      ]
     },
     "execution_count": 17,
     "metadata": {},
     "output_type": "execute_result"
    }
   ],
   "source": [
    "import imp\n",
    "imp.reload(cgds)\n",
    "imp.reload(api)"
   ]
  },
  {
   "cell_type": "code",
   "execution_count": 19,
   "metadata": {
    "collapsed": false
   },
   "outputs": [
    {
     "name": "stderr",
     "output_type": "stream",
     "text": [
      "2016-07-07 07:18:11,120:DEBUG:musc_genomics.data: Loading saved data from location \"/Users/eczech/data/research/musc_genomics/materialized/cgds_genetic_mu.pkl\"\n",
      "2016-07-07 07:18:11,121:INFO:musc_genomics.data_import.cgds: Processing batch 1 of 263\n",
      "2016-07-07 07:20:35,656:INFO:musc_genomics.data_import.cgds: Processing batch 27 of 263\n",
      "2016-07-07 07:23:27,050:INFO:musc_genomics.data_import.cgds: Processing batch 53 of 263\n",
      "2016-07-07 07:26:13,176:INFO:musc_genomics.data_import.cgds: Processing batch 79 of 263\n",
      "2016-07-07 07:29:02,093:INFO:musc_genomics.data_import.cgds: Processing batch 105 of 263\n",
      "2016-07-07 07:31:47,061:INFO:musc_genomics.data_import.cgds: Processing batch 131 of 263\n",
      "2016-07-07 07:35:33,772:INFO:musc_genomics.data_import.cgds: Processing batch 157 of 263\n",
      "2016-07-07 07:38:48,001:INFO:musc_genomics.data_import.cgds: Processing batch 183 of 263\n",
      "2016-07-07 07:42:07,266:INFO:musc_genomics.data_import.cgds: Processing batch 209 of 263\n",
      "2016-07-07 07:46:13,379:INFO:musc_genomics.data_import.cgds: Processing batch 235 of 263\n",
      "2016-07-07 07:50:20,906:INFO:musc_genomics.data_import.cgds: Processing batch 261 of 263\n",
      "2016-07-07 07:50:47,340:DEBUG:musc_genomics.data: Saving data to location \"/Users/eczech/data/research/musc_genomics/materialized/cgds_genetic_mu.pkl\"\n"
     ]
    }
   ],
   "source": [
    "d_gp_mu = api.get_gp_data(ids, cgds.GEN_PROF_MUTATION, ('materialized', 'cgds_genetic_mu'), batch_size=150)"
   ]
  },
  {
   "cell_type": "code",
   "execution_count": 20,
   "metadata": {
    "collapsed": false
   },
   "outputs": [
    {
     "name": "stderr",
     "output_type": "stream",
     "text": [
      "2016-07-07 09:26:47,550:INFO:musc_genomics.data_import.cgds: Processing batch 1 of 79\n",
      "2016-07-07 09:27:08,921:INFO:musc_genomics.data_import.cgds: Processing batch 8 of 79\n",
      "2016-07-07 09:27:26,232:INFO:musc_genomics.data_import.cgds: Processing batch 15 of 79\n",
      "2016-07-07 09:27:38,693:INFO:musc_genomics.data_import.cgds: Processing batch 22 of 79\n",
      "2016-07-07 09:27:55,260:INFO:musc_genomics.data_import.cgds: Processing batch 29 of 79\n",
      "2016-07-07 09:28:06,150:INFO:musc_genomics.data_import.cgds: Processing batch 36 of 79\n",
      "2016-07-07 09:28:20,017:INFO:musc_genomics.data_import.cgds: Processing batch 43 of 79\n",
      "2016-07-07 09:28:37,141:INFO:musc_genomics.data_import.cgds: Processing batch 50 of 79\n",
      "2016-07-07 09:28:46,822:INFO:musc_genomics.data_import.cgds: Processing batch 57 of 79\n",
      "2016-07-07 09:28:58,032:INFO:musc_genomics.data_import.cgds: Processing batch 64 of 79\n",
      "2016-07-07 09:29:12,218:INFO:musc_genomics.data_import.cgds: Processing batch 71 of 79\n",
      "2016-07-07 09:29:31,772:INFO:musc_genomics.data_import.cgds: Processing batch 78 of 79\n",
      "2016-07-07 09:29:35,251:DEBUG:musc_genomics.data: Saving data to location \"/Users/eczech/data/research/musc_genomics/materialized/cgds_meta_mu.pkl\"\n"
     ]
    },
    {
     "data": {
      "text/plain": [
       "'/Users/eczech/data/research/musc_genomics/materialized/cgds_meta_mu.pkl'"
      ]
     },
     "execution_count": 20,
     "metadata": {},
     "output_type": "execute_result"
    }
   ],
   "source": [
    "d_mu_meta = cgds.get_mutation_data(cgds.CCLE_CASE_LIST_ID, cgds.GEN_PROF_MUTATION, ids, gene_id_batch_size=500)\n",
    "data.save('materialized', 'cgds_meta_mu', d_mu_meta)"
   ]
  },
  {
   "cell_type": "code",
   "execution_count": 21,
   "metadata": {
    "collapsed": false
   },
   "outputs": [
    {
     "name": "stderr",
     "output_type": "stream",
     "text": [
      "2016-07-07 09:29:39,126:DEBUG:musc_genomics.data: Saving data to location \"/Users/eczech/data/research/musc_genomics/materialized/cgds_clinical.pkl\"\n"
     ]
    },
    {
     "data": {
      "text/plain": [
       "'/Users/eczech/data/research/musc_genomics/materialized/cgds_clinical.pkl'"
      ]
     },
     "execution_count": 21,
     "metadata": {},
     "output_type": "execute_result"
    }
   ],
   "source": [
    "d_clinical = cgds.get_clinical_data(cgds.CCLE_CASE_LIST_ID)\n",
    "data.save('materialized', 'cgds_clinical', d_clinical)"
   ]
  },
  {
   "cell_type": "markdown",
   "metadata": {},
   "source": [
    "# Analysis"
   ]
  },
  {
   "cell_type": "code",
   "execution_count": 33,
   "metadata": {
    "collapsed": false
   },
   "outputs": [
    {
     "data": {
      "text/html": [
       "<div>\n",
       "<table border=\"1\" class=\"dataframe\">\n",
       "  <thead>\n",
       "    <tr style=\"text-align: right;\">\n",
       "      <th></th>\n",
       "      <th>GENE_ID</th>\n",
       "      <th>COMMON</th>\n",
       "      <th>1321N1_CENTRAL_NERVOUS_SYSTEM</th>\n",
       "      <th>143B_BONE</th>\n",
       "      <th>22RV1_PROSTATE</th>\n",
       "      <th>2313287_STOMACH</th>\n",
       "      <th>42MGBA_CENTRAL_NERVOUS_SYSTEM</th>\n",
       "      <th>5637_URINARY_TRACT</th>\n",
       "      <th>59M_OVARY</th>\n",
       "      <th>639V_URINARY_TRACT</th>\n",
       "    </tr>\n",
       "  </thead>\n",
       "  <tbody>\n",
       "    <tr>\n",
       "      <th>0</th>\n",
       "      <td>1</td>\n",
       "      <td>A1BG</td>\n",
       "      <td>-0.1544</td>\n",
       "      <td>-0.2120</td>\n",
       "      <td>-0.08084</td>\n",
       "      <td>-0.03310</td>\n",
       "      <td>0.0322</td>\n",
       "      <td>-0.03514</td>\n",
       "      <td>0.2090</td>\n",
       "      <td>0.0828</td>\n",
       "    </tr>\n",
       "    <tr>\n",
       "      <th>1</th>\n",
       "      <td>503538</td>\n",
       "      <td>A1BG-AS1</td>\n",
       "      <td>-0.1544</td>\n",
       "      <td>-0.2120</td>\n",
       "      <td>-0.08084</td>\n",
       "      <td>-0.03310</td>\n",
       "      <td>0.0322</td>\n",
       "      <td>-0.03514</td>\n",
       "      <td>0.2090</td>\n",
       "      <td>0.0828</td>\n",
       "    </tr>\n",
       "    <tr>\n",
       "      <th>2</th>\n",
       "      <td>29974</td>\n",
       "      <td>A1CF</td>\n",
       "      <td>-0.0985</td>\n",
       "      <td>0.1580</td>\n",
       "      <td>-0.00250</td>\n",
       "      <td>-0.05348</td>\n",
       "      <td>-0.0522</td>\n",
       "      <td>-0.49350</td>\n",
       "      <td>0.5006</td>\n",
       "      <td>0.0590</td>\n",
       "    </tr>\n",
       "    <tr>\n",
       "      <th>3</th>\n",
       "      <td>2</td>\n",
       "      <td>A2M</td>\n",
       "      <td>-0.1819</td>\n",
       "      <td>-0.1753</td>\n",
       "      <td>0.44860</td>\n",
       "      <td>-0.19170</td>\n",
       "      <td>-0.3905</td>\n",
       "      <td>-0.06570</td>\n",
       "      <td>0.2536</td>\n",
       "      <td>0.3126</td>\n",
       "    </tr>\n",
       "    <tr>\n",
       "      <th>4</th>\n",
       "      <td>144571</td>\n",
       "      <td>A2M-AS1</td>\n",
       "      <td>NaN</td>\n",
       "      <td>NaN</td>\n",
       "      <td>NaN</td>\n",
       "      <td>NaN</td>\n",
       "      <td>NaN</td>\n",
       "      <td>NaN</td>\n",
       "      <td>NaN</td>\n",
       "      <td>NaN</td>\n",
       "    </tr>\n",
       "    <tr>\n",
       "      <th>5</th>\n",
       "      <td>144568</td>\n",
       "      <td>A2ML1</td>\n",
       "      <td>-0.1819</td>\n",
       "      <td>-0.1753</td>\n",
       "      <td>0.44860</td>\n",
       "      <td>-0.19170</td>\n",
       "      <td>-0.3905</td>\n",
       "      <td>-0.06570</td>\n",
       "      <td>0.2536</td>\n",
       "      <td>0.3126</td>\n",
       "    </tr>\n",
       "    <tr>\n",
       "      <th>6</th>\n",
       "      <td>100874108</td>\n",
       "      <td>A2ML1-AS1</td>\n",
       "      <td>NaN</td>\n",
       "      <td>NaN</td>\n",
       "      <td>NaN</td>\n",
       "      <td>NaN</td>\n",
       "      <td>NaN</td>\n",
       "      <td>NaN</td>\n",
       "      <td>NaN</td>\n",
       "      <td>NaN</td>\n",
       "    </tr>\n",
       "    <tr>\n",
       "      <th>7</th>\n",
       "      <td>106478979</td>\n",
       "      <td>A2ML1-AS2</td>\n",
       "      <td>NaN</td>\n",
       "      <td>NaN</td>\n",
       "      <td>NaN</td>\n",
       "      <td>NaN</td>\n",
       "      <td>NaN</td>\n",
       "      <td>NaN</td>\n",
       "      <td>NaN</td>\n",
       "      <td>NaN</td>\n",
       "    </tr>\n",
       "    <tr>\n",
       "      <th>8</th>\n",
       "      <td>3</td>\n",
       "      <td>A2MP1</td>\n",
       "      <td>NaN</td>\n",
       "      <td>NaN</td>\n",
       "      <td>NaN</td>\n",
       "      <td>NaN</td>\n",
       "      <td>NaN</td>\n",
       "      <td>NaN</td>\n",
       "      <td>NaN</td>\n",
       "      <td>NaN</td>\n",
       "    </tr>\n",
       "    <tr>\n",
       "      <th>9</th>\n",
       "      <td>127550</td>\n",
       "      <td>A3GALT2</td>\n",
       "      <td>NaN</td>\n",
       "      <td>NaN</td>\n",
       "      <td>NaN</td>\n",
       "      <td>NaN</td>\n",
       "      <td>NaN</td>\n",
       "      <td>NaN</td>\n",
       "      <td>NaN</td>\n",
       "      <td>NaN</td>\n",
       "    </tr>\n",
       "  </tbody>\n",
       "</table>\n",
       "</div>"
      ],
      "text/plain": [
       "     GENE_ID     COMMON  1321N1_CENTRAL_NERVOUS_SYSTEM  143B_BONE  \\\n",
       "0          1       A1BG                        -0.1544    -0.2120   \n",
       "1     503538   A1BG-AS1                        -0.1544    -0.2120   \n",
       "2      29974       A1CF                        -0.0985     0.1580   \n",
       "3          2        A2M                        -0.1819    -0.1753   \n",
       "4     144571    A2M-AS1                            NaN        NaN   \n",
       "5     144568      A2ML1                        -0.1819    -0.1753   \n",
       "6  100874108  A2ML1-AS1                            NaN        NaN   \n",
       "7  106478979  A2ML1-AS2                            NaN        NaN   \n",
       "8          3      A2MP1                            NaN        NaN   \n",
       "9     127550    A3GALT2                            NaN        NaN   \n",
       "\n",
       "   22RV1_PROSTATE  2313287_STOMACH  42MGBA_CENTRAL_NERVOUS_SYSTEM  \\\n",
       "0        -0.08084         -0.03310                         0.0322   \n",
       "1        -0.08084         -0.03310                         0.0322   \n",
       "2        -0.00250         -0.05348                        -0.0522   \n",
       "3         0.44860         -0.19170                        -0.3905   \n",
       "4             NaN              NaN                            NaN   \n",
       "5         0.44860         -0.19170                        -0.3905   \n",
       "6             NaN              NaN                            NaN   \n",
       "7             NaN              NaN                            NaN   \n",
       "8             NaN              NaN                            NaN   \n",
       "9             NaN              NaN                            NaN   \n",
       "\n",
       "   5637_URINARY_TRACT  59M_OVARY  639V_URINARY_TRACT  \n",
       "0            -0.03514     0.2090              0.0828  \n",
       "1            -0.03514     0.2090              0.0828  \n",
       "2            -0.49350     0.5006              0.0590  \n",
       "3            -0.06570     0.2536              0.3126  \n",
       "4                 NaN        NaN                 NaN  \n",
       "5            -0.06570     0.2536              0.3126  \n",
       "6                 NaN        NaN                 NaN  \n",
       "7                 NaN        NaN                 NaN  \n",
       "8                 NaN        NaN                 NaN  \n",
       "9                 NaN        NaN                 NaN  "
      ]
     },
     "execution_count": 33,
     "metadata": {},
     "output_type": "execute_result"
    }
   ],
   "source": [
    "d_gp_cn.iloc[:10,:10]"
   ]
  },
  {
   "cell_type": "code",
   "execution_count": 12,
   "metadata": {
    "collapsed": false
   },
   "outputs": [
    {
     "name": "stdout",
     "output_type": "stream",
     "text": [
      "<class 'pandas.core.frame.DataFrame'>\n",
      "Int64Index: 39032 entries, 0 to 7\n",
      "Columns: 1021 entries, GENE_ID to UOK101_KIDNEY\n",
      "dtypes: float64(1019), int64(1), object(1)\n",
      "memory usage: 304.3+ MB\n"
     ]
    }
   ],
   "source": [
    "d_gp_cn.info()"
   ]
  },
  {
   "cell_type": "code",
   "execution_count": 33,
   "metadata": {
    "collapsed": false
   },
   "outputs": [
    {
     "name": "stderr",
     "output_type": "stream",
     "text": [
      "2016-07-06 06:28:17,982:INFO:musc_genomics.data_import.cgds: Processing batch 1 of 2\n",
      "2016-07-06 06:28:20,320:INFO:musc_genomics.data_import.cgds: Processing batch 2 of 2\n"
     ]
    }
   ],
   "source": [
    "GEN_PROF_COPY_NUMBER = 'cellline_ccle_broad_log2CNA'\n",
    "GEN_PROF_GENE_EXPRESSION = 'cellline_ccle_broad_mrna_median_Zscores'\n",
    "GEN_PROF_MUTATION = 'cellline_ccle_broad_mutations'\n",
    "d_gp = cgds.get_genetic_profile_data(\n",
    "    'cellline_ccle_broad_all', GEN_PROF_MUTATION, \n",
    "    ids[:100], gene_id_batch_size=50\n",
    ")"
   ]
  },
  {
   "cell_type": "code",
   "execution_count": 38,
   "metadata": {
    "collapsed": false
   },
   "outputs": [
    {
     "data": {
      "text/html": [
       "<div>\n",
       "<table border=\"1\" class=\"dataframe\">\n",
       "  <thead>\n",
       "    <tr style=\"text-align: right;\">\n",
       "      <th></th>\n",
       "      <th>GENE_ID</th>\n",
       "      <th>COMMON</th>\n",
       "      <th>1321N1_CENTRAL_NERVOUS_SYSTEM</th>\n",
       "      <th>143B_BONE</th>\n",
       "      <th>22RV1_PROSTATE</th>\n",
       "      <th>2313287_STOMACH</th>\n",
       "      <th>42MGBA_CENTRAL_NERVOUS_SYSTEM</th>\n",
       "      <th>5637_URINARY_TRACT</th>\n",
       "      <th>59M_OVARY</th>\n",
       "      <th>639V_URINARY_TRACT</th>\n",
       "      <th>...</th>\n",
       "      <th>SLR21_KIDNEY</th>\n",
       "      <th>SLR23_KIDNEY</th>\n",
       "      <th>SLR25_KIDNEY</th>\n",
       "      <th>SLR26_KIDNEY</th>\n",
       "      <th>TC32_BONE</th>\n",
       "      <th>TIG3TD_LUNG</th>\n",
       "      <th>U178_CENTRAL_NERVOUS_SYSTEM</th>\n",
       "      <th>UMRC2_KIDNEY</th>\n",
       "      <th>UMRC6_KIDNEY</th>\n",
       "      <th>UOK101_KIDNEY</th>\n",
       "    </tr>\n",
       "  </thead>\n",
       "  <tbody>\n",
       "    <tr>\n",
       "      <th>0</th>\n",
       "      <td>1</td>\n",
       "      <td>A1BG</td>\n",
       "      <td>NaN</td>\n",
       "      <td>NaN</td>\n",
       "      <td>NaN</td>\n",
       "      <td>NaN</td>\n",
       "      <td>NaN</td>\n",
       "      <td>NaN</td>\n",
       "      <td>NaN</td>\n",
       "      <td>NaN</td>\n",
       "      <td>...</td>\n",
       "      <td>NaN</td>\n",
       "      <td>NaN</td>\n",
       "      <td>NaN</td>\n",
       "      <td>NaN</td>\n",
       "      <td>NaN</td>\n",
       "      <td>NaN</td>\n",
       "      <td>NaN</td>\n",
       "      <td>NaN</td>\n",
       "      <td>NaN</td>\n",
       "      <td>NaN</td>\n",
       "    </tr>\n",
       "    <tr>\n",
       "      <th>1</th>\n",
       "      <td>503538</td>\n",
       "      <td>A1BG-AS1</td>\n",
       "      <td>NaN</td>\n",
       "      <td>NaN</td>\n",
       "      <td>NaN</td>\n",
       "      <td>NaN</td>\n",
       "      <td>NaN</td>\n",
       "      <td>NaN</td>\n",
       "      <td>NaN</td>\n",
       "      <td>NaN</td>\n",
       "      <td>...</td>\n",
       "      <td>NaN</td>\n",
       "      <td>NaN</td>\n",
       "      <td>NaN</td>\n",
       "      <td>NaN</td>\n",
       "      <td>NaN</td>\n",
       "      <td>NaN</td>\n",
       "      <td>NaN</td>\n",
       "      <td>NaN</td>\n",
       "      <td>NaN</td>\n",
       "      <td>NaN</td>\n",
       "    </tr>\n",
       "    <tr>\n",
       "      <th>2</th>\n",
       "      <td>29974</td>\n",
       "      <td>A1CF</td>\n",
       "      <td>NaN</td>\n",
       "      <td>NaN</td>\n",
       "      <td>NaN</td>\n",
       "      <td>NaN</td>\n",
       "      <td>NaN</td>\n",
       "      <td>NaN</td>\n",
       "      <td>NaN</td>\n",
       "      <td>NaN</td>\n",
       "      <td>...</td>\n",
       "      <td>NaN</td>\n",
       "      <td>NaN</td>\n",
       "      <td>NaN</td>\n",
       "      <td>NaN</td>\n",
       "      <td>NaN</td>\n",
       "      <td>NaN</td>\n",
       "      <td>NaN</td>\n",
       "      <td>NaN</td>\n",
       "      <td>NaN</td>\n",
       "      <td>NaN</td>\n",
       "    </tr>\n",
       "    <tr>\n",
       "      <th>3</th>\n",
       "      <td>2</td>\n",
       "      <td>A2M</td>\n",
       "      <td>NaN</td>\n",
       "      <td>NaN</td>\n",
       "      <td>NaN</td>\n",
       "      <td>NaN</td>\n",
       "      <td>NaN</td>\n",
       "      <td>NaN</td>\n",
       "      <td>NaN</td>\n",
       "      <td>NaN</td>\n",
       "      <td>...</td>\n",
       "      <td>NaN</td>\n",
       "      <td>NaN</td>\n",
       "      <td>NaN</td>\n",
       "      <td>NaN</td>\n",
       "      <td>NaN</td>\n",
       "      <td>NaN</td>\n",
       "      <td>NaN</td>\n",
       "      <td>NaN</td>\n",
       "      <td>NaN</td>\n",
       "      <td>NaN</td>\n",
       "    </tr>\n",
       "    <tr>\n",
       "      <th>4</th>\n",
       "      <td>144571</td>\n",
       "      <td>A2M-AS1</td>\n",
       "      <td>NaN</td>\n",
       "      <td>NaN</td>\n",
       "      <td>NaN</td>\n",
       "      <td>NaN</td>\n",
       "      <td>NaN</td>\n",
       "      <td>NaN</td>\n",
       "      <td>NaN</td>\n",
       "      <td>NaN</td>\n",
       "      <td>...</td>\n",
       "      <td>NaN</td>\n",
       "      <td>NaN</td>\n",
       "      <td>NaN</td>\n",
       "      <td>NaN</td>\n",
       "      <td>NaN</td>\n",
       "      <td>NaN</td>\n",
       "      <td>NaN</td>\n",
       "      <td>NaN</td>\n",
       "      <td>NaN</td>\n",
       "      <td>NaN</td>\n",
       "    </tr>\n",
       "  </tbody>\n",
       "</table>\n",
       "<p>5 rows × 1021 columns</p>\n",
       "</div>"
      ],
      "text/plain": [
       "   GENE_ID    COMMON  1321N1_CENTRAL_NERVOUS_SYSTEM  143B_BONE 22RV1_PROSTATE  \\\n",
       "0        1      A1BG                            NaN        NaN            NaN   \n",
       "1   503538  A1BG-AS1                            NaN        NaN            NaN   \n",
       "2    29974      A1CF                            NaN        NaN            NaN   \n",
       "3        2       A2M                            NaN        NaN            NaN   \n",
       "4   144571   A2M-AS1                            NaN        NaN            NaN   \n",
       "\n",
       "   2313287_STOMACH  42MGBA_CENTRAL_NERVOUS_SYSTEM  5637_URINARY_TRACT  \\\n",
       "0              NaN                            NaN                 NaN   \n",
       "1              NaN                            NaN                 NaN   \n",
       "2              NaN                            NaN                 NaN   \n",
       "3              NaN                            NaN                 NaN   \n",
       "4              NaN                            NaN                 NaN   \n",
       "\n",
       "   59M_OVARY 639V_URINARY_TRACT      ...       SLR21_KIDNEY  SLR23_KIDNEY  \\\n",
       "0        NaN                NaN      ...                NaN           NaN   \n",
       "1        NaN                NaN      ...                NaN           NaN   \n",
       "2        NaN                NaN      ...                NaN           NaN   \n",
       "3        NaN                NaN      ...                NaN           NaN   \n",
       "4        NaN                NaN      ...                NaN           NaN   \n",
       "\n",
       "  SLR25_KIDNEY  SLR26_KIDNEY  TC32_BONE  TIG3TD_LUNG  \\\n",
       "0          NaN           NaN        NaN          NaN   \n",
       "1          NaN           NaN        NaN          NaN   \n",
       "2          NaN           NaN        NaN          NaN   \n",
       "3          NaN           NaN        NaN          NaN   \n",
       "4          NaN           NaN        NaN          NaN   \n",
       "\n",
       "   U178_CENTRAL_NERVOUS_SYSTEM  UMRC2_KIDNEY  UMRC6_KIDNEY UOK101_KIDNEY  \n",
       "0                          NaN           NaN           NaN           NaN  \n",
       "1                          NaN           NaN           NaN           NaN  \n",
       "2                          NaN           NaN           NaN           NaN  \n",
       "3                          NaN           NaN           NaN           NaN  \n",
       "4                          NaN           NaN           NaN           NaN  \n",
       "\n",
       "[5 rows x 1021 columns]"
      ]
     },
     "execution_count": 38,
     "metadata": {},
     "output_type": "execute_result"
    }
   ],
   "source": [
    "d_gp.head()"
   ]
  },
  {
   "cell_type": "code",
   "execution_count": 34,
   "metadata": {
    "collapsed": false
   },
   "outputs": [
    {
     "data": {
      "text/html": [
       "<div>\n",
       "<table border=\"1\" class=\"dataframe\">\n",
       "  <thead>\n",
       "    <tr>\n",
       "      <th>GENE_ID</th>\n",
       "      <th>1</th>\n",
       "      <th>503538</th>\n",
       "      <th>29974</th>\n",
       "      <th>2</th>\n",
       "      <th>144571</th>\n",
       "      <th>144568</th>\n",
       "      <th>100874108</th>\n",
       "      <th>106478979</th>\n",
       "      <th>3</th>\n",
       "      <th>127550</th>\n",
       "      <th>...</th>\n",
       "      <th>26957</th>\n",
       "      <th>642762</th>\n",
       "      <th>225</th>\n",
       "      <th>5825</th>\n",
       "      <th>5826</th>\n",
       "      <th>6059</th>\n",
       "      <th>23</th>\n",
       "      <th>10061</th>\n",
       "      <th>344653</th>\n",
       "      <th>100422059</th>\n",
       "    </tr>\n",
       "    <tr>\n",
       "      <th>COMMON</th>\n",
       "      <th>A1BG</th>\n",
       "      <th>A1BG-AS1</th>\n",
       "      <th>A1CF</th>\n",
       "      <th>A2M</th>\n",
       "      <th>A2M-AS1</th>\n",
       "      <th>A2ML1</th>\n",
       "      <th>A2ML1-AS1</th>\n",
       "      <th>A2ML1-AS2</th>\n",
       "      <th>A2MP1</th>\n",
       "      <th>A3GALT2</th>\n",
       "      <th>...</th>\n",
       "      <th>ABCD1P4</th>\n",
       "      <th>ABCD1P5</th>\n",
       "      <th>ABCD2</th>\n",
       "      <th>ABCD3</th>\n",
       "      <th>ABCD4</th>\n",
       "      <th>ABCE1</th>\n",
       "      <th>ABCF1</th>\n",
       "      <th>ABCF2</th>\n",
       "      <th>ABCF2P1</th>\n",
       "      <th>ABCF2P2</th>\n",
       "    </tr>\n",
       "  </thead>\n",
       "  <tbody>\n",
       "    <tr>\n",
       "      <th>1321N1_CENTRAL_NERVOUS_SYSTEM</th>\n",
       "      <td>NaN</td>\n",
       "      <td>NaN</td>\n",
       "      <td>NaN</td>\n",
       "      <td>NaN</td>\n",
       "      <td>NaN</td>\n",
       "      <td>NaN</td>\n",
       "      <td>NaN</td>\n",
       "      <td>NaN</td>\n",
       "      <td>NaN</td>\n",
       "      <td>NaN</td>\n",
       "      <td>...</td>\n",
       "      <td>NaN</td>\n",
       "      <td>NaN</td>\n",
       "      <td>NaN</td>\n",
       "      <td>NaN</td>\n",
       "      <td>NaN</td>\n",
       "      <td>NaN</td>\n",
       "      <td>NaN</td>\n",
       "      <td>NaN</td>\n",
       "      <td>NaN</td>\n",
       "      <td>NaN</td>\n",
       "    </tr>\n",
       "    <tr>\n",
       "      <th>143B_BONE</th>\n",
       "      <td>NaN</td>\n",
       "      <td>NaN</td>\n",
       "      <td>NaN</td>\n",
       "      <td>NaN</td>\n",
       "      <td>NaN</td>\n",
       "      <td>NaN</td>\n",
       "      <td>NaN</td>\n",
       "      <td>NaN</td>\n",
       "      <td>NaN</td>\n",
       "      <td>NaN</td>\n",
       "      <td>...</td>\n",
       "      <td>NaN</td>\n",
       "      <td>NaN</td>\n",
       "      <td>NaN</td>\n",
       "      <td>NaN</td>\n",
       "      <td>NaN</td>\n",
       "      <td>NaN</td>\n",
       "      <td>NaN</td>\n",
       "      <td>NaN</td>\n",
       "      <td>NaN</td>\n",
       "      <td>NaN</td>\n",
       "    </tr>\n",
       "    <tr>\n",
       "      <th>22RV1_PROSTATE</th>\n",
       "      <td>NaN</td>\n",
       "      <td>NaN</td>\n",
       "      <td>NaN</td>\n",
       "      <td>NaN</td>\n",
       "      <td>NaN</td>\n",
       "      <td>NaN</td>\n",
       "      <td>NaN</td>\n",
       "      <td>NaN</td>\n",
       "      <td>NaN</td>\n",
       "      <td>NaN</td>\n",
       "      <td>...</td>\n",
       "      <td>NaN</td>\n",
       "      <td>NaN</td>\n",
       "      <td>NaN</td>\n",
       "      <td>NaN</td>\n",
       "      <td>NaN</td>\n",
       "      <td>NaN</td>\n",
       "      <td>NaN</td>\n",
       "      <td>NaN</td>\n",
       "      <td>NaN</td>\n",
       "      <td>NaN</td>\n",
       "    </tr>\n",
       "    <tr>\n",
       "      <th>2313287_STOMACH</th>\n",
       "      <td>NaN</td>\n",
       "      <td>NaN</td>\n",
       "      <td>NaN</td>\n",
       "      <td>NaN</td>\n",
       "      <td>NaN</td>\n",
       "      <td>NaN</td>\n",
       "      <td>NaN</td>\n",
       "      <td>NaN</td>\n",
       "      <td>NaN</td>\n",
       "      <td>NaN</td>\n",
       "      <td>...</td>\n",
       "      <td>NaN</td>\n",
       "      <td>NaN</td>\n",
       "      <td>NaN</td>\n",
       "      <td>NaN</td>\n",
       "      <td>NaN</td>\n",
       "      <td>NaN</td>\n",
       "      <td>NaN</td>\n",
       "      <td>NaN</td>\n",
       "      <td>NaN</td>\n",
       "      <td>NaN</td>\n",
       "    </tr>\n",
       "    <tr>\n",
       "      <th>42MGBA_CENTRAL_NERVOUS_SYSTEM</th>\n",
       "      <td>NaN</td>\n",
       "      <td>NaN</td>\n",
       "      <td>NaN</td>\n",
       "      <td>NaN</td>\n",
       "      <td>NaN</td>\n",
       "      <td>NaN</td>\n",
       "      <td>NaN</td>\n",
       "      <td>NaN</td>\n",
       "      <td>NaN</td>\n",
       "      <td>NaN</td>\n",
       "      <td>...</td>\n",
       "      <td>NaN</td>\n",
       "      <td>NaN</td>\n",
       "      <td>NaN</td>\n",
       "      <td>NaN</td>\n",
       "      <td>NaN</td>\n",
       "      <td>NaN</td>\n",
       "      <td>NaN</td>\n",
       "      <td>NaN</td>\n",
       "      <td>NaN</td>\n",
       "      <td>NaN</td>\n",
       "    </tr>\n",
       "  </tbody>\n",
       "</table>\n",
       "<p>5 rows × 100 columns</p>\n",
       "</div>"
      ],
      "text/plain": [
       "GENE_ID                       1         503538    29974     2          \\\n",
       "COMMON                             A1BG  A1BG-AS1      A1CF       A2M   \n",
       "1321N1_CENTRAL_NERVOUS_SYSTEM       NaN       NaN       NaN       NaN   \n",
       "143B_BONE                           NaN       NaN       NaN       NaN   \n",
       "22RV1_PROSTATE                      NaN       NaN       NaN       NaN   \n",
       "2313287_STOMACH                     NaN       NaN       NaN       NaN   \n",
       "42MGBA_CENTRAL_NERVOUS_SYSTEM       NaN       NaN       NaN       NaN   \n",
       "\n",
       "GENE_ID                       144571    144568    100874108 106478979  \\\n",
       "COMMON                          A2M-AS1     A2ML1 A2ML1-AS1 A2ML1-AS2   \n",
       "1321N1_CENTRAL_NERVOUS_SYSTEM       NaN       NaN       NaN       NaN   \n",
       "143B_BONE                           NaN       NaN       NaN       NaN   \n",
       "22RV1_PROSTATE                      NaN       NaN       NaN       NaN   \n",
       "2313287_STOMACH                     NaN       NaN       NaN       NaN   \n",
       "42MGBA_CENTRAL_NERVOUS_SYSTEM       NaN       NaN       NaN       NaN   \n",
       "\n",
       "GENE_ID                       3         127550       ...    26957      \\\n",
       "COMMON                            A2MP1   A3GALT2    ...      ABCD1P4   \n",
       "1321N1_CENTRAL_NERVOUS_SYSTEM       NaN       NaN    ...          NaN   \n",
       "143B_BONE                           NaN       NaN    ...          NaN   \n",
       "22RV1_PROSTATE                      NaN       NaN    ...          NaN   \n",
       "2313287_STOMACH                     NaN       NaN    ...          NaN   \n",
       "42MGBA_CENTRAL_NERVOUS_SYSTEM       NaN       NaN    ...          NaN   \n",
       "\n",
       "GENE_ID                       642762    225       5825      5826       \\\n",
       "COMMON                          ABCD1P5     ABCD2     ABCD3     ABCD4   \n",
       "1321N1_CENTRAL_NERVOUS_SYSTEM       NaN       NaN       NaN       NaN   \n",
       "143B_BONE                           NaN       NaN       NaN       NaN   \n",
       "22RV1_PROSTATE                      NaN       NaN       NaN       NaN   \n",
       "2313287_STOMACH                     NaN       NaN       NaN       NaN   \n",
       "42MGBA_CENTRAL_NERVOUS_SYSTEM       NaN       NaN       NaN       NaN   \n",
       "\n",
       "GENE_ID                       6059      23        10061     344653     \\\n",
       "COMMON                            ABCE1     ABCF1     ABCF2   ABCF2P1   \n",
       "1321N1_CENTRAL_NERVOUS_SYSTEM       NaN       NaN       NaN       NaN   \n",
       "143B_BONE                           NaN       NaN       NaN       NaN   \n",
       "22RV1_PROSTATE                      NaN       NaN       NaN       NaN   \n",
       "2313287_STOMACH                     NaN       NaN       NaN       NaN   \n",
       "42MGBA_CENTRAL_NERVOUS_SYSTEM       NaN       NaN       NaN       NaN   \n",
       "\n",
       "GENE_ID                       100422059  \n",
       "COMMON                          ABCF2P2  \n",
       "1321N1_CENTRAL_NERVOUS_SYSTEM       NaN  \n",
       "143B_BONE                           NaN  \n",
       "22RV1_PROSTATE                      NaN  \n",
       "2313287_STOMACH                     NaN  \n",
       "42MGBA_CENTRAL_NERVOUS_SYSTEM       NaN  \n",
       "\n",
       "[5 rows x 100 columns]"
      ]
     },
     "execution_count": 34,
     "metadata": {},
     "output_type": "execute_result"
    }
   ],
   "source": [
    "d_gp.set_index(['GENE_ID', 'COMMON']).T.head()"
   ]
  },
  {
   "cell_type": "code",
   "execution_count": 20,
   "metadata": {
    "collapsed": false
   },
   "outputs": [
    {
     "name": "stdout",
     "output_type": "stream",
     "text": [
      "<class 'pandas.core.frame.DataFrame'>\n",
      "Int64Index: 6 entries, 0 to 2\n",
      "Columns: 1021 entries, GENE_ID to UOK101_KIDNEY\n",
      "dtypes: float64(1019), int64(1), object(1)\n",
      "memory usage: 47.9+ KB\n"
     ]
    }
   ],
   "source": [
    "d_gp.info()"
   ]
  },
  {
   "cell_type": "code",
   "execution_count": 5,
   "metadata": {
    "collapsed": false
   },
   "outputs": [
    {
     "data": {
      "text/plain": [
       "array(['A1BG', 'A1BG-AS1', 'A1CF', 'A2M', 'A2M-AS1'], dtype=object)"
      ]
     },
     "execution_count": 5,
     "metadata": {},
     "output_type": "execute_result"
    }
   ],
   "source": [
    "ids[:5]"
   ]
  },
  {
   "cell_type": "code",
   "execution_count": null,
   "metadata": {
    "collapsed": true
   },
   "outputs": [],
   "source": [
    "pd.read_csv()"
   ]
  },
  {
   "cell_type": "code",
   "execution_count": 13,
   "metadata": {
    "collapsed": false
   },
   "outputs": [
    {
     "data": {
      "text/plain": [
       "'y=asfd%26sdf&x=3'"
      ]
     },
     "execution_count": 13,
     "metadata": {},
     "output_type": "execute_result"
    }
   ],
   "source": [
    "from urllib import parse\n",
    "parse.urlencode({'x': 3, 'y': 'asfd&sdf'})"
   ]
  },
  {
   "cell_type": "code",
   "execution_count": null,
   "metadata": {
    "collapsed": true
   },
   "outputs": [],
   "source": []
  }
 ],
 "metadata": {
  "kernelspec": {
   "display_name": "Python 3",
   "language": "python",
   "name": "python3"
  },
  "language_info": {
   "codemirror_mode": {
    "name": "ipython",
    "version": 3
   },
   "file_extension": ".py",
   "mimetype": "text/x-python",
   "name": "python",
   "nbconvert_exporter": "python",
   "pygments_lexer": "ipython3",
   "version": "3.5.2"
  }
 },
 "nbformat": 4,
 "nbformat_minor": 0
}
