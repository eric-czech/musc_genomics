{
 "cells": [
  {
   "cell_type": "code",
   "execution_count": 1,
   "metadata": {
    "collapsed": false
   },
   "outputs": [],
   "source": [
    "%run -m ipy_startup\n",
    "%run -m ipy_logging\n",
    "from py_utils.collection_utils import to_batches\n",
    "from musc_genomics import data\n",
    "from musc_genomics.data_import import cgds, hugo, api\n",
    "import functools"
   ]
  },
  {
   "cell_type": "code",
   "execution_count": 2,
   "metadata": {
    "collapsed": true
   },
   "outputs": [],
   "source": [
    "ids = api.get_gene_ids()"
   ]
  },
  {
   "cell_type": "code",
   "execution_count": 3,
   "metadata": {
    "collapsed": false
   },
   "outputs": [
    {
     "data": {
      "text/html": [
       "<div>\n",
       "<table border=\"1\" class=\"dataframe\">\n",
       "  <thead>\n",
       "    <tr style=\"text-align: right;\">\n",
       "      <th></th>\n",
       "      <th>genetic_profile_id</th>\n",
       "      <th>genetic_profile_name</th>\n",
       "      <th>genetic_profile_description</th>\n",
       "      <th>cancer_study_id</th>\n",
       "      <th>genetic_alteration_type</th>\n",
       "      <th>show_profile_in_analysis_tab</th>\n",
       "    </tr>\n",
       "  </thead>\n",
       "  <tbody>\n",
       "    <tr>\n",
       "      <th>0</th>\n",
       "      <td>cellline_ccle_broad_CNA</td>\n",
       "      <td>Putative copy-number alterations</td>\n",
       "      <td>Putative copy-number calls in 972 samples dete...</td>\n",
       "      <td>44</td>\n",
       "      <td>COPY_NUMBER_ALTERATION</td>\n",
       "      <td>True</td>\n",
       "    </tr>\n",
       "    <tr>\n",
       "      <th>1</th>\n",
       "      <td>cellline_ccle_broad_mrna_median_Zscores</td>\n",
       "      <td>mRNA Expression z-Scores (microarray)</td>\n",
       "      <td>mRNA z-Scores (Affymetrix microarray)</td>\n",
       "      <td>44</td>\n",
       "      <td>MRNA_EXPRESSION</td>\n",
       "      <td>True</td>\n",
       "    </tr>\n",
       "    <tr>\n",
       "      <th>2</th>\n",
       "      <td>cellline_ccle_broad_log2CNA</td>\n",
       "      <td>Log2 copy-number values</td>\n",
       "      <td>Log2 copy-number values for each gene (from Af...</td>\n",
       "      <td>44</td>\n",
       "      <td>COPY_NUMBER_ALTERATION</td>\n",
       "      <td>False</td>\n",
       "    </tr>\n",
       "    <tr>\n",
       "      <th>3</th>\n",
       "      <td>cellline_ccle_broad_mutations</td>\n",
       "      <td>Mutations</td>\n",
       "      <td>Mutation data from targeted sequencing (1561 g...</td>\n",
       "      <td>44</td>\n",
       "      <td>MUTATION_EXTENDED</td>\n",
       "      <td>True</td>\n",
       "    </tr>\n",
       "    <tr>\n",
       "      <th>4</th>\n",
       "      <td>cellline_ccle_broad_mrna</td>\n",
       "      <td>mRNA expression (microarray)</td>\n",
       "      <td>Expression levels for 16219 genes in 991 sampl...</td>\n",
       "      <td>44</td>\n",
       "      <td>MRNA_EXPRESSION</td>\n",
       "      <td>False</td>\n",
       "    </tr>\n",
       "  </tbody>\n",
       "</table>\n",
       "</div>"
      ],
      "text/plain": [
       "                        genetic_profile_id  \\\n",
       "0                  cellline_ccle_broad_CNA   \n",
       "1  cellline_ccle_broad_mrna_median_Zscores   \n",
       "2              cellline_ccle_broad_log2CNA   \n",
       "3            cellline_ccle_broad_mutations   \n",
       "4                 cellline_ccle_broad_mrna   \n",
       "\n",
       "                    genetic_profile_name  \\\n",
       "0       Putative copy-number alterations   \n",
       "1  mRNA Expression z-Scores (microarray)   \n",
       "2                Log2 copy-number values   \n",
       "3                              Mutations   \n",
       "4           mRNA expression (microarray)   \n",
       "\n",
       "                         genetic_profile_description  cancer_study_id  \\\n",
       "0  Putative copy-number calls in 972 samples dete...               44   \n",
       "1              mRNA z-Scores (Affymetrix microarray)               44   \n",
       "2  Log2 copy-number values for each gene (from Af...               44   \n",
       "3  Mutation data from targeted sequencing (1561 g...               44   \n",
       "4  Expression levels for 16219 genes in 991 sampl...               44   \n",
       "\n",
       "  genetic_alteration_type show_profile_in_analysis_tab  \n",
       "0  COPY_NUMBER_ALTERATION                         True  \n",
       "1         MRNA_EXPRESSION                         True  \n",
       "2  COPY_NUMBER_ALTERATION                        False  \n",
       "3       MUTATION_EXTENDED                         True  \n",
       "4         MRNA_EXPRESSION                        False  "
      ]
     },
     "execution_count": 3,
     "metadata": {},
     "output_type": "execute_result"
    }
   ],
   "source": [
    "d_gp = cgds.get_genetic_profiles('cellline_ccle_broad')\n",
    "d_gp"
   ]
  },
  {
   "cell_type": "code",
   "execution_count": 2,
   "metadata": {
    "collapsed": false
   },
   "outputs": [
    {
     "data": {
      "text/html": [
       "<div>\n",
       "<table border=\"1\" class=\"dataframe\">\n",
       "  <thead>\n",
       "    <tr style=\"text-align: right;\">\n",
       "      <th></th>\n",
       "      <th>HGNC ID</th>\n",
       "      <th>Approved Symbol</th>\n",
       "      <th>Approved Name</th>\n",
       "      <th>Status</th>\n",
       "      <th>Previous Symbols</th>\n",
       "      <th>Synonyms</th>\n",
       "      <th>Chromosome</th>\n",
       "      <th>Accession Numbers</th>\n",
       "      <th>RefSeq IDs</th>\n",
       "    </tr>\n",
       "  </thead>\n",
       "  <tbody>\n",
       "    <tr>\n",
       "      <th>0</th>\n",
       "      <td>HGNC:5</td>\n",
       "      <td>A1BG</td>\n",
       "      <td>alpha-1-B glycoprotein</td>\n",
       "      <td>Approved</td>\n",
       "      <td>NaN</td>\n",
       "      <td>NaN</td>\n",
       "      <td>19q13.43</td>\n",
       "      <td>NaN</td>\n",
       "      <td>NM_130786</td>\n",
       "    </tr>\n",
       "    <tr>\n",
       "      <th>1</th>\n",
       "      <td>HGNC:37133</td>\n",
       "      <td>A1BG-AS1</td>\n",
       "      <td>A1BG antisense RNA 1</td>\n",
       "      <td>Approved</td>\n",
       "      <td>NCRNA00181, A1BGAS, A1BG-AS</td>\n",
       "      <td>FLJ23569</td>\n",
       "      <td>19q13.43</td>\n",
       "      <td>BC040926</td>\n",
       "      <td>NR_015380</td>\n",
       "    </tr>\n",
       "    <tr>\n",
       "      <th>2</th>\n",
       "      <td>HGNC:24086</td>\n",
       "      <td>A1CF</td>\n",
       "      <td>APOBEC1 complementation factor</td>\n",
       "      <td>Approved</td>\n",
       "      <td>NaN</td>\n",
       "      <td>ACF, ASP, ACF64, ACF65, APOBEC1CF</td>\n",
       "      <td>10q21.1</td>\n",
       "      <td>AF271790</td>\n",
       "      <td>NM_014576</td>\n",
       "    </tr>\n",
       "    <tr>\n",
       "      <th>3</th>\n",
       "      <td>HGNC:6</td>\n",
       "      <td>A1S9T~withdrawn</td>\n",
       "      <td>symbol withdrawn, see UBA1</td>\n",
       "      <td>Symbol Withdrawn</td>\n",
       "      <td>NaN</td>\n",
       "      <td>NaN</td>\n",
       "      <td>NaN</td>\n",
       "      <td>NaN</td>\n",
       "      <td>NaN</td>\n",
       "    </tr>\n",
       "    <tr>\n",
       "      <th>4</th>\n",
       "      <td>HGNC:7</td>\n",
       "      <td>A2M</td>\n",
       "      <td>alpha-2-macroglobulin</td>\n",
       "      <td>Approved</td>\n",
       "      <td>NaN</td>\n",
       "      <td>FWP007, S863-7, CPAMD5</td>\n",
       "      <td>12p13.31</td>\n",
       "      <td>BX647329, X68728, M11313</td>\n",
       "      <td>NM_000014</td>\n",
       "    </tr>\n",
       "  </tbody>\n",
       "</table>\n",
       "</div>"
      ],
      "text/plain": [
       "      HGNC ID  Approved Symbol                   Approved Name  \\\n",
       "0      HGNC:5             A1BG          alpha-1-B glycoprotein   \n",
       "1  HGNC:37133         A1BG-AS1            A1BG antisense RNA 1   \n",
       "2  HGNC:24086             A1CF  APOBEC1 complementation factor   \n",
       "3      HGNC:6  A1S9T~withdrawn      symbol withdrawn, see UBA1   \n",
       "4      HGNC:7              A2M           alpha-2-macroglobulin   \n",
       "\n",
       "             Status             Previous Symbols  \\\n",
       "0          Approved                          NaN   \n",
       "1          Approved  NCRNA00181, A1BGAS, A1BG-AS   \n",
       "2          Approved                          NaN   \n",
       "3  Symbol Withdrawn                          NaN   \n",
       "4          Approved                          NaN   \n",
       "\n",
       "                            Synonyms Chromosome         Accession Numbers  \\\n",
       "0                                NaN   19q13.43                       NaN   \n",
       "1                           FLJ23569   19q13.43                  BC040926   \n",
       "2  ACF, ASP, ACF64, ACF65, APOBEC1CF    10q21.1                  AF271790   \n",
       "3                                NaN        NaN                       NaN   \n",
       "4             FWP007, S863-7, CPAMD5   12p13.31  BX647329, X68728, M11313   \n",
       "\n",
       "  RefSeq IDs  \n",
       "0  NM_130786  \n",
       "1  NR_015380  \n",
       "2  NM_014576  \n",
       "3        NaN  \n",
       "4  NM_000014  "
      ]
     },
     "execution_count": 2,
     "metadata": {},
     "output_type": "execute_result"
    }
   ],
   "source": [
    "d_gene_id = hugo.get_huge_genes()\n",
    "d_ge.head()"
   ]
  },
  {
   "cell_type": "code",
   "execution_count": 17,
   "metadata": {
    "collapsed": false
   },
   "outputs": [
    {
     "data": {
      "text/html": [
       "<div>\n",
       "<table border=\"1\" class=\"dataframe\">\n",
       "  <thead>\n",
       "    <tr style=\"text-align: right;\">\n",
       "      <th></th>\n",
       "      <th>genetic_profile_id</th>\n",
       "      <th>genetic_profile_name</th>\n",
       "      <th>genetic_profile_description</th>\n",
       "      <th>cancer_study_id</th>\n",
       "      <th>genetic_alteration_type</th>\n",
       "      <th>show_profile_in_analysis_tab</th>\n",
       "    </tr>\n",
       "  </thead>\n",
       "  <tbody>\n",
       "    <tr>\n",
       "      <th>0</th>\n",
       "      <td>cellline_ccle_broad_CNA</td>\n",
       "      <td>Putative copy-number alterations</td>\n",
       "      <td>Putative copy-number calls in 972 samples dete...</td>\n",
       "      <td>44</td>\n",
       "      <td>COPY_NUMBER_ALTERATION</td>\n",
       "      <td>True</td>\n",
       "    </tr>\n",
       "    <tr>\n",
       "      <th>1</th>\n",
       "      <td>cellline_ccle_broad_mrna_median_Zscores</td>\n",
       "      <td>mRNA Expression z-Scores (microarray)</td>\n",
       "      <td>mRNA z-Scores (Affymetrix microarray)</td>\n",
       "      <td>44</td>\n",
       "      <td>MRNA_EXPRESSION</td>\n",
       "      <td>True</td>\n",
       "    </tr>\n",
       "    <tr>\n",
       "      <th>2</th>\n",
       "      <td>cellline_ccle_broad_log2CNA</td>\n",
       "      <td>Log2 copy-number values</td>\n",
       "      <td>Log2 copy-number values for each gene (from Af...</td>\n",
       "      <td>44</td>\n",
       "      <td>COPY_NUMBER_ALTERATION</td>\n",
       "      <td>False</td>\n",
       "    </tr>\n",
       "    <tr>\n",
       "      <th>3</th>\n",
       "      <td>cellline_ccle_broad_mutations</td>\n",
       "      <td>Mutations</td>\n",
       "      <td>Mutation data from targeted sequencing (1561 g...</td>\n",
       "      <td>44</td>\n",
       "      <td>MUTATION_EXTENDED</td>\n",
       "      <td>True</td>\n",
       "    </tr>\n",
       "    <tr>\n",
       "      <th>4</th>\n",
       "      <td>cellline_ccle_broad_mrna</td>\n",
       "      <td>mRNA expression (microarray)</td>\n",
       "      <td>Expression levels for 16219 genes in 991 sampl...</td>\n",
       "      <td>44</td>\n",
       "      <td>MRNA_EXPRESSION</td>\n",
       "      <td>False</td>\n",
       "    </tr>\n",
       "  </tbody>\n",
       "</table>\n",
       "</div>"
      ],
      "text/plain": [
       "                        genetic_profile_id  \\\n",
       "0                  cellline_ccle_broad_CNA   \n",
       "1  cellline_ccle_broad_mrna_median_Zscores   \n",
       "2              cellline_ccle_broad_log2CNA   \n",
       "3            cellline_ccle_broad_mutations   \n",
       "4                 cellline_ccle_broad_mrna   \n",
       "\n",
       "                    genetic_profile_name  \\\n",
       "0       Putative copy-number alterations   \n",
       "1  mRNA Expression z-Scores (microarray)   \n",
       "2                Log2 copy-number values   \n",
       "3                              Mutations   \n",
       "4           mRNA expression (microarray)   \n",
       "\n",
       "                         genetic_profile_description  cancer_study_id  \\\n",
       "0  Putative copy-number calls in 972 samples dete...               44   \n",
       "1              mRNA z-Scores (Affymetrix microarray)               44   \n",
       "2  Log2 copy-number values for each gene (from Af...               44   \n",
       "3  Mutation data from targeted sequencing (1561 g...               44   \n",
       "4  Expression levels for 16219 genes in 991 sampl...               44   \n",
       "\n",
       "  genetic_alteration_type show_profile_in_analysis_tab  \n",
       "0  COPY_NUMBER_ALTERATION                         True  \n",
       "1         MRNA_EXPRESSION                         True  \n",
       "2  COPY_NUMBER_ALTERATION                        False  \n",
       "3       MUTATION_EXTENDED                         True  \n",
       "4         MRNA_EXPRESSION                        False  "
      ]
     },
     "execution_count": 17,
     "metadata": {},
     "output_type": "execute_result"
    }
   ],
   "source": [
    "d_gene = "
   ]
  },
  {
   "cell_type": "code",
   "execution_count": 13,
   "metadata": {
    "collapsed": false
   },
   "outputs": [
    {
     "data": {
      "text/html": [
       "<div>\n",
       "<table border=\"1\" class=\"dataframe\">\n",
       "  <thead>\n",
       "    <tr style=\"text-align: right;\">\n",
       "      <th></th>\n",
       "      <th>cancer_study_id</th>\n",
       "      <th>name</th>\n",
       "      <th>description</th>\n",
       "    </tr>\n",
       "  </thead>\n",
       "  <tbody>\n",
       "    <tr>\n",
       "      <th>0</th>\n",
       "      <td>paac_jhu_2014</td>\n",
       "      <td>Acinar Cell Carcinoma of the Pancreas (Johns H...</td>\n",
       "      <td>Mutation data from whole exome sequencing of 2...</td>\n",
       "    </tr>\n",
       "    <tr>\n",
       "      <th>1</th>\n",
       "      <td>laml_tcga_pub</td>\n",
       "      <td>Acute Myeloid Leukemia (TCGA, NEJM 2013)</td>\n",
       "      <td>TCGA Acute Myeloid Leukemia, analysis of 200 a...</td>\n",
       "    </tr>\n",
       "    <tr>\n",
       "      <th>2</th>\n",
       "      <td>laml_tcga</td>\n",
       "      <td>Acute Myeloid Leukemia (TCGA, Provisional)</td>\n",
       "      <td>TCGA Acute Myeloid Leukemia; raw data at the &lt;...</td>\n",
       "    </tr>\n",
       "    <tr>\n",
       "      <th>3</th>\n",
       "      <td>acyc_mskcc</td>\n",
       "      <td>Adenoid Cystic Carcinoma (MSKCC, Nat Genet 2013)</td>\n",
       "      <td>Exome profiling of 60 adenoid cystic carcinoma...</td>\n",
       "    </tr>\n",
       "    <tr>\n",
       "      <th>4</th>\n",
       "      <td>acc_tcga</td>\n",
       "      <td>Adrenocortical Carcinoma (TCGA, Provisional)</td>\n",
       "      <td>TCGA Adrenocortical Carcinoma; raw data at the...</td>\n",
       "    </tr>\n",
       "  </tbody>\n",
       "</table>\n",
       "</div>"
      ],
      "text/plain": [
       "  cancer_study_id                                               name  \\\n",
       "0   paac_jhu_2014  Acinar Cell Carcinoma of the Pancreas (Johns H...   \n",
       "1   laml_tcga_pub           Acute Myeloid Leukemia (TCGA, NEJM 2013)   \n",
       "2       laml_tcga         Acute Myeloid Leukemia (TCGA, Provisional)   \n",
       "3      acyc_mskcc   Adenoid Cystic Carcinoma (MSKCC, Nat Genet 2013)   \n",
       "4        acc_tcga       Adrenocortical Carcinoma (TCGA, Provisional)   \n",
       "\n",
       "                                         description  \n",
       "0  Mutation data from whole exome sequencing of 2...  \n",
       "1  TCGA Acute Myeloid Leukemia, analysis of 200 a...  \n",
       "2  TCGA Acute Myeloid Leukemia; raw data at the <...  \n",
       "3  Exome profiling of 60 adenoid cystic carcinoma...  \n",
       "4  TCGA Adrenocortical Carcinoma; raw data at the...  "
      ]
     },
     "execution_count": 13,
     "metadata": {},
     "output_type": "execute_result"
    }
   ],
   "source": [
    "d_cs = get_cancer_studies()\n",
    "d_cs.head()"
   ]
  },
  {
   "cell_type": "code",
   "execution_count": 11,
   "metadata": {
    "collapsed": false
   },
   "outputs": [
    {
     "data": {
      "text/html": [
       "<div>\n",
       "<table border=\"1\" class=\"dataframe\">\n",
       "  <thead>\n",
       "    <tr style=\"text-align: right;\">\n",
       "      <th></th>\n",
       "      <th>case_list_id</th>\n",
       "      <th>case_list_name</th>\n",
       "      <th>case_list_description</th>\n",
       "      <th>cancer_study_id</th>\n",
       "      <th>case_ids</th>\n",
       "    </tr>\n",
       "  </thead>\n",
       "  <tbody>\n",
       "    <tr>\n",
       "      <th>0</th>\n",
       "      <td>cellline_ccle_broad_3way_complete</td>\n",
       "      <td>All Complete Tumors</td>\n",
       "      <td>All tumor samples that have mRNA, CNA and sequ...</td>\n",
       "      <td>44</td>\n",
       "      <td>22RV1_PROSTATE 2313287_STOMACH 42MGBA_CENTRAL_...</td>\n",
       "    </tr>\n",
       "    <tr>\n",
       "      <th>1</th>\n",
       "      <td>cellline_ccle_broad_all</td>\n",
       "      <td>All Tumors</td>\n",
       "      <td>All tumor samples (1019 samples)</td>\n",
       "      <td>44</td>\n",
       "      <td>1321N1_CENTRAL_NERVOUS_SYSTEM 143B_BONE 22RV1_...</td>\n",
       "    </tr>\n",
       "    <tr>\n",
       "      <th>2</th>\n",
       "      <td>cellline_ccle_broad_sequenced</td>\n",
       "      <td>Sequenced Tumors</td>\n",
       "      <td>All (Next-Gen) sequenced samples (905 samples)</td>\n",
       "      <td>44</td>\n",
       "      <td>22RV1_PROSTATE 2313287_STOMACH 42MGBA_CENTRAL_...</td>\n",
       "    </tr>\n",
       "    <tr>\n",
       "      <th>3</th>\n",
       "      <td>cellline_ccle_broad_cna</td>\n",
       "      <td>Tumor Samples with CNA data</td>\n",
       "      <td>All tumors with CNA data (995 samples)</td>\n",
       "      <td>44</td>\n",
       "      <td>1321N1_CENTRAL_NERVOUS_SYSTEM 143B_BONE 22RV1_...</td>\n",
       "    </tr>\n",
       "    <tr>\n",
       "      <th>4</th>\n",
       "      <td>cellline_ccle_broad_log2CNA</td>\n",
       "      <td>Tumor Samples with log2 copy-number</td>\n",
       "      <td>All tumors with log2 copy-number data (995 sam...</td>\n",
       "      <td>44</td>\n",
       "      <td>1321N1_CENTRAL_NERVOUS_SYSTEM 143B_BONE 22RV1_...</td>\n",
       "    </tr>\n",
       "  </tbody>\n",
       "</table>\n",
       "</div>"
      ],
      "text/plain": [
       "                        case_list_id                       case_list_name  \\\n",
       "0  cellline_ccle_broad_3way_complete                  All Complete Tumors   \n",
       "1            cellline_ccle_broad_all                           All Tumors   \n",
       "2      cellline_ccle_broad_sequenced                     Sequenced Tumors   \n",
       "3            cellline_ccle_broad_cna          Tumor Samples with CNA data   \n",
       "4        cellline_ccle_broad_log2CNA  Tumor Samples with log2 copy-number   \n",
       "\n",
       "                               case_list_description  cancer_study_id  \\\n",
       "0  All tumor samples that have mRNA, CNA and sequ...               44   \n",
       "1                   All tumor samples (1019 samples)               44   \n",
       "2     All (Next-Gen) sequenced samples (905 samples)               44   \n",
       "3             All tumors with CNA data (995 samples)               44   \n",
       "4  All tumors with log2 copy-number data (995 sam...               44   \n",
       "\n",
       "                                            case_ids  \n",
       "0  22RV1_PROSTATE 2313287_STOMACH 42MGBA_CENTRAL_...  \n",
       "1  1321N1_CENTRAL_NERVOUS_SYSTEM 143B_BONE 22RV1_...  \n",
       "2  22RV1_PROSTATE 2313287_STOMACH 42MGBA_CENTRAL_...  \n",
       "3  1321N1_CENTRAL_NERVOUS_SYSTEM 143B_BONE 22RV1_...  \n",
       "4  1321N1_CENTRAL_NERVOUS_SYSTEM 143B_BONE 22RV1_...  "
      ]
     },
     "execution_count": 11,
     "metadata": {},
     "output_type": "execute_result"
    }
   ],
   "source": [
    "d_cl = get_case_lists('cellline_ccle_broad')\n",
    "d_cl.head()"
   ]
  },
  {
   "cell_type": "code",
   "execution_count": 8,
   "metadata": {
    "collapsed": false
   },
   "outputs": [
    {
     "data": {
      "text/plain": [
       "<module 'musc_genomics.data_import.cgds' from '/Users/eczech/repos/musc_genomics/src/python/src/musc_genomics/data_import/cgds.py'>"
      ]
     },
     "execution_count": 8,
     "metadata": {},
     "output_type": "execute_result"
    }
   ],
   "source": [
    "import imp\n",
    "imp.reload(cgds)"
   ]
  },
  {
   "cell_type": "code",
   "execution_count": 9,
   "metadata": {
    "collapsed": false
   },
   "outputs": [
    {
     "name": "stderr",
     "output_type": "stream",
     "text": [
      "2016-07-05 14:47:30,586:INFO:musc_genomics.data_import.cgds: Processing batch 1 of 789\n"
     ]
    },
    {
     "name": "stdout",
     "output_type": "stream",
     "text": [
      "> \u001b[0;32m/Users/eczech/repos/musc_genomics/src/python/src/musc_genomics/data_import/cgds.py\u001b[0m(80)\u001b[0;36mget_genetic_profile_data\u001b[0;34m()\u001b[0m\n",
      "\u001b[0;32m     78 \u001b[0;31m        }\n",
      "\u001b[0m\u001b[0;32m     79 \u001b[0;31m        \u001b[0mTracer\u001b[0m\u001b[0;34m(\u001b[0m\u001b[0;34m)\u001b[0m\u001b[0;34m(\u001b[0m\u001b[0;34m)\u001b[0m\u001b[0;34m\u001b[0m\u001b[0m\n",
      "\u001b[0m\u001b[0;32m---> 80 \u001b[0;31m        \u001b[0mres\u001b[0m\u001b[0;34m.\u001b[0m\u001b[0mappend\u001b[0m\u001b[0;34m(\u001b[0m\u001b[0m_get\u001b[0m\u001b[0;34m(\u001b[0m\u001b[0;34m'getProfileData'\u001b[0m\u001b[0;34m,\u001b[0m \u001b[0mdata\u001b[0m\u001b[0;34m)\u001b[0m\u001b[0;34m)\u001b[0m\u001b[0;34m\u001b[0m\u001b[0m\n",
      "\u001b[0m\u001b[0;32m     81 \u001b[0;31m\u001b[0;34m\u001b[0m\u001b[0m\n",
      "\u001b[0m\u001b[0;32m     82 \u001b[0;31m    \u001b[0;31m# Return results as single, combined data frame\u001b[0m\u001b[0;34m\u001b[0m\u001b[0;34m\u001b[0m\u001b[0m\n",
      "\u001b[0m\n",
      "\u0001\u0002ipdb> \u0001\u0002dt = _get('getProfileData', data)\n",
      "\u0001\u0002ipdb> \u0001\u0002dt.info()\n",
      "<class 'pandas.core.frame.DataFrame'>\n",
      "RangeIndex: 50 entries, 0 to 49\n",
      "Columns: 1021 entries, GENE_ID to UOK101_KIDNEY\n",
      "dtypes: float64(1019), int64(1), object(1)\n",
      "memory usage: 398.9+ KB\n",
      "\u0001\u0002ipdb> \u0001\u0002dt.iloc[:3,:10]\n",
      "   GENE_ID    COMMON  1321N1_CENTRAL_NERVOUS_SYSTEM  143B_BONE  \\\n",
      "0        1      A1BG                        -0.1544     -0.212   \n",
      "1   503538  A1BG-AS1                        -0.1544     -0.212   \n",
      "2    29974      A1CF                        -0.0985      0.158   \n",
      "\n",
      "   22RV1_PROSTATE  2313287_STOMACH  42MGBA_CENTRAL_NERVOUS_SYSTEM  \\\n",
      "0        -0.08084         -0.03310                         0.0322   \n",
      "1        -0.08084         -0.03310                         0.0322   \n",
      "2        -0.00250         -0.05348                        -0.0522   \n",
      "\n",
      "   5637_URINARY_TRACT  59M_OVARY  639V_URINARY_TRACT  \n",
      "0            -0.03514     0.2090              0.0828  \n",
      "1            -0.03514     0.2090              0.0828  \n",
      "2            -0.49350     0.5006              0.0590  \n",
      "\u0001\u0002ipdb> \u0001\u0002dt.describe()\n"
     ]
    },
    {
     "name": "stderr",
     "output_type": "stream",
     "text": [
      "/Users/eczech/anaconda/envs/research3.5/lib/python3.5/site-packages/numpy/lib/function_base.py:3834: RuntimeWarning: Invalid value encountered in percentile\n",
      "  RuntimeWarning)\n"
     ]
    },
    {
     "name": "stdout",
     "output_type": "stream",
     "text": [
      "            GENE_ID  1321N1_CENTRAL_NERVOUS_SYSTEM  143B_BONE  22RV1_PROSTATE  \\\n",
      "count  5.000000e+01                      38.000000  38.000000       38.000000   \n",
      "mean   1.047205e+07                       0.059126  -0.012867       -0.006256   \n",
      "std    3.141970e+07                       0.231002   0.196647        0.248125   \n",
      "min    1.000000e+00                      -0.607900  -0.275700       -1.047000   \n",
      "25%    2.039500e+03                            NaN        NaN             NaN   \n",
      "50%    5.255650e+04                            NaN        NaN             NaN   \n",
      "75%    2.001950e+05                            NaN        NaN             NaN   \n",
      "max    1.064807e+08                       0.422900   0.537700        0.532000   \n",
      "\n",
      "       2313287_STOMACH  42MGBA_CENTRAL_NERVOUS_SYSTEM  5637_URINARY_TRACT  \\\n",
      "count        38.000000                      38.000000           38.000000   \n",
      "mean         -0.004480                      -0.023686            0.102213   \n",
      "std           0.212096                       0.263988            0.348512   \n",
      "min          -0.191700                      -0.405100           -0.577900   \n",
      "25%                NaN                            NaN                 NaN   \n",
      "50%                NaN                            NaN                 NaN   \n",
      "75%                NaN                            NaN                 NaN   \n",
      "max           1.139000                       0.611900            0.612200   \n",
      "\n",
      "       59M_OVARY  639V_URINARY_TRACT  647V_URINARY_TRACT      ...        \\\n",
      "count  38.000000           38.000000           38.000000      ...         \n",
      "mean    0.055118           -0.044429            0.046465      ...         \n",
      "std     0.347899            0.251732            0.318087      ...         \n",
      "min    -0.793600           -0.356400           -0.373300      ...         \n",
      "25%          NaN                 NaN                 NaN      ...         \n",
      "50%          NaN                 NaN                 NaN      ...         \n",
      "75%          NaN                 NaN                 NaN      ...         \n",
      "max     1.204000            0.560300            0.689100      ...         \n",
      "\n",
      "       SLR21_KIDNEY  SLR23_KIDNEY  SLR25_KIDNEY  SLR26_KIDNEY  TC32_BONE  \\\n",
      "count     38.000000     38.000000     38.000000     38.000000  38.000000   \n",
      "mean       0.065937      0.080026      0.066174      0.047943  -0.047418   \n",
      "std        0.315752      0.317695      0.328625      0.405708   0.088055   \n",
      "min       -1.056000     -0.570600     -0.275600     -0.748500  -0.088500   \n",
      "25%             NaN           NaN           NaN           NaN        NaN   \n",
      "50%             NaN           NaN           NaN           NaN        NaN   \n",
      "75%             NaN           NaN           NaN           NaN        NaN   \n",
      "max        0.709500      0.673200      0.913500      0.803500   0.474500   \n",
      "\n",
      "       TIG3TD_LUNG  U178_CENTRAL_NERVOUS_SYSTEM  UMRC2_KIDNEY  UMRC6_KIDNEY  \\\n",
      "count    38.000000                    38.000000     38.000000     38.000000   \n",
      "mean      0.007326                     0.067572      0.129057      0.112916   \n",
      "std       0.007777                     0.229524      0.235436      0.397479   \n",
      "min      -0.008200                    -0.811600     -0.539100     -0.860900   \n",
      "25%            NaN                          NaN           NaN           NaN   \n",
      "50%            NaN                          NaN           NaN           NaN   \n",
      "75%            NaN                          NaN           NaN           NaN   \n",
      "max       0.024300                     0.563100      0.503500      0.812500   \n",
      "\n",
      "       UOK101_KIDNEY  \n",
      "count      38.000000  \n",
      "mean        0.069519  \n",
      "std         0.355478  \n",
      "min        -0.589000  \n",
      "25%              NaN  \n",
      "50%              NaN  \n",
      "75%              NaN  \n",
      "max         0.468900  \n",
      "\n",
      "[8 rows x 1020 columns]\n",
      "\u0001\u0002ipdb> \u0001\u0002exit\n",
      "Exiting Debugger.\n"
     ]
    }
   ],
   "source": [
    "GEN_PROF_COPY_NUMBER = 'cellline_ccle_broad_log2CNA'\n",
    "GEN_PROF_GENE_EXPRESSION = 'cellline_ccle_broad_mrna_median_Zscores'\n",
    "GEN_PROF_MUTATION = 'cellline_ccle_broad_mutations'\n",
    "d_gp = cgds.get_genetic_profile_data('cellline_ccle_broad_all', GEN_PROF_COPY_NUMBER, ids)"
   ]
  },
  {
   "cell_type": "code",
   "execution_count": 5,
   "metadata": {
    "collapsed": false
   },
   "outputs": [
    {
     "data": {
      "text/plain": [
       "array(['A1BG', 'A1BG-AS1', 'A1CF', 'A2M', 'A2M-AS1'], dtype=object)"
      ]
     },
     "execution_count": 5,
     "metadata": {},
     "output_type": "execute_result"
    }
   ],
   "source": [
    "ids[:5]"
   ]
  },
  {
   "cell_type": "code",
   "execution_count": null,
   "metadata": {
    "collapsed": true
   },
   "outputs": [],
   "source": [
    "pd.read_csv()"
   ]
  },
  {
   "cell_type": "code",
   "execution_count": 13,
   "metadata": {
    "collapsed": false
   },
   "outputs": [
    {
     "data": {
      "text/plain": [
       "'y=asfd%26sdf&x=3'"
      ]
     },
     "execution_count": 13,
     "metadata": {},
     "output_type": "execute_result"
    }
   ],
   "source": [
    "from urllib import parse\n",
    "parse.urlencode({'x': 3, 'y': 'asfd&sdf'})"
   ]
  },
  {
   "cell_type": "code",
   "execution_count": null,
   "metadata": {
    "collapsed": true
   },
   "outputs": [],
   "source": []
  }
 ],
 "metadata": {
  "kernelspec": {
   "display_name": "Python 3",
   "language": "python",
   "name": "python3"
  },
  "language_info": {
   "codemirror_mode": {
    "name": "ipython",
    "version": 3
   },
   "file_extension": ".py",
   "mimetype": "text/x-python",
   "name": "python",
   "nbconvert_exporter": "python",
   "pygments_lexer": "ipython3",
   "version": "3.5.1"
  }
 },
 "nbformat": 4,
 "nbformat_minor": 0
}
