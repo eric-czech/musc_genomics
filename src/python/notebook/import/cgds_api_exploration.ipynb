{
 "cells": [
  {
   "cell_type": "code",
   "execution_count": 4,
   "metadata": {
    "collapsed": true
   },
   "outputs": [],
   "source": [
    "%run -m ipy_startup\n",
    "%run -m ipy_logging\n",
    "from musc_genomics import data\n",
    "from musc_genomics.data_import import cgds, hugo, api"
   ]
  },
  {
   "cell_type": "markdown",
   "metadata": {},
   "source": [
    "# Cancer Studies"
   ]
  },
  {
   "cell_type": "code",
   "execution_count": 18,
   "metadata": {
    "collapsed": false
   },
   "outputs": [
    {
     "data": {
      "text/html": [
       "<div>\n",
       "<table border=\"1\" class=\"dataframe\">\n",
       "  <thead>\n",
       "    <tr style=\"text-align: right;\">\n",
       "      <th></th>\n",
       "      <th>cancer_study_id</th>\n",
       "      <th>name</th>\n",
       "      <th>description</th>\n",
       "    </tr>\n",
       "  </thead>\n",
       "  <tbody>\n",
       "    <tr>\n",
       "      <th>0</th>\n",
       "      <td>paac_jhu_2014</td>\n",
       "      <td>Acinar Cell Carcinoma of the Pancreas (Johns H...</td>\n",
       "      <td>Mutation data from whole exome sequencing of 2...</td>\n",
       "    </tr>\n",
       "    <tr>\n",
       "      <th>1</th>\n",
       "      <td>laml_tcga_pub</td>\n",
       "      <td>Acute Myeloid Leukemia (TCGA, NEJM 2013)</td>\n",
       "      <td>TCGA Acute Myeloid Leukemia, analysis of 200 a...</td>\n",
       "    </tr>\n",
       "    <tr>\n",
       "      <th>2</th>\n",
       "      <td>laml_tcga</td>\n",
       "      <td>Acute Myeloid Leukemia (TCGA, Provisional)</td>\n",
       "      <td>TCGA Acute Myeloid Leukemia; raw data at the &lt;...</td>\n",
       "    </tr>\n",
       "    <tr>\n",
       "      <th>3</th>\n",
       "      <td>acyc_mskcc</td>\n",
       "      <td>Adenoid Cystic Carcinoma (MSKCC, Nat Genet 2013)</td>\n",
       "      <td>Exome profiling of 60 adenoid cystic carcinoma...</td>\n",
       "    </tr>\n",
       "    <tr>\n",
       "      <th>4</th>\n",
       "      <td>acc_tcga</td>\n",
       "      <td>Adrenocortical Carcinoma (TCGA, Provisional)</td>\n",
       "      <td>TCGA Adrenocortical Carcinoma; raw data at the...</td>\n",
       "    </tr>\n",
       "  </tbody>\n",
       "</table>\n",
       "</div>"
      ],
      "text/plain": [
       "  cancer_study_id                                               name  \\\n",
       "0   paac_jhu_2014  Acinar Cell Carcinoma of the Pancreas (Johns H...   \n",
       "1   laml_tcga_pub           Acute Myeloid Leukemia (TCGA, NEJM 2013)   \n",
       "2       laml_tcga         Acute Myeloid Leukemia (TCGA, Provisional)   \n",
       "3      acyc_mskcc   Adenoid Cystic Carcinoma (MSKCC, Nat Genet 2013)   \n",
       "4        acc_tcga       Adrenocortical Carcinoma (TCGA, Provisional)   \n",
       "\n",
       "                                         description  \n",
       "0  Mutation data from whole exome sequencing of 2...  \n",
       "1  TCGA Acute Myeloid Leukemia, analysis of 200 a...  \n",
       "2  TCGA Acute Myeloid Leukemia; raw data at the <...  \n",
       "3  Exome profiling of 60 adenoid cystic carcinoma...  \n",
       "4  TCGA Adrenocortical Carcinoma; raw data at the...  "
      ]
     },
     "execution_count": 18,
     "metadata": {},
     "output_type": "execute_result"
    }
   ],
   "source": [
    "d_cs = cgds.get_cancer_studies()\n",
    "d_cs.head()"
   ]
  },
  {
   "cell_type": "code",
   "execution_count": 38,
   "metadata": {
    "collapsed": false
   },
   "outputs": [
    {
     "data": {
      "text/html": [
       "<div>\n",
       "<table border=\"1\" class=\"dataframe\">\n",
       "  <thead>\n",
       "    <tr style=\"text-align: right;\">\n",
       "      <th></th>\n",
       "      <th>cancer_study_id</th>\n",
       "      <th>name</th>\n",
       "      <th>description</th>\n",
       "    </tr>\n",
       "  </thead>\n",
       "  <tbody>\n",
       "    <tr>\n",
       "      <th>20</th>\n",
       "      <td>cellline_ccle_broad</td>\n",
       "      <td>Cancer Cell Line Encyclopedia (Novartis/Broad,...</td>\n",
       "      <td>Cancer Cell Line Encyclopedia from the Broad I...</td>\n",
       "    </tr>\n",
       "  </tbody>\n",
       "</table>\n",
       "</div>"
      ],
      "text/plain": [
       "        cancer_study_id                                               name  \\\n",
       "20  cellline_ccle_broad  Cancer Cell Line Encyclopedia (Novartis/Broad,...   \n",
       "\n",
       "                                          description  \n",
       "20  Cancer Cell Line Encyclopedia from the Broad I...  "
      ]
     },
     "execution_count": 38,
     "metadata": {},
     "output_type": "execute_result"
    }
   ],
   "source": [
    "d_cs[d_cs.cancer_study_id.str.contains('ccle')]"
   ]
  },
  {
   "cell_type": "markdown",
   "metadata": {},
   "source": [
    "# Cancer Types\n",
    "- not sure where this gets used?"
   ]
  },
  {
   "cell_type": "code",
   "execution_count": 39,
   "metadata": {
    "collapsed": false
   },
   "outputs": [
    {
     "data": {
      "text/html": [
       "<div>\n",
       "<table border=\"1\" class=\"dataframe\">\n",
       "  <thead>\n",
       "    <tr style=\"text-align: right;\">\n",
       "      <th></th>\n",
       "      <th>type_of_cancer_id</th>\n",
       "      <th>name</th>\n",
       "    </tr>\n",
       "  </thead>\n",
       "  <tbody>\n",
       "    <tr>\n",
       "      <th>0</th>\n",
       "      <td>mychs</td>\n",
       "      <td>Myxoid Chondrosarcoma</td>\n",
       "    </tr>\n",
       "    <tr>\n",
       "      <th>1</th>\n",
       "      <td>unec</td>\n",
       "      <td>Uterine Neuroendocrine Carcinoma</td>\n",
       "    </tr>\n",
       "    <tr>\n",
       "      <th>2</th>\n",
       "      <td>nmzl</td>\n",
       "      <td>Nodal Marginal Zone Lymphoma</td>\n",
       "    </tr>\n",
       "    <tr>\n",
       "      <th>3</th>\n",
       "      <td>tcca</td>\n",
       "      <td>Choriocarcinoma</td>\n",
       "    </tr>\n",
       "    <tr>\n",
       "      <th>4</th>\n",
       "      <td>ptpr</td>\n",
       "      <td>Papillary Tumor of the Pineal Region</td>\n",
       "    </tr>\n",
       "  </tbody>\n",
       "</table>\n",
       "</div>"
      ],
      "text/plain": [
       "  type_of_cancer_id                                  name\n",
       "0             mychs                 Myxoid Chondrosarcoma\n",
       "1              unec      Uterine Neuroendocrine Carcinoma\n",
       "2              nmzl          Nodal Marginal Zone Lymphoma\n",
       "3              tcca                       Choriocarcinoma\n",
       "4              ptpr  Papillary Tumor of the Pineal Region"
      ]
     },
     "execution_count": 39,
     "metadata": {},
     "output_type": "execute_result"
    }
   ],
   "source": [
    "d_ct = cgds.get_cancer_types()\n",
    "d_ct.head()"
   ]
  },
  {
   "cell_type": "markdown",
   "metadata": {},
   "source": [
    "# Genetic Profiles"
   ]
  },
  {
   "cell_type": "code",
   "execution_count": 37,
   "metadata": {
    "collapsed": false
   },
   "outputs": [
    {
     "data": {
      "text/html": [
       "<div>\n",
       "<table border=\"1\" class=\"dataframe\">\n",
       "  <thead>\n",
       "    <tr style=\"text-align: right;\">\n",
       "      <th></th>\n",
       "      <th>genetic_profile_id</th>\n",
       "      <th>genetic_profile_name</th>\n",
       "      <th>genetic_profile_description</th>\n",
       "      <th>cancer_study_id</th>\n",
       "      <th>genetic_alteration_type</th>\n",
       "      <th>show_profile_in_analysis_tab</th>\n",
       "    </tr>\n",
       "  </thead>\n",
       "  <tbody>\n",
       "    <tr>\n",
       "      <th>0</th>\n",
       "      <td>cellline_ccle_broad_CNA</td>\n",
       "      <td>Putative copy-number alterations</td>\n",
       "      <td>Putative copy-number calls in 972 samples dete...</td>\n",
       "      <td>44</td>\n",
       "      <td>COPY_NUMBER_ALTERATION</td>\n",
       "      <td>True</td>\n",
       "    </tr>\n",
       "    <tr>\n",
       "      <th>1</th>\n",
       "      <td>cellline_ccle_broad_mrna_median_Zscores</td>\n",
       "      <td>mRNA Expression z-Scores (microarray)</td>\n",
       "      <td>mRNA z-Scores (Affymetrix microarray)</td>\n",
       "      <td>44</td>\n",
       "      <td>MRNA_EXPRESSION</td>\n",
       "      <td>True</td>\n",
       "    </tr>\n",
       "    <tr>\n",
       "      <th>2</th>\n",
       "      <td>cellline_ccle_broad_log2CNA</td>\n",
       "      <td>Log2 copy-number values</td>\n",
       "      <td>Log2 copy-number values for each gene (from Af...</td>\n",
       "      <td>44</td>\n",
       "      <td>COPY_NUMBER_ALTERATION</td>\n",
       "      <td>False</td>\n",
       "    </tr>\n",
       "    <tr>\n",
       "      <th>3</th>\n",
       "      <td>cellline_ccle_broad_mutations</td>\n",
       "      <td>Mutations</td>\n",
       "      <td>Mutation data from targeted sequencing (1561 g...</td>\n",
       "      <td>44</td>\n",
       "      <td>MUTATION_EXTENDED</td>\n",
       "      <td>True</td>\n",
       "    </tr>\n",
       "    <tr>\n",
       "      <th>4</th>\n",
       "      <td>cellline_ccle_broad_mrna</td>\n",
       "      <td>mRNA expression (microarray)</td>\n",
       "      <td>Expression levels for 16219 genes in 991 sampl...</td>\n",
       "      <td>44</td>\n",
       "      <td>MRNA_EXPRESSION</td>\n",
       "      <td>False</td>\n",
       "    </tr>\n",
       "  </tbody>\n",
       "</table>\n",
       "</div>"
      ],
      "text/plain": [
       "                        genetic_profile_id  \\\n",
       "0                  cellline_ccle_broad_CNA   \n",
       "1  cellline_ccle_broad_mrna_median_Zscores   \n",
       "2              cellline_ccle_broad_log2CNA   \n",
       "3            cellline_ccle_broad_mutations   \n",
       "4                 cellline_ccle_broad_mrna   \n",
       "\n",
       "                    genetic_profile_name  \\\n",
       "0       Putative copy-number alterations   \n",
       "1  mRNA Expression z-Scores (microarray)   \n",
       "2                Log2 copy-number values   \n",
       "3                              Mutations   \n",
       "4           mRNA expression (microarray)   \n",
       "\n",
       "                         genetic_profile_description  cancer_study_id  \\\n",
       "0  Putative copy-number calls in 972 samples dete...               44   \n",
       "1              mRNA z-Scores (Affymetrix microarray)               44   \n",
       "2  Log2 copy-number values for each gene (from Af...               44   \n",
       "3  Mutation data from targeted sequencing (1561 g...               44   \n",
       "4  Expression levels for 16219 genes in 991 sampl...               44   \n",
       "\n",
       "  genetic_alteration_type show_profile_in_analysis_tab  \n",
       "0  COPY_NUMBER_ALTERATION                         True  \n",
       "1         MRNA_EXPRESSION                         True  \n",
       "2  COPY_NUMBER_ALTERATION                        False  \n",
       "3       MUTATION_EXTENDED                         True  \n",
       "4         MRNA_EXPRESSION                        False  "
      ]
     },
     "execution_count": 37,
     "metadata": {},
     "output_type": "execute_result"
    }
   ],
   "source": [
    "d_gp = cgds.get_genetic_profiles('cellline_ccle_broad')\n",
    "d_gp"
   ]
  },
  {
   "cell_type": "markdown",
   "metadata": {},
   "source": [
    "# Case Lists"
   ]
  },
  {
   "cell_type": "code",
   "execution_count": 5,
   "metadata": {
    "collapsed": false
   },
   "outputs": [
    {
     "data": {
      "text/html": [
       "<div>\n",
       "<table border=\"1\" class=\"dataframe\">\n",
       "  <thead>\n",
       "    <tr style=\"text-align: right;\">\n",
       "      <th></th>\n",
       "      <th>case_list_id</th>\n",
       "      <th>case_list_name</th>\n",
       "      <th>case_list_description</th>\n",
       "      <th>cancer_study_id</th>\n",
       "      <th>case_ids</th>\n",
       "    </tr>\n",
       "  </thead>\n",
       "  <tbody>\n",
       "    <tr>\n",
       "      <th>0</th>\n",
       "      <td>cellline_ccle_broad_3way_complete</td>\n",
       "      <td>All Complete Tumors</td>\n",
       "      <td>All tumor samples that have mRNA, CNA and sequ...</td>\n",
       "      <td>44</td>\n",
       "      <td>22RV1_PROSTATE 2313287_STOMACH 42MGBA_CENTRAL_...</td>\n",
       "    </tr>\n",
       "    <tr>\n",
       "      <th>1</th>\n",
       "      <td>cellline_ccle_broad_all</td>\n",
       "      <td>All Tumors</td>\n",
       "      <td>All tumor samples (1019 samples)</td>\n",
       "      <td>44</td>\n",
       "      <td>1321N1_CENTRAL_NERVOUS_SYSTEM 143B_BONE 22RV1_...</td>\n",
       "    </tr>\n",
       "    <tr>\n",
       "      <th>2</th>\n",
       "      <td>cellline_ccle_broad_sequenced</td>\n",
       "      <td>Sequenced Tumors</td>\n",
       "      <td>All (Next-Gen) sequenced samples (905 samples)</td>\n",
       "      <td>44</td>\n",
       "      <td>22RV1_PROSTATE 2313287_STOMACH 42MGBA_CENTRAL_...</td>\n",
       "    </tr>\n",
       "    <tr>\n",
       "      <th>3</th>\n",
       "      <td>cellline_ccle_broad_cna</td>\n",
       "      <td>Tumor Samples with CNA data</td>\n",
       "      <td>All tumors with CNA data (995 samples)</td>\n",
       "      <td>44</td>\n",
       "      <td>1321N1_CENTRAL_NERVOUS_SYSTEM 143B_BONE 22RV1_...</td>\n",
       "    </tr>\n",
       "    <tr>\n",
       "      <th>4</th>\n",
       "      <td>cellline_ccle_broad_log2CNA</td>\n",
       "      <td>Tumor Samples with log2 copy-number</td>\n",
       "      <td>All tumors with log2 copy-number data (995 sam...</td>\n",
       "      <td>44</td>\n",
       "      <td>1321N1_CENTRAL_NERVOUS_SYSTEM 143B_BONE 22RV1_...</td>\n",
       "    </tr>\n",
       "  </tbody>\n",
       "</table>\n",
       "</div>"
      ],
      "text/plain": [
       "                        case_list_id                       case_list_name  \\\n",
       "0  cellline_ccle_broad_3way_complete                  All Complete Tumors   \n",
       "1            cellline_ccle_broad_all                           All Tumors   \n",
       "2      cellline_ccle_broad_sequenced                     Sequenced Tumors   \n",
       "3            cellline_ccle_broad_cna          Tumor Samples with CNA data   \n",
       "4        cellline_ccle_broad_log2CNA  Tumor Samples with log2 copy-number   \n",
       "\n",
       "                               case_list_description  cancer_study_id  \\\n",
       "0  All tumor samples that have mRNA, CNA and sequ...               44   \n",
       "1                   All tumor samples (1019 samples)               44   \n",
       "2     All (Next-Gen) sequenced samples (905 samples)               44   \n",
       "3             All tumors with CNA data (995 samples)               44   \n",
       "4  All tumors with log2 copy-number data (995 sam...               44   \n",
       "\n",
       "                                            case_ids  \n",
       "0  22RV1_PROSTATE 2313287_STOMACH 42MGBA_CENTRAL_...  \n",
       "1  1321N1_CENTRAL_NERVOUS_SYSTEM 143B_BONE 22RV1_...  \n",
       "2  22RV1_PROSTATE 2313287_STOMACH 42MGBA_CENTRAL_...  \n",
       "3  1321N1_CENTRAL_NERVOUS_SYSTEM 143B_BONE 22RV1_...  \n",
       "4  1321N1_CENTRAL_NERVOUS_SYSTEM 143B_BONE 22RV1_...  "
      ]
     },
     "execution_count": 5,
     "metadata": {},
     "output_type": "execute_result"
    }
   ],
   "source": [
    "d_cl = cgds.get_case_lists('cellline_ccle_broad')\n",
    "d_cl.head()"
   ]
  },
  {
   "cell_type": "markdown",
   "metadata": {},
   "source": [
    "# Mutation Metadata"
   ]
  },
  {
   "cell_type": "code",
   "execution_count": 10,
   "metadata": {
    "collapsed": false
   },
   "outputs": [
    {
     "name": "stderr",
     "output_type": "stream",
     "text": [
      "2016-07-06 07:10:40,891:INFO:musc_genomics.data_import.cgds: Processing batch 1 of 2\n",
      "2016-07-06 07:10:43,234:INFO:musc_genomics.data_import.cgds: Processing batch 2 of 2\n"
     ]
    },
    {
     "data": {
      "text/html": [
       "<div>\n",
       "<table border=\"1\" class=\"dataframe\">\n",
       "  <thead>\n",
       "    <tr style=\"text-align: right;\">\n",
       "      <th></th>\n",
       "      <th>entrez_gene_id</th>\n",
       "      <th>gene_symbol</th>\n",
       "      <th>case_id</th>\n",
       "      <th>sequencing_center</th>\n",
       "      <th>mutation_status</th>\n",
       "      <th>mutation_type</th>\n",
       "      <th>validation_status</th>\n",
       "      <th>amino_acid_change</th>\n",
       "      <th>functional_impact_score</th>\n",
       "      <th>xvar_link</th>\n",
       "      <th>...</th>\n",
       "      <th>chr</th>\n",
       "      <th>start_position</th>\n",
       "      <th>end_position</th>\n",
       "      <th>reference_allele</th>\n",
       "      <th>variant_allele</th>\n",
       "      <th>reference_read_count_tumor</th>\n",
       "      <th>variant_read_count_tumor</th>\n",
       "      <th>reference_read_count_normal</th>\n",
       "      <th>variant_read_count_normal</th>\n",
       "      <th>genetic_profile_id</th>\n",
       "    </tr>\n",
       "  </thead>\n",
       "  <tbody>\n",
       "    <tr>\n",
       "      <th>0</th>\n",
       "      <td>22848</td>\n",
       "      <td>AAK1</td>\n",
       "      <td>KIJK_HAEMATOPOIETIC_AND_LYMPHOID_TISSUE</td>\n",
       "      <td>broad.mit.edu</td>\n",
       "      <td>NaN</td>\n",
       "      <td>Nonsense_Mutation</td>\n",
       "      <td>NaN</td>\n",
       "      <td>Q743*</td>\n",
       "      <td>NaN</td>\n",
       "      <td>getma.org/?cm=var&amp;var=hg19,2,69732743,G,A&amp;fts=all</td>\n",
       "      <td>...</td>\n",
       "      <td>2</td>\n",
       "      <td>69732743</td>\n",
       "      <td>69732743</td>\n",
       "      <td>G</td>\n",
       "      <td>A</td>\n",
       "      <td>170</td>\n",
       "      <td>40</td>\n",
       "      <td>NaN</td>\n",
       "      <td>NaN</td>\n",
       "      <td>cellline_ccle_broad_mutations</td>\n",
       "    </tr>\n",
       "    <tr>\n",
       "      <th>1</th>\n",
       "      <td>22848</td>\n",
       "      <td>AAK1</td>\n",
       "      <td>REH_HAEMATOPOIETIC_AND_LYMPHOID_TISSUE</td>\n",
       "      <td>broad.mit.edu</td>\n",
       "      <td>NaN</td>\n",
       "      <td>Missense_Mutation</td>\n",
       "      <td>NaN</td>\n",
       "      <td>G15D</td>\n",
       "      <td>L</td>\n",
       "      <td>getma.org/?cm=var&amp;var=hg19,2,69870129,C,T&amp;fts=all</td>\n",
       "      <td>...</td>\n",
       "      <td>2</td>\n",
       "      <td>69870129</td>\n",
       "      <td>69870129</td>\n",
       "      <td>C</td>\n",
       "      <td>T</td>\n",
       "      <td>10</td>\n",
       "      <td>12</td>\n",
       "      <td>NaN</td>\n",
       "      <td>NaN</td>\n",
       "      <td>cellline_ccle_broad_mutations</td>\n",
       "    </tr>\n",
       "    <tr>\n",
       "      <th>2</th>\n",
       "      <td>22848</td>\n",
       "      <td>AAK1</td>\n",
       "      <td>HEC108_ENDOMETRIUM</td>\n",
       "      <td>broad.mit.edu</td>\n",
       "      <td>NaN</td>\n",
       "      <td>Missense_Mutation</td>\n",
       "      <td>NaN</td>\n",
       "      <td>Q533H</td>\n",
       "      <td>N</td>\n",
       "      <td>getma.org/?cm=var&amp;var=hg19,2,69741780,C,G&amp;fts=all</td>\n",
       "      <td>...</td>\n",
       "      <td>2</td>\n",
       "      <td>69741780</td>\n",
       "      <td>69741780</td>\n",
       "      <td>C</td>\n",
       "      <td>G</td>\n",
       "      <td>446</td>\n",
       "      <td>129</td>\n",
       "      <td>NaN</td>\n",
       "      <td>NaN</td>\n",
       "      <td>cellline_ccle_broad_mutations</td>\n",
       "    </tr>\n",
       "    <tr>\n",
       "      <th>3</th>\n",
       "      <td>22848</td>\n",
       "      <td>AAK1</td>\n",
       "      <td>RERFLCAD2_LUNG</td>\n",
       "      <td>broad.mit.edu</td>\n",
       "      <td>NaN</td>\n",
       "      <td>Missense_Mutation</td>\n",
       "      <td>NaN</td>\n",
       "      <td>P771R</td>\n",
       "      <td>N</td>\n",
       "      <td>getma.org/?cm=var&amp;var=hg19,2,69723170,G,C&amp;fts=all</td>\n",
       "      <td>...</td>\n",
       "      <td>2</td>\n",
       "      <td>69723170</td>\n",
       "      <td>69723170</td>\n",
       "      <td>G</td>\n",
       "      <td>C</td>\n",
       "      <td>2</td>\n",
       "      <td>21</td>\n",
       "      <td>NaN</td>\n",
       "      <td>NaN</td>\n",
       "      <td>cellline_ccle_broad_mutations</td>\n",
       "    </tr>\n",
       "    <tr>\n",
       "      <th>4</th>\n",
       "      <td>22848</td>\n",
       "      <td>AAK1</td>\n",
       "      <td>NCIH650_LUNG</td>\n",
       "      <td>broad.mit.edu</td>\n",
       "      <td>NaN</td>\n",
       "      <td>Missense_Mutation</td>\n",
       "      <td>NaN</td>\n",
       "      <td>P336T</td>\n",
       "      <td>M</td>\n",
       "      <td>getma.org/?cm=var&amp;var=hg19,2,69752214,G,T&amp;fts=all</td>\n",
       "      <td>...</td>\n",
       "      <td>2</td>\n",
       "      <td>69752214</td>\n",
       "      <td>69752214</td>\n",
       "      <td>G</td>\n",
       "      <td>T</td>\n",
       "      <td>151</td>\n",
       "      <td>99</td>\n",
       "      <td>NaN</td>\n",
       "      <td>NaN</td>\n",
       "      <td>cellline_ccle_broad_mutations</td>\n",
       "    </tr>\n",
       "  </tbody>\n",
       "</table>\n",
       "<p>5 rows × 22 columns</p>\n",
       "</div>"
      ],
      "text/plain": [
       "   entrez_gene_id gene_symbol                                  case_id  \\\n",
       "0           22848        AAK1  KIJK_HAEMATOPOIETIC_AND_LYMPHOID_TISSUE   \n",
       "1           22848        AAK1   REH_HAEMATOPOIETIC_AND_LYMPHOID_TISSUE   \n",
       "2           22848        AAK1                       HEC108_ENDOMETRIUM   \n",
       "3           22848        AAK1                           RERFLCAD2_LUNG   \n",
       "4           22848        AAK1                             NCIH650_LUNG   \n",
       "\n",
       "  sequencing_center  mutation_status      mutation_type  validation_status  \\\n",
       "0     broad.mit.edu              NaN  Nonsense_Mutation                NaN   \n",
       "1     broad.mit.edu              NaN  Missense_Mutation                NaN   \n",
       "2     broad.mit.edu              NaN  Missense_Mutation                NaN   \n",
       "3     broad.mit.edu              NaN  Missense_Mutation                NaN   \n",
       "4     broad.mit.edu              NaN  Missense_Mutation                NaN   \n",
       "\n",
       "  amino_acid_change functional_impact_score  \\\n",
       "0             Q743*                     NaN   \n",
       "1              G15D                       L   \n",
       "2             Q533H                       N   \n",
       "3             P771R                       N   \n",
       "4             P336T                       M   \n",
       "\n",
       "                                           xvar_link  \\\n",
       "0  getma.org/?cm=var&var=hg19,2,69732743,G,A&fts=all   \n",
       "1  getma.org/?cm=var&var=hg19,2,69870129,C,T&fts=all   \n",
       "2  getma.org/?cm=var&var=hg19,2,69741780,C,G&fts=all   \n",
       "3  getma.org/?cm=var&var=hg19,2,69723170,G,C&fts=all   \n",
       "4  getma.org/?cm=var&var=hg19,2,69752214,G,T&fts=all   \n",
       "\n",
       "               ...               chr start_position  end_position  \\\n",
       "0              ...                 2       69732743      69732743   \n",
       "1              ...                 2       69870129      69870129   \n",
       "2              ...                 2       69741780      69741780   \n",
       "3              ...                 2       69723170      69723170   \n",
       "4              ...                 2       69752214      69752214   \n",
       "\n",
       "   reference_allele  variant_allele reference_read_count_tumor  \\\n",
       "0                 G               A                        170   \n",
       "1                 C               T                         10   \n",
       "2                 C               G                        446   \n",
       "3                 G               C                          2   \n",
       "4                 G               T                        151   \n",
       "\n",
       "  variant_read_count_tumor  reference_read_count_normal  \\\n",
       "0                       40                          NaN   \n",
       "1                       12                          NaN   \n",
       "2                      129                          NaN   \n",
       "3                       21                          NaN   \n",
       "4                       99                          NaN   \n",
       "\n",
       "   variant_read_count_normal             genetic_profile_id  \n",
       "0                        NaN  cellline_ccle_broad_mutations  \n",
       "1                        NaN  cellline_ccle_broad_mutations  \n",
       "2                        NaN  cellline_ccle_broad_mutations  \n",
       "3                        NaN  cellline_ccle_broad_mutations  \n",
       "4                        NaN  cellline_ccle_broad_mutations  \n",
       "\n",
       "[5 rows x 22 columns]"
      ]
     },
     "execution_count": 10,
     "metadata": {},
     "output_type": "execute_result"
    }
   ],
   "source": [
    "ids = api.get_gene_ids()\n",
    "d = cgds.get_mutation_data(cgds.CCLE_CASE_LIST_ID, cgds.GEN_PROF_MUTATION, ids[:1000], gene_id_batch_size=500)\n",
    "d.head()"
   ]
  },
  {
   "cell_type": "code",
   "execution_count": 11,
   "metadata": {
    "collapsed": false
   },
   "outputs": [
    {
     "data": {
      "text/plain": [
       "entrez_gene_id                                                             22848\n",
       "gene_symbol                                                                 AAK1\n",
       "case_id                                  KIJK_HAEMATOPOIETIC_AND_LYMPHOID_TISSUE\n",
       "sequencing_center                                                  broad.mit.edu\n",
       "mutation_status                                                              NaN\n",
       "mutation_type                                                  Nonsense_Mutation\n",
       "validation_status                                                            NaN\n",
       "amino_acid_change                                                          Q743*\n",
       "functional_impact_score                                                      NaN\n",
       "xvar_link                      getma.org/?cm=var&var=hg19,2,69732743,G,A&fts=all\n",
       "xvar_link_pdb                                                                NaN\n",
       "xvar_link_msa                                                                NaN\n",
       "chr                                                                            2\n",
       "start_position                                                          69732743\n",
       "end_position                                                            69732743\n",
       "reference_allele                                                               G\n",
       "variant_allele                                                                 A\n",
       "reference_read_count_tumor                                                   170\n",
       "variant_read_count_tumor                                                      40\n",
       "reference_read_count_normal                                                  NaN\n",
       "variant_read_count_normal                                                    NaN\n",
       "genetic_profile_id                                 cellline_ccle_broad_mutations\n",
       "Name: 0, dtype: object"
      ]
     },
     "execution_count": 11,
     "metadata": {},
     "output_type": "execute_result"
    }
   ],
   "source": [
    "d.iloc[0]"
   ]
  },
  {
   "cell_type": "markdown",
   "metadata": {},
   "source": [
    "# Protein Array Data"
   ]
  },
  {
   "cell_type": "code",
   "execution_count": null,
   "metadata": {
    "collapsed": true
   },
   "outputs": [],
   "source": []
  },
  {
   "cell_type": "markdown",
   "metadata": {},
   "source": [
    "# Clinical Data"
   ]
  },
  {
   "cell_type": "code",
   "execution_count": 17,
   "metadata": {
    "collapsed": false
   },
   "outputs": [
    {
     "data": {
      "text/plain": [
       "<module 'musc_genomics.data_import.cgds' from '/Users/eczech/repos/musc_genomics/src/python/src/musc_genomics/data_import/cgds.py'>"
      ]
     },
     "execution_count": 17,
     "metadata": {},
     "output_type": "execute_result"
    }
   ],
   "source": [
    "import imp\n",
    "imp.reload(cgds)"
   ]
  },
  {
   "cell_type": "code",
   "execution_count": 18,
   "metadata": {
    "collapsed": false
   },
   "outputs": [
    {
     "data": {
      "text/plain": [
       "'cellline_ccle_broad_all'"
      ]
     },
     "execution_count": 18,
     "metadata": {},
     "output_type": "execute_result"
    }
   ],
   "source": [
    "cgds.CCLE_CASE_LIST_ID"
   ]
  },
  {
   "cell_type": "code",
   "execution_count": 29,
   "metadata": {
    "collapsed": false
   },
   "outputs": [
    {
     "name": "stdout",
     "output_type": "stream",
     "text": [
      "<class 'pandas.core.frame.DataFrame'>\n",
      "RangeIndex: 1019 entries, 0 to 1018\n",
      "Data columns (total 8 columns):\n",
      "CASE_ID                 1019 non-null object\n",
      "CANCER_TYPE             946 non-null object\n",
      "DATA_SOURCE             946 non-null object\n",
      "GENDER                  834 non-null object\n",
      "HISTOLOGICAL_SUBTYPE    703 non-null object\n",
      "HISTOLOGY               946 non-null object\n",
      "PRIMARY_SITE            946 non-null object\n",
      "TUMOR_TYPE              946 non-null object\n",
      "dtypes: object(8)\n",
      "memory usage: 63.8+ KB\n"
     ]
    }
   ],
   "source": [
    "d_clinical = cgds.get_clinical_data(cgds.CCLE_CASE_LIST_ID)\n",
    "d_clinical.info()"
   ]
  },
  {
   "cell_type": "code",
   "execution_count": 30,
   "metadata": {
    "collapsed": false
   },
   "outputs": [
    {
     "data": {
      "text/html": [
       "<div>\n",
       "<table border=\"1\" class=\"dataframe\">\n",
       "  <thead>\n",
       "    <tr style=\"text-align: right;\">\n",
       "      <th></th>\n",
       "      <th>CASE_ID</th>\n",
       "      <th>CANCER_TYPE</th>\n",
       "      <th>DATA_SOURCE</th>\n",
       "      <th>GENDER</th>\n",
       "      <th>HISTOLOGICAL_SUBTYPE</th>\n",
       "      <th>HISTOLOGY</th>\n",
       "      <th>PRIMARY_SITE</th>\n",
       "      <th>TUMOR_TYPE</th>\n",
       "    </tr>\n",
       "  </thead>\n",
       "  <tbody>\n",
       "    <tr>\n",
       "      <th>0</th>\n",
       "      <td>HCC78_LUNG</td>\n",
       "      <td>solid</td>\n",
       "      <td>DSMZ</td>\n",
       "      <td>Male</td>\n",
       "      <td>adenocarcinoma</td>\n",
       "      <td>carcinoma</td>\n",
       "      <td>lung</td>\n",
       "      <td>lung_NSC</td>\n",
       "    </tr>\n",
       "    <tr>\n",
       "      <th>1</th>\n",
       "      <td>COLO800_SKIN</td>\n",
       "      <td>solid</td>\n",
       "      <td>DSMZ</td>\n",
       "      <td>NaN</td>\n",
       "      <td>NaN</td>\n",
       "      <td>malignant_melanoma</td>\n",
       "      <td>skin</td>\n",
       "      <td>melanoma</td>\n",
       "    </tr>\n",
       "    <tr>\n",
       "      <th>2</th>\n",
       "      <td>SKMEL1_SKIN</td>\n",
       "      <td>solid</td>\n",
       "      <td>ATCC</td>\n",
       "      <td>Male</td>\n",
       "      <td>NaN</td>\n",
       "      <td>malignant_melanoma</td>\n",
       "      <td>skin</td>\n",
       "      <td>melanoma</td>\n",
       "    </tr>\n",
       "    <tr>\n",
       "      <th>3</th>\n",
       "      <td>HT115_LARGE_INTESTINE</td>\n",
       "      <td>solid</td>\n",
       "      <td>ECACC</td>\n",
       "      <td>NaN</td>\n",
       "      <td>NaN</td>\n",
       "      <td>carcinoma</td>\n",
       "      <td>large_intestine</td>\n",
       "      <td>colorectal</td>\n",
       "    </tr>\n",
       "    <tr>\n",
       "      <th>4</th>\n",
       "      <td>ECC12_STOMACH</td>\n",
       "      <td>solid</td>\n",
       "      <td>RIKEN</td>\n",
       "      <td>NaN</td>\n",
       "      <td>small_cell_adenocarcinoma</td>\n",
       "      <td>carcinoma</td>\n",
       "      <td>stomach</td>\n",
       "      <td>stomach</td>\n",
       "    </tr>\n",
       "  </tbody>\n",
       "</table>\n",
       "</div>"
      ],
      "text/plain": [
       "                 CASE_ID CANCER_TYPE DATA_SOURCE GENDER  \\\n",
       "0             HCC78_LUNG       solid        DSMZ   Male   \n",
       "1           COLO800_SKIN       solid        DSMZ    NaN   \n",
       "2            SKMEL1_SKIN       solid        ATCC   Male   \n",
       "3  HT115_LARGE_INTESTINE       solid       ECACC    NaN   \n",
       "4          ECC12_STOMACH       solid       RIKEN    NaN   \n",
       "\n",
       "        HISTOLOGICAL_SUBTYPE           HISTOLOGY     PRIMARY_SITE  TUMOR_TYPE  \n",
       "0             adenocarcinoma           carcinoma             lung    lung_NSC  \n",
       "1                        NaN  malignant_melanoma             skin    melanoma  \n",
       "2                        NaN  malignant_melanoma             skin    melanoma  \n",
       "3                        NaN           carcinoma  large_intestine  colorectal  \n",
       "4  small_cell_adenocarcinoma           carcinoma          stomach     stomach  "
      ]
     },
     "execution_count": 30,
     "metadata": {},
     "output_type": "execute_result"
    }
   ],
   "source": [
    "d_clinical.head()"
   ]
  },
  {
   "cell_type": "code",
   "execution_count": 34,
   "metadata": {
    "collapsed": false
   },
   "outputs": [
    {
     "data": {
      "text/plain": [
       "lung_NSC               116\n",
       "melanoma                59\n",
       "colorectal              56\n",
       "breast                  56\n",
       "lung_small_cell         52\n",
       "ovary                   47\n",
       "glioma                  46\n",
       "pancreas                44\n",
       "stomach                 38\n",
       "AML                     34\n",
       "upper_aerodigestive     31\n",
       "lymphoma_other          28\n",
       "multiple_myeloma        28\n",
       "endometrium             28\n",
       "liver                   27\n",
       "esophagus               26\n",
       "urinary_tract           24\n",
       "kidney                  21\n",
       "neuroblastoma           17\n",
       "soft_tissue             17\n",
       "lymphoma_DLBCL          16\n",
       "CML                     14\n",
       "T-cell_ALL              14\n",
       "lymphoma_Hodgkin        12\n",
       "B-cell_ALL              12\n",
       "lymphoma_Burkitt        11\n",
       "thyroid                 11\n",
       "mesothelioma             9\n",
       "Ewings_Sarcoma           9\n",
       "osteosarcoma             9\n",
       "other                    7\n",
       "prostate                 7\n",
       "bile_duct                7\n",
       "leukemia_other           5\n",
       "chondrosarcoma           4\n",
       "medulloblastoma          4\n",
       "Name: TUMOR_TYPE, dtype: int64"
      ]
     },
     "execution_count": 34,
     "metadata": {},
     "output_type": "execute_result"
    }
   ],
   "source": [
    "d_clinical['TUMOR_TYPE'].value_counts()"
   ]
  },
  {
   "cell_type": "markdown",
   "metadata": {
    "collapsed": true
   },
   "source": [
    "# Protein Array Data"
   ]
  },
  {
   "cell_type": "code",
   "execution_count": 27,
   "metadata": {
    "collapsed": false
   },
   "outputs": [
    {
     "data": {
      "text/plain": [
       "<module 'musc_genomics.data_import.cgds' from '/Users/eczech/repos/musc_genomics/src/python/src/musc_genomics/data_import/cgds.py'>"
      ]
     },
     "execution_count": 27,
     "metadata": {},
     "output_type": "execute_result"
    }
   ],
   "source": [
    "import imp\n",
    "imp.reload(cgds)"
   ]
  },
  {
   "cell_type": "code",
   "execution_count": 16,
   "metadata": {
    "collapsed": false
   },
   "outputs": [
    {
     "name": "stderr",
     "output_type": "stream",
     "text": [
      "2016-07-06 13:02:58,553:DEBUG:musc_genomics.data: Loading saved data from location \"/Users/eczech/data/research/musc_genomics/materialized/hugo.pkl\"\n",
      "2016-07-06 13:02:58,561:INFO:musc_genomics.data_import.cgds: Processing batch 1 of 79\n",
      "2016-07-06 13:03:00,015:INFO:musc_genomics.data_import.cgds: Processing batch 8 of 79\n",
      "2016-07-06 13:03:01,468:INFO:musc_genomics.data_import.cgds: Processing batch 15 of 79\n",
      "2016-07-06 13:03:03,223:INFO:musc_genomics.data_import.cgds: Processing batch 22 of 79\n",
      "2016-07-06 13:03:04,939:INFO:musc_genomics.data_import.cgds: Processing batch 29 of 79\n",
      "2016-07-06 13:03:06,835:INFO:musc_genomics.data_import.cgds: Processing batch 36 of 79\n",
      "2016-07-06 13:03:08,384:INFO:musc_genomics.data_import.cgds: Processing batch 43 of 79\n",
      "2016-07-06 13:03:09,871:INFO:musc_genomics.data_import.cgds: Processing batch 50 of 79\n",
      "2016-07-06 13:03:11,813:INFO:musc_genomics.data_import.cgds: Processing batch 57 of 79\n",
      "2016-07-06 13:03:13,528:INFO:musc_genomics.data_import.cgds: Processing batch 64 of 79\n",
      "2016-07-06 13:03:15,133:INFO:musc_genomics.data_import.cgds: Processing batch 71 of 79\n",
      "2016-07-06 13:03:16,913:INFO:musc_genomics.data_import.cgds: Processing batch 78 of 79\n"
     ]
    },
    {
     "name": "stdout",
     "output_type": "stream",
     "text": [
      "<class 'pandas.core.frame.DataFrame'>\n",
      "Index: 0 entries\n",
      "Data columns (total 4 columns):\n",
      "ARRAY_ID      0 non-null object\n",
      "ARRAY_TYPE    0 non-null object\n",
      "GENE          0 non-null object\n",
      "RESIDUE       0 non-null object\n",
      "dtypes: object(4)\n",
      "memory usage: 0.0+ bytes\n"
     ]
    }
   ],
   "source": [
    "ids = api.get_gene_ids()\n",
    "d_pr_pl = cgds.get_protein_array_data(cgds.CCLE_CANCER_STUDY, 'phosphorylation', ids, gene_id_batch_size=500)\n",
    "d_pr_pl.info()"
   ]
  },
  {
   "cell_type": "code",
   "execution_count": 25,
   "metadata": {
    "collapsed": false
   },
   "outputs": [
    {
     "name": "stdout",
     "output_type": "stream",
     "text": [
      "<class 'pandas.core.frame.DataFrame'>\n",
      "Index: 0 entries\n",
      "Columns: 1020 entries, ARRAY_ID to UOK101_KIDNEY\n",
      "dtypes: object(1020)\n",
      "memory usage: 0.0+ bytes\n"
     ]
    }
   ],
   "source": [
    "d_pr = cgds.get_protein_array_data(cgds.CCLE_CASE_LIST_ID, '0')\n",
    "d_pr.info()"
   ]
  },
  {
   "cell_type": "code",
   "execution_count": 26,
   "metadata": {
    "collapsed": false
   },
   "outputs": [
    {
     "data": {
      "text/html": [
       "<div>\n",
       "<table border=\"1\" class=\"dataframe\">\n",
       "  <thead>\n",
       "    <tr style=\"text-align: right;\">\n",
       "      <th></th>\n",
       "      <th>ARRAY_ID</th>\n",
       "      <th>1321N1_CENTRAL_NERVOUS_SYSTEM</th>\n",
       "      <th>143B_BONE</th>\n",
       "      <th>22RV1_PROSTATE</th>\n",
       "      <th>2313287_STOMACH</th>\n",
       "      <th>42MGBA_CENTRAL_NERVOUS_SYSTEM</th>\n",
       "      <th>5637_URINARY_TRACT</th>\n",
       "      <th>59M_OVARY</th>\n",
       "      <th>639V_URINARY_TRACT</th>\n",
       "      <th>647V_URINARY_TRACT</th>\n",
       "      <th>...</th>\n",
       "      <th>SLR21_KIDNEY</th>\n",
       "      <th>SLR23_KIDNEY</th>\n",
       "      <th>SLR25_KIDNEY</th>\n",
       "      <th>SLR26_KIDNEY</th>\n",
       "      <th>TC32_BONE</th>\n",
       "      <th>TIG3TD_LUNG</th>\n",
       "      <th>U178_CENTRAL_NERVOUS_SYSTEM</th>\n",
       "      <th>UMRC2_KIDNEY</th>\n",
       "      <th>UMRC6_KIDNEY</th>\n",
       "      <th>UOK101_KIDNEY</th>\n",
       "    </tr>\n",
       "  </thead>\n",
       "  <tbody>\n",
       "  </tbody>\n",
       "</table>\n",
       "<p>0 rows × 1020 columns</p>\n",
       "</div>"
      ],
      "text/plain": [
       "Empty DataFrame\n",
       "Columns: [ARRAY_ID, 1321N1_CENTRAL_NERVOUS_SYSTEM, 143B_BONE, 22RV1_PROSTATE, 2313287_STOMACH, 42MGBA_CENTRAL_NERVOUS_SYSTEM, 5637_URINARY_TRACT, 59M_OVARY, 639V_URINARY_TRACT, 647V_URINARY_TRACT, 697_HAEMATOPOIETIC_AND_LYMPHOID_TISSUE, 769P_KIDNEY, 786O_KIDNEY, 8305C_THYROID, 8505C_THYROID, 8MGBA_CENTRAL_NERVOUS_SYSTEM, A101D_SKIN, A172_CENTRAL_NERVOUS_SYSTEM, A204_SOFT_TISSUE, A2058_SKIN, A253_SALIVARY_GLAND, A2780_OVARY, A375_SKIN, A3KAW_HAEMATOPOIETIC_AND_LYMPHOID_TISSUE, A498_KIDNEY, A4FUK_HAEMATOPOIETIC_AND_LYMPHOID_TISSUE, A549_LUNG, A673_BONE, A704_KIDNEY, ABC1_LUNG, ACCMESO1_PLEURA, ACHN_KIDNEY, AGS_STOMACH, ALEXANDERCELLS_LIVER, AM38_CENTRAL_NERVOUS_SYSTEM, AML193_HAEMATOPOIETIC_AND_LYMPHOID_TISSUE, AMO1_HAEMATOPOIETIC_AND_LYMPHOID_TISSUE, AN3CA_ENDOMETRIUM, ASPC1_PANCREAS, AU565_BREAST, AZ521_STOMACH, BC3C_URINARY_TRACT, BCP1_HAEMATOPOIETIC_AND_LYMPHOID_TISSUE, BCPAP_THYROID, BDCM_HAEMATOPOIETIC_AND_LYMPHOID_TISSUE, BECKER_CENTRAL_NERVOUS_SYSTEM, BEN_LUNG, BFTC905_URINARY_TRACT, BFTC909_KIDNEY, BHT101_THYROID, BHY_UPPER_AERODIGESTIVE_TRACT, BICR16_UPPER_AERODIGESTIVE_TRACT, BICR18_UPPER_AERODIGESTIVE_TRACT, BICR22_UPPER_AERODIGESTIVE_TRACT, BICR31_UPPER_AERODIGESTIVE_TRACT, BICR56_UPPER_AERODIGESTIVE_TRACT, BICR6_UPPER_AERODIGESTIVE_TRACT, BL41_HAEMATOPOIETIC_AND_LYMPHOID_TISSUE, BL70_HAEMATOPOIETIC_AND_LYMPHOID_TISSUE, BT20_BREAST, BT474_BREAST, BT483_BREAST, BT549_BREAST, BV173_HAEMATOPOIETIC_AND_LYMPHOID_TISSUE, BXPC3_PANCREAS, C2BBE1_LARGE_INTESTINE, C32_SKIN, C3A_LIVER, CA46_HAEMATOPOIETIC_AND_LYMPHOID_TISSUE, CADOES1_BONE, CAKI1_KIDNEY, CAKI2_KIDNEY, CAL120_BREAST, CAL12T_LUNG, CAL148_BREAST, CAL27_UPPER_AERODIGESTIVE_TRACT, CAL29_URINARY_TRACT, CAL33_UPPER_AERODIGESTIVE_TRACT, CAL51_BREAST, CAL54_KIDNEY, CAL62_THYROID, CAL78_BONE, CAL851_BREAST, CALU1_LUNG, CALU3_LUNG, CALU6_LUNG, CAMA1_BREAST, CAOV3_OVARY, CAOV4_OVARY, CAPAN1_PANCREAS, CAPAN2_PANCREAS, CAS1_CENTRAL_NERVOUS_SYSTEM, CCFSTTG1_CENTRAL_NERVOUS_SYSTEM, CCK81_LARGE_INTESTINE, CFPAC1_PANCREAS, CGTHW1_THYROID, CHAGOK1_LUNG, CHL1_SKIN, CHP126_AUTONOMIC_GANGLIA, CHP212_AUTONOMIC_GANGLIA, ...]\n",
       "Index: []\n",
       "\n",
       "[0 rows x 1020 columns]"
      ]
     },
     "execution_count": 26,
     "metadata": {},
     "output_type": "execute_result"
    }
   ],
   "source": [
    "d_pr.head()"
   ]
  },
  {
   "cell_type": "code",
   "execution_count": null,
   "metadata": {
    "collapsed": true
   },
   "outputs": [],
   "source": []
  }
 ],
 "metadata": {
  "kernelspec": {
   "display_name": "Python 3",
   "language": "python",
   "name": "python3"
  },
  "language_info": {
   "codemirror_mode": {
    "name": "ipython",
    "version": 3
   },
   "file_extension": ".py",
   "mimetype": "text/x-python",
   "name": "python",
   "nbconvert_exporter": "python",
   "pygments_lexer": "ipython3",
   "version": "3.5.2"
  }
 },
 "nbformat": 4,
 "nbformat_minor": 0
}
