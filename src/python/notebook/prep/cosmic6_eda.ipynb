{
 "cells": [
  {
   "cell_type": "code",
   "execution_count": 1,
   "metadata": {
    "collapsed": true
   },
   "outputs": [],
   "source": [
    "%run -m ipy_startup\n",
    "%run -m ipy_logging\n",
    "%matplotlib inline\n",
    "from musc_genomics.data_import import cosmic, api, prep\n",
    "from musc_genomics import data\n",
    "pd.set_option('max_info_rows', int(1E9))"
   ]
  },
  {
   "cell_type": "code",
   "execution_count": 4,
   "metadata": {
    "collapsed": false
   },
   "outputs": [
    {
     "name": "stdout",
     "output_type": "stream",
     "text": [
      "<class 'pandas.core.frame.DataFrame'>\n",
      "RangeIndex: 265 entries, 0 to 264\n",
      "Data columns (total 5 columns):\n",
      "DRUG ID           265 non-null int64\n",
      "DRUG NAME         265 non-null object\n",
      "SYNONYMS          149 non-null object\n",
      "TARGET            264 non-null object\n",
      "TARGET PATHWAY    265 non-null object\n",
      "dtypes: int64(1), object(4)\n",
      "memory usage: 10.4+ KB\n"
     ]
    }
   ],
   "source": [
    "d_rx = cosmic.get_cosmic_rel6_data('Screened_Compounds.xlsx')\n",
    "d_rx = d_rx['Export Worksheet']\n",
    "d_rx.info()"
   ]
  },
  {
   "cell_type": "code",
   "execution_count": 12,
   "metadata": {
    "collapsed": false
   },
   "outputs": [
    {
     "name": "stdout",
     "output_type": "stream",
     "text": [
      "<class 'pandas.core.frame.DataFrame'>\n",
      "RangeIndex: 224510 entries, 0 to 224509\n",
      "Data columns (total 8 columns):\n",
      "DATASET_VERSION        224510 non-null int64\n",
      "IC50_RESULTS_ID        224510 non-null int64\n",
      "COSMIC_ID              224510 non-null int64\n",
      "DRUG_ID                224510 non-null int64\n",
      "MAX_CONC_MICROMOLAR    224510 non-null float64\n",
      "LN_IC50                224510 non-null float64\n",
      "AUC                    224510 non-null float64\n",
      "RMSE                   224510 non-null float64\n",
      "dtypes: float64(4), int64(4)\n",
      "memory usage: 13.7 MB\n"
     ]
    }
   ],
   "source": [
    "d_rx = cosmic.get_cosmic_rel6_data('v17_fitted_dose_response.xlsx')\n",
    "d_rx = d_rx['Export Worksheet']\n",
    "d_rx.info()"
   ]
  },
  {
   "cell_type": "code",
   "execution_count": 13,
   "metadata": {
    "collapsed": false
   },
   "outputs": [
    {
     "data": {
      "text/html": [
       "<div>\n",
       "<table border=\"1\" class=\"dataframe\">\n",
       "  <thead>\n",
       "    <tr style=\"text-align: right;\">\n",
       "      <th></th>\n",
       "      <th>DATASET_VERSION</th>\n",
       "      <th>IC50_RESULTS_ID</th>\n",
       "      <th>COSMIC_ID</th>\n",
       "      <th>DRUG_ID</th>\n",
       "      <th>MAX_CONC_MICROMOLAR</th>\n",
       "      <th>LN_IC50</th>\n",
       "      <th>AUC</th>\n",
       "      <th>RMSE</th>\n",
       "    </tr>\n",
       "  </thead>\n",
       "  <tbody>\n",
       "    <tr>\n",
       "      <th>0</th>\n",
       "      <td>17</td>\n",
       "      <td>335</td>\n",
       "      <td>924100</td>\n",
       "      <td>1026</td>\n",
       "      <td>1.0</td>\n",
       "      <td>0.717722</td>\n",
       "      <td>0.899410</td>\n",
       "      <td>0.105665</td>\n",
       "    </tr>\n",
       "    <tr>\n",
       "      <th>1</th>\n",
       "      <td>17</td>\n",
       "      <td>336</td>\n",
       "      <td>924100</td>\n",
       "      <td>1028</td>\n",
       "      <td>2.0</td>\n",
       "      <td>2.664100</td>\n",
       "      <td>0.957206</td>\n",
       "      <td>0.178243</td>\n",
       "    </tr>\n",
       "    <tr>\n",
       "      <th>2</th>\n",
       "      <td>17</td>\n",
       "      <td>337</td>\n",
       "      <td>924100</td>\n",
       "      <td>1029</td>\n",
       "      <td>2.0</td>\n",
       "      <td>3.336828</td>\n",
       "      <td>0.973893</td>\n",
       "      <td>0.079845</td>\n",
       "    </tr>\n",
       "    <tr>\n",
       "      <th>3</th>\n",
       "      <td>17</td>\n",
       "      <td>338</td>\n",
       "      <td>924100</td>\n",
       "      <td>1030</td>\n",
       "      <td>10.0</td>\n",
       "      <td>5.164909</td>\n",
       "      <td>0.977844</td>\n",
       "      <td>0.094228</td>\n",
       "    </tr>\n",
       "    <tr>\n",
       "      <th>4</th>\n",
       "      <td>17</td>\n",
       "      <td>339</td>\n",
       "      <td>924100</td>\n",
       "      <td>1031</td>\n",
       "      <td>0.2</td>\n",
       "      <td>-4.325309</td>\n",
       "      <td>0.508180</td>\n",
       "      <td>0.090478</td>\n",
       "    </tr>\n",
       "  </tbody>\n",
       "</table>\n",
       "</div>"
      ],
      "text/plain": [
       "   DATASET_VERSION  IC50_RESULTS_ID  COSMIC_ID  DRUG_ID  MAX_CONC_MICROMOLAR  \\\n",
       "0               17              335     924100     1026                  1.0   \n",
       "1               17              336     924100     1028                  2.0   \n",
       "2               17              337     924100     1029                  2.0   \n",
       "3               17              338     924100     1030                 10.0   \n",
       "4               17              339     924100     1031                  0.2   \n",
       "\n",
       "    LN_IC50       AUC      RMSE  \n",
       "0  0.717722  0.899410  0.105665  \n",
       "1  2.664100  0.957206  0.178243  \n",
       "2  3.336828  0.973893  0.079845  \n",
       "3  5.164909  0.977844  0.094228  \n",
       "4 -4.325309  0.508180  0.090478  "
      ]
     },
     "execution_count": 13,
     "metadata": {},
     "output_type": "execute_result"
    }
   ],
   "source": [
    "d_rx.head()"
   ]
  },
  {
   "cell_type": "code",
   "execution_count": 5,
   "metadata": {
    "collapsed": false
   },
   "outputs": [
    {
     "data": {
      "text/plain": [
       "dict_keys(['Gene_level_CN', 'Legend', 'Readme'])"
      ]
     },
     "execution_count": 5,
     "metadata": {},
     "output_type": "execute_result"
    }
   ],
   "source": [
    "d_ge = cosmic.get_cosmic_rel6_data('Gene_level_CN.xlsx')\n",
    "d_ge.keys()"
   ]
  },
  {
   "cell_type": "code",
   "execution_count": 8,
   "metadata": {
    "collapsed": false
   },
   "outputs": [
    {
     "data": {
      "text/html": [
       "<div>\n",
       "<table border=\"1\" class=\"dataframe\">\n",
       "  <thead>\n",
       "    <tr style=\"text-align: right;\">\n",
       "      <th></th>\n",
       "      <th>gene</th>\n",
       "      <th>chr</th>\n",
       "      <th>start</th>\n",
       "      <th>stop</th>\n",
       "      <th>201T</th>\n",
       "      <th>22RV1</th>\n",
       "      <th>23132-87</th>\n",
       "      <th>42-MG-BA</th>\n",
       "      <th>451Lu</th>\n",
       "      <th>5637</th>\n",
       "      <th>...</th>\n",
       "      <th>WSU-NHL</th>\n",
       "      <th>YAPC</th>\n",
       "      <th>YH-13</th>\n",
       "      <th>YKG-1</th>\n",
       "      <th>YMB-1-E</th>\n",
       "      <th>YT</th>\n",
       "      <th>ZR-75-30</th>\n",
       "      <th>huH-1</th>\n",
       "      <th>no-10</th>\n",
       "      <th>no-11</th>\n",
       "    </tr>\n",
       "  </thead>\n",
       "  <tbody>\n",
       "    <tr>\n",
       "      <th>0</th>\n",
       "      <td>NaN</td>\n",
       "      <td>NaN</td>\n",
       "      <td>NaN</td>\n",
       "      <td>NaN</td>\n",
       "      <td>1287381</td>\n",
       "      <td>924100</td>\n",
       "      <td>910924</td>\n",
       "      <td>687561</td>\n",
       "      <td>1287706</td>\n",
       "      <td>687452</td>\n",
       "      <td>...</td>\n",
       "      <td>909785</td>\n",
       "      <td>909904</td>\n",
       "      <td>909905</td>\n",
       "      <td>687592</td>\n",
       "      <td>1303911</td>\n",
       "      <td>946358</td>\n",
       "      <td>909907</td>\n",
       "      <td>1298146</td>\n",
       "      <td>908452</td>\n",
       "      <td>908450</td>\n",
       "    </tr>\n",
       "    <tr>\n",
       "      <th>1</th>\n",
       "      <td>DDX11L1</td>\n",
       "      <td>1</td>\n",
       "      <td>11869.0</td>\n",
       "      <td>14412.0</td>\n",
       "      <td>-1,-1,-,-</td>\n",
       "      <td>-1,-1,-,-</td>\n",
       "      <td>-1,-1,-,-</td>\n",
       "      <td>-1,-1,-,-</td>\n",
       "      <td>-1,-1,-,-</td>\n",
       "      <td>-1,-1,-,-</td>\n",
       "      <td>...</td>\n",
       "      <td>-1,-1,-,-</td>\n",
       "      <td>-1,-1,-,-</td>\n",
       "      <td>-1,-1,-,-</td>\n",
       "      <td>-1,-1,-,-</td>\n",
       "      <td>-1,-1,-,-</td>\n",
       "      <td>-1,-1,-,-</td>\n",
       "      <td>-1,-1,-,-</td>\n",
       "      <td>-1,-1,-,-</td>\n",
       "      <td>-1,-1,-,-</td>\n",
       "      <td>-1,-1,-,-</td>\n",
       "    </tr>\n",
       "    <tr>\n",
       "      <th>2</th>\n",
       "      <td>WASH7P</td>\n",
       "      <td>1</td>\n",
       "      <td>14363.0</td>\n",
       "      <td>29806.0</td>\n",
       "      <td>-1,-1,-,-</td>\n",
       "      <td>-1,-1,-,-</td>\n",
       "      <td>-1,-1,-,-</td>\n",
       "      <td>-1,-1,-,-</td>\n",
       "      <td>-1,-1,-,-</td>\n",
       "      <td>-1,-1,-,-</td>\n",
       "      <td>...</td>\n",
       "      <td>-1,-1,-,-</td>\n",
       "      <td>-1,-1,-,-</td>\n",
       "      <td>-1,-1,-,-</td>\n",
       "      <td>-1,-1,-,-</td>\n",
       "      <td>-1,-1,-,-</td>\n",
       "      <td>-1,-1,-,-</td>\n",
       "      <td>-1,-1,-,-</td>\n",
       "      <td>-1,-1,-,-</td>\n",
       "      <td>-1,-1,-,-</td>\n",
       "      <td>-1,-1,-,-</td>\n",
       "    </tr>\n",
       "    <tr>\n",
       "      <th>3</th>\n",
       "      <td>FAM138A</td>\n",
       "      <td>1</td>\n",
       "      <td>34554.0</td>\n",
       "      <td>36081.0</td>\n",
       "      <td>-1,-1,-,-</td>\n",
       "      <td>-1,-1,-,-</td>\n",
       "      <td>-1,-1,-,-</td>\n",
       "      <td>-1,-1,-,-</td>\n",
       "      <td>-1,-1,-,-</td>\n",
       "      <td>-1,-1,-,-</td>\n",
       "      <td>...</td>\n",
       "      <td>-1,-1,-,-</td>\n",
       "      <td>-1,-1,-,-</td>\n",
       "      <td>-1,-1,-,-</td>\n",
       "      <td>-1,-1,-,-</td>\n",
       "      <td>-1,-1,-,-</td>\n",
       "      <td>-1,-1,-,-</td>\n",
       "      <td>-1,-1,-,-</td>\n",
       "      <td>-1,-1,-,-</td>\n",
       "      <td>-1,-1,-,-</td>\n",
       "      <td>-1,-1,-,-</td>\n",
       "    </tr>\n",
       "    <tr>\n",
       "      <th>4</th>\n",
       "      <td>OR4G11P</td>\n",
       "      <td>1</td>\n",
       "      <td>62948.0</td>\n",
       "      <td>63887.0</td>\n",
       "      <td>5,5,L,-</td>\n",
       "      <td>2,2,H,-</td>\n",
       "      <td>2,2,H,-</td>\n",
       "      <td>5,5,H,-</td>\n",
       "      <td>4,4,H,-</td>\n",
       "      <td>3,3,H,-</td>\n",
       "      <td>...</td>\n",
       "      <td>2,2,L,-</td>\n",
       "      <td>4,4,H,-</td>\n",
       "      <td>2,2,H,-</td>\n",
       "      <td>3,3,H,-</td>\n",
       "      <td>2,2,H,-</td>\n",
       "      <td>5,5,L,-</td>\n",
       "      <td>2,2,L,-</td>\n",
       "      <td>2,2,L,-</td>\n",
       "      <td>3,3,H,-</td>\n",
       "      <td>3,3,L,-</td>\n",
       "    </tr>\n",
       "  </tbody>\n",
       "</table>\n",
       "<p>5 rows × 1000 columns</p>\n",
       "</div>"
      ],
      "text/plain": [
       "      gene  chr    start     stop       201T      22RV1   23132-87   42-MG-BA  \\\n",
       "0      NaN  NaN      NaN      NaN    1287381     924100     910924     687561   \n",
       "1  DDX11L1    1  11869.0  14412.0  -1,-1,-,-  -1,-1,-,-  -1,-1,-,-  -1,-1,-,-   \n",
       "2   WASH7P    1  14363.0  29806.0  -1,-1,-,-  -1,-1,-,-  -1,-1,-,-  -1,-1,-,-   \n",
       "3  FAM138A    1  34554.0  36081.0  -1,-1,-,-  -1,-1,-,-  -1,-1,-,-  -1,-1,-,-   \n",
       "4  OR4G11P    1  62948.0  63887.0    5,5,L,-    2,2,H,-    2,2,H,-    5,5,H,-   \n",
       "\n",
       "       451Lu       5637    ...        WSU-NHL       YAPC      YH-13  \\\n",
       "0    1287706     687452    ...         909785     909904     909905   \n",
       "1  -1,-1,-,-  -1,-1,-,-    ...      -1,-1,-,-  -1,-1,-,-  -1,-1,-,-   \n",
       "2  -1,-1,-,-  -1,-1,-,-    ...      -1,-1,-,-  -1,-1,-,-  -1,-1,-,-   \n",
       "3  -1,-1,-,-  -1,-1,-,-    ...      -1,-1,-,-  -1,-1,-,-  -1,-1,-,-   \n",
       "4    4,4,H,-    3,3,H,-    ...        2,2,L,-    4,4,H,-    2,2,H,-   \n",
       "\n",
       "       YKG-1    YMB-1-E         YT   ZR-75-30      huH-1      no-10      no-11  \n",
       "0     687592    1303911     946358     909907    1298146     908452     908450  \n",
       "1  -1,-1,-,-  -1,-1,-,-  -1,-1,-,-  -1,-1,-,-  -1,-1,-,-  -1,-1,-,-  -1,-1,-,-  \n",
       "2  -1,-1,-,-  -1,-1,-,-  -1,-1,-,-  -1,-1,-,-  -1,-1,-,-  -1,-1,-,-  -1,-1,-,-  \n",
       "3  -1,-1,-,-  -1,-1,-,-  -1,-1,-,-  -1,-1,-,-  -1,-1,-,-  -1,-1,-,-  -1,-1,-,-  \n",
       "4    3,3,H,-    2,2,H,-    5,5,L,-    2,2,L,-    2,2,L,-    3,3,H,-    3,3,L,-  \n",
       "\n",
       "[5 rows x 1000 columns]"
      ]
     },
     "execution_count": 8,
     "metadata": {},
     "output_type": "execute_result"
    }
   ],
   "source": [
    "d_ge['Gene_level_CN'].head()"
   ]
  },
  {
   "cell_type": "code",
   "execution_count": 10,
   "metadata": {
    "collapsed": false
   },
   "outputs": [
    {
     "data": {
      "text/html": [
       "<div>\n",
       "<table border=\"1\" class=\"dataframe\">\n",
       "  <thead>\n",
       "    <tr style=\"text-align: right;\">\n",
       "      <th></th>\n",
       "    </tr>\n",
       "  </thead>\n",
       "  <tbody>\n",
       "  </tbody>\n",
       "</table>\n",
       "</div>"
      ],
      "text/plain": [
       "Empty DataFrame\n",
       "Columns: []\n",
       "Index: []"
      ]
     },
     "execution_count": 10,
     "metadata": {},
     "output_type": "execute_result"
    }
   ],
   "source": [
    "d_ge['Readme']"
   ]
  },
  {
   "cell_type": "code",
   "execution_count": null,
   "metadata": {
    "collapsed": true
   },
   "outputs": [],
   "source": []
  }
 ],
 "metadata": {
  "kernelspec": {
   "display_name": "Python 3",
   "language": "python",
   "name": "python3"
  },
  "language_info": {
   "codemirror_mode": {
    "name": "ipython",
    "version": 3
   },
   "file_extension": ".py",
   "mimetype": "text/x-python",
   "name": "python",
   "nbconvert_exporter": "python",
   "pygments_lexer": "ipython3",
   "version": "3.5.2"
  }
 },
 "nbformat": 4,
 "nbformat_minor": 0
}
