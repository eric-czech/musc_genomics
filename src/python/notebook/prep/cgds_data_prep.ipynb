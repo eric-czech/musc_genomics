{
 "cells": [
  {
   "cell_type": "markdown",
   "metadata": {},
   "source": [
    "# CGDS Genetic Feature Data Assembly/Prep"
   ]
  },
  {
   "cell_type": "code",
   "execution_count": 1,
   "metadata": {
    "collapsed": false
   },
   "outputs": [],
   "source": [
    "%run -m ipy_startup\n",
    "%run -m ipy_logging\n",
    "%matplotlib inline\n",
    "from musc_genomics.data_import import cgds, api, prep\n",
    "from musc_genomics import data\n",
    "pd.set_option('max_info_rows', int(1E9))"
   ]
  },
  {
   "cell_type": "markdown",
   "metadata": {},
   "source": [
    "## Load All Raw Data"
   ]
  },
  {
   "cell_type": "code",
   "execution_count": 2,
   "metadata": {
    "collapsed": false
   },
   "outputs": [
    {
     "name": "stderr",
     "output_type": "stream",
     "text": [
      "2016-07-19 14:41:31,210:DEBUG:research.project.manager: Loading saved data from location \"/Users/eczech/data/research/musc_genomics/materialized/cgds_genetic_cn.pkl\"\n",
      "2016-07-19 14:41:31,803:DEBUG:research.project.manager: Loading saved data from location \"/Users/eczech/data/research/musc_genomics/materialized/cgds_genetic_ge.pkl\"\n",
      "2016-07-19 14:41:32,403:DEBUG:research.project.manager: Loading saved data from location \"/Users/eczech/data/research/musc_genomics/materialized/cgds_genetic_mu.pkl\"\n",
      "2016-07-19 14:41:35,375:DEBUG:research.project.manager: Loading saved data from location \"/Users/eczech/data/research/musc_genomics/materialized/cgds_meta_mu.pkl\"\n",
      "2016-07-19 14:41:35,472:DEBUG:research.project.manager: Loading saved data from location \"/Users/eczech/data/research/musc_genomics/materialized/cgds_clinical.pkl\"\n"
     ]
    }
   ],
   "source": [
    "d_cn = data.load('materialized', 'cgds_genetic_cn')\n",
    "d_ge = data.load('materialized', 'cgds_genetic_ge')\n",
    "d_mu = data.load('materialized', 'cgds_genetic_mu')\n",
    "d_mm = data.load('materialized', 'cgds_meta_mu')\n",
    "d_cl = data.load('materialized', 'cgds_clinical')"
   ]
  },
  {
   "cell_type": "markdown",
   "metadata": {},
   "source": [
    "## Copy Number Prep"
   ]
  },
  {
   "cell_type": "code",
   "execution_count": 3,
   "metadata": {
    "collapsed": false
   },
   "outputs": [
    {
     "name": "stdout",
     "output_type": "stream",
     "text": [
      "<class 'pandas.core.frame.DataFrame'>\n",
      "RangeIndex: 20279095 entries, 0 to 20279094\n",
      "Data columns (total 3 columns):\n",
      "FEATURE     20279095 non-null object\n",
      "TUMOR_ID    20279095 non-null object\n",
      "VALUE       20279095 non-null float64\n",
      "dtypes: float64(1), object(2)\n",
      "memory usage: 464.2+ MB\n"
     ]
    }
   ],
   "source": [
    "d_cn = prep.prep_raw_cgds_genetic_data(d_cn).rename(columns={'GENE_ID': 'FEATURE'})\n",
    "d_cn.info()"
   ]
  },
  {
   "cell_type": "code",
   "execution_count": 4,
   "metadata": {
    "collapsed": false
   },
   "outputs": [
    {
     "data": {
      "text/html": [
       "<div>\n",
       "<table border=\"1\" class=\"dataframe\">\n",
       "  <thead>\n",
       "    <tr style=\"text-align: right;\">\n",
       "      <th></th>\n",
       "      <th>FEATURE</th>\n",
       "      <th>TUMOR_ID</th>\n",
       "      <th>VALUE</th>\n",
       "    </tr>\n",
       "  </thead>\n",
       "  <tbody>\n",
       "    <tr>\n",
       "      <th>0</th>\n",
       "      <td>A1BG</td>\n",
       "      <td>1321N1_CENTRAL_NERVOUS_SYSTEM</td>\n",
       "      <td>-0.1544</td>\n",
       "    </tr>\n",
       "    <tr>\n",
       "      <th>1</th>\n",
       "      <td>A1BG-AS1</td>\n",
       "      <td>1321N1_CENTRAL_NERVOUS_SYSTEM</td>\n",
       "      <td>-0.1544</td>\n",
       "    </tr>\n",
       "    <tr>\n",
       "      <th>2</th>\n",
       "      <td>A1CF</td>\n",
       "      <td>1321N1_CENTRAL_NERVOUS_SYSTEM</td>\n",
       "      <td>-0.0985</td>\n",
       "    </tr>\n",
       "    <tr>\n",
       "      <th>3</th>\n",
       "      <td>A2M</td>\n",
       "      <td>1321N1_CENTRAL_NERVOUS_SYSTEM</td>\n",
       "      <td>-0.1819</td>\n",
       "    </tr>\n",
       "    <tr>\n",
       "      <th>4</th>\n",
       "      <td>A2ML1</td>\n",
       "      <td>1321N1_CENTRAL_NERVOUS_SYSTEM</td>\n",
       "      <td>-0.1819</td>\n",
       "    </tr>\n",
       "  </tbody>\n",
       "</table>\n",
       "</div>"
      ],
      "text/plain": [
       "    FEATURE                       TUMOR_ID   VALUE\n",
       "0      A1BG  1321N1_CENTRAL_NERVOUS_SYSTEM -0.1544\n",
       "1  A1BG-AS1  1321N1_CENTRAL_NERVOUS_SYSTEM -0.1544\n",
       "2      A1CF  1321N1_CENTRAL_NERVOUS_SYSTEM -0.0985\n",
       "3       A2M  1321N1_CENTRAL_NERVOUS_SYSTEM -0.1819\n",
       "4     A2ML1  1321N1_CENTRAL_NERVOUS_SYSTEM -0.1819"
      ]
     },
     "execution_count": 4,
     "metadata": {},
     "output_type": "execute_result"
    }
   ],
   "source": [
    "d_cn.head()"
   ]
  },
  {
   "cell_type": "code",
   "execution_count": 5,
   "metadata": {
    "collapsed": false
   },
   "outputs": [
    {
     "data": {
      "text/html": [
       "<div>\n",
       "<table border=\"1\" class=\"dataframe\">\n",
       "  <thead>\n",
       "    <tr style=\"text-align: right;\">\n",
       "      <th>FEATURE</th>\n",
       "      <th>A1BG</th>\n",
       "      <th>A1BG-AS1</th>\n",
       "      <th>A1CF</th>\n",
       "      <th>A2M</th>\n",
       "      <th>A2ML1</th>\n",
       "      <th>A4GALT</th>\n",
       "      <th>A4GNT</th>\n",
       "      <th>AAAS</th>\n",
       "      <th>AACS</th>\n",
       "      <th>AACSP1</th>\n",
       "    </tr>\n",
       "    <tr>\n",
       "      <th>TUMOR_ID</th>\n",
       "      <th></th>\n",
       "      <th></th>\n",
       "      <th></th>\n",
       "      <th></th>\n",
       "      <th></th>\n",
       "      <th></th>\n",
       "      <th></th>\n",
       "      <th></th>\n",
       "      <th></th>\n",
       "      <th></th>\n",
       "    </tr>\n",
       "  </thead>\n",
       "  <tbody>\n",
       "    <tr>\n",
       "      <th>1321N1_CENTRAL_NERVOUS_SYSTEM</th>\n",
       "      <td>-0.15440</td>\n",
       "      <td>-0.15440</td>\n",
       "      <td>-0.09850</td>\n",
       "      <td>-0.1819</td>\n",
       "      <td>-0.1819</td>\n",
       "      <td>-0.1732</td>\n",
       "      <td>0.25750</td>\n",
       "      <td>-0.04040</td>\n",
       "      <td>-0.1284</td>\n",
       "      <td>0.1682</td>\n",
       "    </tr>\n",
       "    <tr>\n",
       "      <th>143B_BONE</th>\n",
       "      <td>-0.21200</td>\n",
       "      <td>-0.21200</td>\n",
       "      <td>0.15800</td>\n",
       "      <td>-0.1753</td>\n",
       "      <td>-0.1753</td>\n",
       "      <td>-0.2536</td>\n",
       "      <td>0.20600</td>\n",
       "      <td>-0.14450</td>\n",
       "      <td>-0.2757</td>\n",
       "      <td>0.2150</td>\n",
       "    </tr>\n",
       "    <tr>\n",
       "      <th>22RV1_PROSTATE</th>\n",
       "      <td>-0.08084</td>\n",
       "      <td>-0.08084</td>\n",
       "      <td>-0.00250</td>\n",
       "      <td>0.4486</td>\n",
       "      <td>0.4486</td>\n",
       "      <td>-0.0574</td>\n",
       "      <td>-0.03030</td>\n",
       "      <td>0.46490</td>\n",
       "      <td>0.4406</td>\n",
       "      <td>-0.0518</td>\n",
       "    </tr>\n",
       "    <tr>\n",
       "      <th>2313287_STOMACH</th>\n",
       "      <td>-0.03310</td>\n",
       "      <td>-0.03310</td>\n",
       "      <td>-0.05348</td>\n",
       "      <td>-0.1917</td>\n",
       "      <td>-0.1917</td>\n",
       "      <td>-0.0512</td>\n",
       "      <td>-0.04608</td>\n",
       "      <td>-0.01474</td>\n",
       "      <td>-0.0516</td>\n",
       "      <td>-0.0514</td>\n",
       "    </tr>\n",
       "    <tr>\n",
       "      <th>42MGBA_CENTRAL_NERVOUS_SYSTEM</th>\n",
       "      <td>0.03220</td>\n",
       "      <td>0.03220</td>\n",
       "      <td>-0.05220</td>\n",
       "      <td>-0.3905</td>\n",
       "      <td>-0.3905</td>\n",
       "      <td>-0.0163</td>\n",
       "      <td>-0.26860</td>\n",
       "      <td>-0.30590</td>\n",
       "      <td>0.0857</td>\n",
       "      <td>0.2794</td>\n",
       "    </tr>\n",
       "  </tbody>\n",
       "</table>\n",
       "</div>"
      ],
      "text/plain": [
       "FEATURE                           A1BG  A1BG-AS1     A1CF     A2M   A2ML1  \\\n",
       "TUMOR_ID                                                                    \n",
       "1321N1_CENTRAL_NERVOUS_SYSTEM -0.15440  -0.15440 -0.09850 -0.1819 -0.1819   \n",
       "143B_BONE                     -0.21200  -0.21200  0.15800 -0.1753 -0.1753   \n",
       "22RV1_PROSTATE                -0.08084  -0.08084 -0.00250  0.4486  0.4486   \n",
       "2313287_STOMACH               -0.03310  -0.03310 -0.05348 -0.1917 -0.1917   \n",
       "42MGBA_CENTRAL_NERVOUS_SYSTEM  0.03220   0.03220 -0.05220 -0.3905 -0.3905   \n",
       "\n",
       "FEATURE                        A4GALT    A4GNT     AAAS    AACS  AACSP1  \n",
       "TUMOR_ID                                                                 \n",
       "1321N1_CENTRAL_NERVOUS_SYSTEM -0.1732  0.25750 -0.04040 -0.1284  0.1682  \n",
       "143B_BONE                     -0.2536  0.20600 -0.14450 -0.2757  0.2150  \n",
       "22RV1_PROSTATE                -0.0574 -0.03030  0.46490  0.4406 -0.0518  \n",
       "2313287_STOMACH               -0.0512 -0.04608 -0.01474 -0.0516 -0.0514  \n",
       "42MGBA_CENTRAL_NERVOUS_SYSTEM -0.0163 -0.26860 -0.30590  0.0857  0.2794  "
      ]
     },
     "execution_count": 5,
     "metadata": {},
     "output_type": "execute_result"
    }
   ],
   "source": [
    "d_cn = d_cn.pivot_table(index='TUMOR_ID', columns='FEATURE', values='VALUE')\n",
    "d_cn.iloc[:5, :10]"
   ]
  },
  {
   "cell_type": "markdown",
   "metadata": {},
   "source": [
    "## Gene Expression Prep"
   ]
  },
  {
   "cell_type": "code",
   "execution_count": 6,
   "metadata": {
    "collapsed": false
   },
   "outputs": [
    {
     "name": "stdout",
     "output_type": "stream",
     "text": [
      "<class 'pandas.core.frame.DataFrame'>\n",
      "RangeIndex: 15512614 entries, 0 to 15512613\n",
      "Data columns (total 3 columns):\n",
      "FEATURE     15512614 non-null object\n",
      "TUMOR_ID    15512614 non-null object\n",
      "VALUE       15512614 non-null float64\n",
      "dtypes: float64(1), object(2)\n",
      "memory usage: 355.1+ MB\n"
     ]
    }
   ],
   "source": [
    "d_ge = prep.prep_raw_cgds_genetic_data(d_ge).rename(columns={'GENE_ID': 'FEATURE'})\n",
    "d_ge.info()"
   ]
  },
  {
   "cell_type": "code",
   "execution_count": 7,
   "metadata": {
    "collapsed": false
   },
   "outputs": [
    {
     "data": {
      "text/html": [
       "<div>\n",
       "<table border=\"1\" class=\"dataframe\">\n",
       "  <thead>\n",
       "    <tr style=\"text-align: right;\">\n",
       "      <th></th>\n",
       "      <th>FEATURE</th>\n",
       "      <th>TUMOR_ID</th>\n",
       "      <th>VALUE</th>\n",
       "    </tr>\n",
       "  </thead>\n",
       "  <tbody>\n",
       "    <tr>\n",
       "      <th>0</th>\n",
       "      <td>A1BG</td>\n",
       "      <td>1321N1_CENTRAL_NERVOUS_SYSTEM</td>\n",
       "      <td>-0.1004</td>\n",
       "    </tr>\n",
       "    <tr>\n",
       "      <th>1</th>\n",
       "      <td>A1CF</td>\n",
       "      <td>1321N1_CENTRAL_NERVOUS_SYSTEM</td>\n",
       "      <td>-0.4882</td>\n",
       "    </tr>\n",
       "    <tr>\n",
       "      <th>2</th>\n",
       "      <td>A2M</td>\n",
       "      <td>1321N1_CENTRAL_NERVOUS_SYSTEM</td>\n",
       "      <td>-0.2826</td>\n",
       "    </tr>\n",
       "    <tr>\n",
       "      <th>3</th>\n",
       "      <td>A2M-AS1</td>\n",
       "      <td>1321N1_CENTRAL_NERVOUS_SYSTEM</td>\n",
       "      <td>-0.7492</td>\n",
       "    </tr>\n",
       "    <tr>\n",
       "      <th>4</th>\n",
       "      <td>A2ML1</td>\n",
       "      <td>1321N1_CENTRAL_NERVOUS_SYSTEM</td>\n",
       "      <td>0.0017</td>\n",
       "    </tr>\n",
       "  </tbody>\n",
       "</table>\n",
       "</div>"
      ],
      "text/plain": [
       "   FEATURE                       TUMOR_ID   VALUE\n",
       "0     A1BG  1321N1_CENTRAL_NERVOUS_SYSTEM -0.1004\n",
       "1     A1CF  1321N1_CENTRAL_NERVOUS_SYSTEM -0.4882\n",
       "2      A2M  1321N1_CENTRAL_NERVOUS_SYSTEM -0.2826\n",
       "3  A2M-AS1  1321N1_CENTRAL_NERVOUS_SYSTEM -0.7492\n",
       "4    A2ML1  1321N1_CENTRAL_NERVOUS_SYSTEM  0.0017"
      ]
     },
     "execution_count": 7,
     "metadata": {},
     "output_type": "execute_result"
    }
   ],
   "source": [
    "d_ge.head()"
   ]
  },
  {
   "cell_type": "code",
   "execution_count": 8,
   "metadata": {
    "collapsed": false
   },
   "outputs": [
    {
     "data": {
      "text/html": [
       "<div>\n",
       "<table border=\"1\" class=\"dataframe\">\n",
       "  <thead>\n",
       "    <tr style=\"text-align: right;\">\n",
       "      <th>FEATURE</th>\n",
       "      <th>A1BG</th>\n",
       "      <th>A1CF</th>\n",
       "      <th>A2M</th>\n",
       "      <th>A2M-AS1</th>\n",
       "      <th>A2ML1</th>\n",
       "      <th>A4GALT</th>\n",
       "      <th>A4GNT</th>\n",
       "      <th>AAAS</th>\n",
       "      <th>AACS</th>\n",
       "      <th>AADAC</th>\n",
       "    </tr>\n",
       "    <tr>\n",
       "      <th>TUMOR_ID</th>\n",
       "      <th></th>\n",
       "      <th></th>\n",
       "      <th></th>\n",
       "      <th></th>\n",
       "      <th></th>\n",
       "      <th></th>\n",
       "      <th></th>\n",
       "      <th></th>\n",
       "      <th></th>\n",
       "      <th></th>\n",
       "    </tr>\n",
       "  </thead>\n",
       "  <tbody>\n",
       "    <tr>\n",
       "      <th>1321N1_CENTRAL_NERVOUS_SYSTEM</th>\n",
       "      <td>-0.1004</td>\n",
       "      <td>-0.4882</td>\n",
       "      <td>-0.2826</td>\n",
       "      <td>-0.7492</td>\n",
       "      <td>0.0017</td>\n",
       "      <td>0.8475</td>\n",
       "      <td>0.0203</td>\n",
       "      <td>0.2452</td>\n",
       "      <td>-1.3409</td>\n",
       "      <td>-0.5405</td>\n",
       "    </tr>\n",
       "    <tr>\n",
       "      <th>143B_BONE</th>\n",
       "      <td>-0.4436</td>\n",
       "      <td>-0.3827</td>\n",
       "      <td>0.0548</td>\n",
       "      <td>-0.2432</td>\n",
       "      <td>-0.3059</td>\n",
       "      <td>-0.3778</td>\n",
       "      <td>0.6206</td>\n",
       "      <td>0.3606</td>\n",
       "      <td>-0.7550</td>\n",
       "      <td>-0.4748</td>\n",
       "    </tr>\n",
       "    <tr>\n",
       "      <th>22RV1_PROSTATE</th>\n",
       "      <td>-0.9152</td>\n",
       "      <td>3.3331</td>\n",
       "      <td>-0.0267</td>\n",
       "      <td>1.5792</td>\n",
       "      <td>-0.4410</td>\n",
       "      <td>-1.3142</td>\n",
       "      <td>-0.7317</td>\n",
       "      <td>1.6733</td>\n",
       "      <td>1.9962</td>\n",
       "      <td>-0.5656</td>\n",
       "    </tr>\n",
       "    <tr>\n",
       "      <th>2313287_STOMACH</th>\n",
       "      <td>-1.3652</td>\n",
       "      <td>1.9270</td>\n",
       "      <td>-0.4622</td>\n",
       "      <td>0.0741</td>\n",
       "      <td>-0.3560</td>\n",
       "      <td>0.3141</td>\n",
       "      <td>-0.6220</td>\n",
       "      <td>-0.3155</td>\n",
       "      <td>0.0430</td>\n",
       "      <td>-0.3193</td>\n",
       "    </tr>\n",
       "    <tr>\n",
       "      <th>42MGBA_CENTRAL_NERVOUS_SYSTEM</th>\n",
       "      <td>1.7218</td>\n",
       "      <td>-0.3239</td>\n",
       "      <td>-0.3587</td>\n",
       "      <td>-1.2605</td>\n",
       "      <td>0.2094</td>\n",
       "      <td>-1.2627</td>\n",
       "      <td>-1.3619</td>\n",
       "      <td>-0.1937</td>\n",
       "      <td>-0.3963</td>\n",
       "      <td>-0.5527</td>\n",
       "    </tr>\n",
       "  </tbody>\n",
       "</table>\n",
       "</div>"
      ],
      "text/plain": [
       "FEATURE                          A1BG    A1CF     A2M  A2M-AS1   A2ML1  \\\n",
       "TUMOR_ID                                                                 \n",
       "1321N1_CENTRAL_NERVOUS_SYSTEM -0.1004 -0.4882 -0.2826  -0.7492  0.0017   \n",
       "143B_BONE                     -0.4436 -0.3827  0.0548  -0.2432 -0.3059   \n",
       "22RV1_PROSTATE                -0.9152  3.3331 -0.0267   1.5792 -0.4410   \n",
       "2313287_STOMACH               -1.3652  1.9270 -0.4622   0.0741 -0.3560   \n",
       "42MGBA_CENTRAL_NERVOUS_SYSTEM  1.7218 -0.3239 -0.3587  -1.2605  0.2094   \n",
       "\n",
       "FEATURE                        A4GALT   A4GNT    AAAS    AACS   AADAC  \n",
       "TUMOR_ID                                                               \n",
       "1321N1_CENTRAL_NERVOUS_SYSTEM  0.8475  0.0203  0.2452 -1.3409 -0.5405  \n",
       "143B_BONE                     -0.3778  0.6206  0.3606 -0.7550 -0.4748  \n",
       "22RV1_PROSTATE                -1.3142 -0.7317  1.6733  1.9962 -0.5656  \n",
       "2313287_STOMACH                0.3141 -0.6220 -0.3155  0.0430 -0.3193  \n",
       "42MGBA_CENTRAL_NERVOUS_SYSTEM -1.2627 -1.3619 -0.1937 -0.3963 -0.5527  "
      ]
     },
     "execution_count": 8,
     "metadata": {},
     "output_type": "execute_result"
    }
   ],
   "source": [
    "d_ge = d_ge.pivot_table(index='TUMOR_ID', columns='FEATURE', values='VALUE')\n",
    "d_ge.iloc[:5, :10]"
   ]
  },
  {
   "cell_type": "markdown",
   "metadata": {},
   "source": [
    "## Mutation Data Prep"
   ]
  },
  {
   "cell_type": "code",
   "execution_count": 9,
   "metadata": {
    "collapsed": false
   },
   "outputs": [
    {
     "name": "stdout",
     "output_type": "stream",
     "text": [
      "<class 'pandas.core.frame.DataFrame'>\n",
      "RangeIndex: 53541 entries, 0 to 53540\n",
      "Data columns (total 3 columns):\n",
      "GENE_ID     53541 non-null object\n",
      "TUMOR_ID    53541 non-null object\n",
      "VALUE       53541 non-null object\n",
      "dtypes: object(3)\n",
      "memory usage: 1.2+ MB\n"
     ]
    }
   ],
   "source": [
    "d_mu = prep.prep_raw_cgds_genetic_data(d_mu)\n",
    "d_mu.info()"
   ]
  },
  {
   "cell_type": "code",
   "execution_count": 10,
   "metadata": {
    "collapsed": false
   },
   "outputs": [
    {
     "data": {
      "text/html": [
       "<div>\n",
       "<table border=\"1\" class=\"dataframe\">\n",
       "  <thead>\n",
       "    <tr style=\"text-align: right;\">\n",
       "      <th></th>\n",
       "      <th>GENE_ID</th>\n",
       "      <th>TUMOR_ID</th>\n",
       "      <th>MUTATION</th>\n",
       "      <th>VALUE</th>\n",
       "    </tr>\n",
       "  </thead>\n",
       "  <tbody>\n",
       "    <tr>\n",
       "      <th>0</th>\n",
       "      <td>AAK1</td>\n",
       "      <td>22RV1_PROSTATE</td>\n",
       "      <td>R634H</td>\n",
       "      <td>1</td>\n",
       "    </tr>\n",
       "    <tr>\n",
       "      <th>1</th>\n",
       "      <td>AAK1</td>\n",
       "      <td>CMLT1_HAEMATOPOIETIC_AND_LYMPHOID_TISSUE</td>\n",
       "      <td>Q545_Q546del</td>\n",
       "      <td>1</td>\n",
       "    </tr>\n",
       "    <tr>\n",
       "      <th>2</th>\n",
       "      <td>AAK1</td>\n",
       "      <td>HEC108_ENDOMETRIUM</td>\n",
       "      <td>Q533H</td>\n",
       "      <td>1</td>\n",
       "    </tr>\n",
       "    <tr>\n",
       "      <th>3</th>\n",
       "      <td>AAK1</td>\n",
       "      <td>HEC251_ENDOMETRIUM</td>\n",
       "      <td>N713S</td>\n",
       "      <td>1</td>\n",
       "    </tr>\n",
       "    <tr>\n",
       "      <th>4</th>\n",
       "      <td>AAK1</td>\n",
       "      <td>HEC59_ENDOMETRIUM</td>\n",
       "      <td>P461S</td>\n",
       "      <td>1</td>\n",
       "    </tr>\n",
       "  </tbody>\n",
       "</table>\n",
       "</div>"
      ],
      "text/plain": [
       "  GENE_ID                                  TUMOR_ID      MUTATION  VALUE\n",
       "0    AAK1                            22RV1_PROSTATE         R634H      1\n",
       "1    AAK1  CMLT1_HAEMATOPOIETIC_AND_LYMPHOID_TISSUE  Q545_Q546del      1\n",
       "2    AAK1                        HEC108_ENDOMETRIUM         Q533H      1\n",
       "3    AAK1                        HEC251_ENDOMETRIUM         N713S      1\n",
       "4    AAK1                         HEC59_ENDOMETRIUM         P461S      1"
      ]
     },
     "execution_count": 10,
     "metadata": {},
     "output_type": "execute_result"
    }
   ],
   "source": [
    "d_mu_ft = d_mu.groupby([c for c in d_mu if c != 'VALUE'])['VALUE']\\\n",
    "    .apply(prep.split_mutation_value).reset_index()\n",
    "d_mu_ft.head()"
   ]
  },
  {
   "cell_type": "code",
   "execution_count": 11,
   "metadata": {
    "collapsed": false
   },
   "outputs": [
    {
     "data": {
      "text/html": [
       "<div>\n",
       "<table border=\"1\" class=\"dataframe\">\n",
       "  <thead>\n",
       "    <tr style=\"text-align: right;\">\n",
       "      <th></th>\n",
       "      <th>GENE_ID</th>\n",
       "      <th>TUMOR_ID</th>\n",
       "      <th>MUTATION</th>\n",
       "      <th>VALUE</th>\n",
       "      <th>MUTATION_TYPE</th>\n",
       "      <th>IMPACT_SCORE</th>\n",
       "    </tr>\n",
       "  </thead>\n",
       "  <tbody>\n",
       "    <tr>\n",
       "      <th>0</th>\n",
       "      <td>AAK1</td>\n",
       "      <td>22RV1_PROSTATE</td>\n",
       "      <td>R634H</td>\n",
       "      <td>1</td>\n",
       "      <td>missense_mutation</td>\n",
       "      <td>low</td>\n",
       "    </tr>\n",
       "    <tr>\n",
       "      <th>1</th>\n",
       "      <td>AAK1</td>\n",
       "      <td>CMLT1_HAEMATOPOIETIC_AND_LYMPHOID_TISSUE</td>\n",
       "      <td>Q545_Q546del</td>\n",
       "      <td>1</td>\n",
       "      <td>in_frame_del</td>\n",
       "      <td>unknown</td>\n",
       "    </tr>\n",
       "    <tr>\n",
       "      <th>2</th>\n",
       "      <td>AAK1</td>\n",
       "      <td>HEC108_ENDOMETRIUM</td>\n",
       "      <td>Q533H</td>\n",
       "      <td>1</td>\n",
       "      <td>missense_mutation</td>\n",
       "      <td>neutral</td>\n",
       "    </tr>\n",
       "    <tr>\n",
       "      <th>3</th>\n",
       "      <td>AAK1</td>\n",
       "      <td>HEC251_ENDOMETRIUM</td>\n",
       "      <td>N713S</td>\n",
       "      <td>1</td>\n",
       "      <td>missense_mutation</td>\n",
       "      <td>low</td>\n",
       "    </tr>\n",
       "    <tr>\n",
       "      <th>4</th>\n",
       "      <td>AAK1</td>\n",
       "      <td>HEC59_ENDOMETRIUM</td>\n",
       "      <td>P461S</td>\n",
       "      <td>1</td>\n",
       "      <td>missense_mutation</td>\n",
       "      <td>neutral</td>\n",
       "    </tr>\n",
       "  </tbody>\n",
       "</table>\n",
       "</div>"
      ],
      "text/plain": [
       "  GENE_ID                                  TUMOR_ID      MUTATION  VALUE  \\\n",
       "0    AAK1                            22RV1_PROSTATE         R634H      1   \n",
       "1    AAK1  CMLT1_HAEMATOPOIETIC_AND_LYMPHOID_TISSUE  Q545_Q546del      1   \n",
       "2    AAK1                        HEC108_ENDOMETRIUM         Q533H      1   \n",
       "3    AAK1                        HEC251_ENDOMETRIUM         N713S      1   \n",
       "4    AAK1                         HEC59_ENDOMETRIUM         P461S      1   \n",
       "\n",
       "       MUTATION_TYPE IMPACT_SCORE  \n",
       "0  missense_mutation          low  \n",
       "1       in_frame_del      unknown  \n",
       "2  missense_mutation      neutral  \n",
       "3  missense_mutation          low  \n",
       "4  missense_mutation      neutral  "
      ]
     },
     "execution_count": 11,
     "metadata": {},
     "output_type": "execute_result"
    }
   ],
   "source": [
    "d_mu_all = prep.add_mutation_metadata(d_mu_ft, d_mm)\n",
    "d_mu_all.head()"
   ]
  },
  {
   "cell_type": "code",
   "execution_count": 12,
   "metadata": {
    "collapsed": false
   },
   "outputs": [
    {
     "data": {
      "text/html": [
       "<div>\n",
       "<table border=\"1\" class=\"dataframe\">\n",
       "  <thead>\n",
       "    <tr style=\"text-align: right;\">\n",
       "      <th></th>\n",
       "      <th>TUMOR_ID</th>\n",
       "      <th>GENE_ID</th>\n",
       "      <th>FEATURE</th>\n",
       "      <th>VALUE</th>\n",
       "    </tr>\n",
       "  </thead>\n",
       "  <tbody>\n",
       "    <tr>\n",
       "      <th>0</th>\n",
       "      <td>22RV1_PROSTATE</td>\n",
       "      <td>AAK1</td>\n",
       "      <td>AAC:AAK1:R634H</td>\n",
       "      <td>1</td>\n",
       "    </tr>\n",
       "    <tr>\n",
       "      <th>1</th>\n",
       "      <td>22RV1_PROSTATE</td>\n",
       "      <td>AAK1</td>\n",
       "      <td>TYP:AAK1:missense_mutation</td>\n",
       "      <td>1</td>\n",
       "    </tr>\n",
       "    <tr>\n",
       "      <th>2</th>\n",
       "      <td>22RV1_PROSTATE</td>\n",
       "      <td>AAK1</td>\n",
       "      <td>IMP:AAK1:low</td>\n",
       "      <td>1</td>\n",
       "    </tr>\n",
       "    <tr>\n",
       "      <th>3</th>\n",
       "      <td>22RV1_PROSTATE</td>\n",
       "      <td>ABCC4</td>\n",
       "      <td>AAC:ABCC4:L883Wfs*7</td>\n",
       "      <td>1</td>\n",
       "    </tr>\n",
       "    <tr>\n",
       "      <th>4</th>\n",
       "      <td>22RV1_PROSTATE</td>\n",
       "      <td>ABCC4</td>\n",
       "      <td>TYP:ABCC4:frame_shift_del</td>\n",
       "      <td>1</td>\n",
       "    </tr>\n",
       "  </tbody>\n",
       "</table>\n",
       "</div>"
      ],
      "text/plain": [
       "         TUMOR_ID GENE_ID                     FEATURE  VALUE\n",
       "0  22RV1_PROSTATE    AAK1              AAC:AAK1:R634H      1\n",
       "1  22RV1_PROSTATE    AAK1  TYP:AAK1:missense_mutation      1\n",
       "2  22RV1_PROSTATE    AAK1                IMP:AAK1:low      1\n",
       "3  22RV1_PROSTATE   ABCC4         AAC:ABCC4:L883Wfs*7      1\n",
       "4  22RV1_PROSTATE   ABCC4   TYP:ABCC4:frame_shift_del      1"
      ]
     },
     "execution_count": 12,
     "metadata": {},
     "output_type": "execute_result"
    }
   ],
   "source": [
    "d_mu_lng = d_mu_all.groupby(['TUMOR_ID', 'GENE_ID']).apply(prep.get_gene_mutation_features).reset_index()\n",
    "d_mu_lng.head()"
   ]
  },
  {
   "cell_type": "code",
   "execution_count": 13,
   "metadata": {
    "collapsed": false
   },
   "outputs": [
    {
     "data": {
      "text/html": [
       "<div>\n",
       "<table border=\"1\" class=\"dataframe\">\n",
       "  <thead>\n",
       "    <tr style=\"text-align: right;\">\n",
       "      <th>FEATURE</th>\n",
       "      <th>AAC:AAK1:F312Lfs*26</th>\n",
       "      <th>AAC:AAK1:G15D</th>\n",
       "      <th>AAC:AAK1:H189R</th>\n",
       "      <th>AAC:AAK1:N713S</th>\n",
       "      <th>AAC:AAK1:P336T</th>\n",
       "      <th>AAC:AAK1:P461S</th>\n",
       "      <th>AAC:AAK1:P771R</th>\n",
       "      <th>AAC:AAK1:Q533H</th>\n",
       "      <th>AAC:AAK1:Q545_Q546del</th>\n",
       "      <th>AAC:AAK1:Q743*</th>\n",
       "    </tr>\n",
       "    <tr>\n",
       "      <th>TUMOR_ID</th>\n",
       "      <th></th>\n",
       "      <th></th>\n",
       "      <th></th>\n",
       "      <th></th>\n",
       "      <th></th>\n",
       "      <th></th>\n",
       "      <th></th>\n",
       "      <th></th>\n",
       "      <th></th>\n",
       "      <th></th>\n",
       "    </tr>\n",
       "  </thead>\n",
       "  <tbody>\n",
       "    <tr>\n",
       "      <th>22RV1_PROSTATE</th>\n",
       "      <td>NaN</td>\n",
       "      <td>NaN</td>\n",
       "      <td>NaN</td>\n",
       "      <td>NaN</td>\n",
       "      <td>NaN</td>\n",
       "      <td>NaN</td>\n",
       "      <td>NaN</td>\n",
       "      <td>NaN</td>\n",
       "      <td>NaN</td>\n",
       "      <td>NaN</td>\n",
       "    </tr>\n",
       "    <tr>\n",
       "      <th>2313287_STOMACH</th>\n",
       "      <td>NaN</td>\n",
       "      <td>NaN</td>\n",
       "      <td>NaN</td>\n",
       "      <td>NaN</td>\n",
       "      <td>NaN</td>\n",
       "      <td>NaN</td>\n",
       "      <td>NaN</td>\n",
       "      <td>NaN</td>\n",
       "      <td>NaN</td>\n",
       "      <td>NaN</td>\n",
       "    </tr>\n",
       "    <tr>\n",
       "      <th>253JBV_URINARY_TRACT</th>\n",
       "      <td>NaN</td>\n",
       "      <td>NaN</td>\n",
       "      <td>NaN</td>\n",
       "      <td>NaN</td>\n",
       "      <td>NaN</td>\n",
       "      <td>NaN</td>\n",
       "      <td>NaN</td>\n",
       "      <td>NaN</td>\n",
       "      <td>NaN</td>\n",
       "      <td>NaN</td>\n",
       "    </tr>\n",
       "    <tr>\n",
       "      <th>253J_URINARY_TRACT</th>\n",
       "      <td>NaN</td>\n",
       "      <td>NaN</td>\n",
       "      <td>NaN</td>\n",
       "      <td>NaN</td>\n",
       "      <td>NaN</td>\n",
       "      <td>NaN</td>\n",
       "      <td>NaN</td>\n",
       "      <td>NaN</td>\n",
       "      <td>NaN</td>\n",
       "      <td>NaN</td>\n",
       "    </tr>\n",
       "    <tr>\n",
       "      <th>42MGBA_CENTRAL_NERVOUS_SYSTEM</th>\n",
       "      <td>NaN</td>\n",
       "      <td>NaN</td>\n",
       "      <td>NaN</td>\n",
       "      <td>NaN</td>\n",
       "      <td>NaN</td>\n",
       "      <td>NaN</td>\n",
       "      <td>NaN</td>\n",
       "      <td>NaN</td>\n",
       "      <td>NaN</td>\n",
       "      <td>NaN</td>\n",
       "    </tr>\n",
       "  </tbody>\n",
       "</table>\n",
       "</div>"
      ],
      "text/plain": [
       "FEATURE                        AAC:AAK1:F312Lfs*26  AAC:AAK1:G15D  \\\n",
       "TUMOR_ID                                                            \n",
       "22RV1_PROSTATE                                 NaN            NaN   \n",
       "2313287_STOMACH                                NaN            NaN   \n",
       "253JBV_URINARY_TRACT                           NaN            NaN   \n",
       "253J_URINARY_TRACT                             NaN            NaN   \n",
       "42MGBA_CENTRAL_NERVOUS_SYSTEM                  NaN            NaN   \n",
       "\n",
       "FEATURE                        AAC:AAK1:H189R  AAC:AAK1:N713S  AAC:AAK1:P336T  \\\n",
       "TUMOR_ID                                                                        \n",
       "22RV1_PROSTATE                            NaN             NaN             NaN   \n",
       "2313287_STOMACH                           NaN             NaN             NaN   \n",
       "253JBV_URINARY_TRACT                      NaN             NaN             NaN   \n",
       "253J_URINARY_TRACT                        NaN             NaN             NaN   \n",
       "42MGBA_CENTRAL_NERVOUS_SYSTEM             NaN             NaN             NaN   \n",
       "\n",
       "FEATURE                        AAC:AAK1:P461S  AAC:AAK1:P771R  AAC:AAK1:Q533H  \\\n",
       "TUMOR_ID                                                                        \n",
       "22RV1_PROSTATE                            NaN             NaN             NaN   \n",
       "2313287_STOMACH                           NaN             NaN             NaN   \n",
       "253JBV_URINARY_TRACT                      NaN             NaN             NaN   \n",
       "253J_URINARY_TRACT                        NaN             NaN             NaN   \n",
       "42MGBA_CENTRAL_NERVOUS_SYSTEM             NaN             NaN             NaN   \n",
       "\n",
       "FEATURE                        AAC:AAK1:Q545_Q546del  AAC:AAK1:Q743*  \n",
       "TUMOR_ID                                                              \n",
       "22RV1_PROSTATE                                   NaN             NaN  \n",
       "2313287_STOMACH                                  NaN             NaN  \n",
       "253JBV_URINARY_TRACT                             NaN             NaN  \n",
       "253J_URINARY_TRACT                               NaN             NaN  \n",
       "42MGBA_CENTRAL_NERVOUS_SYSTEM                    NaN             NaN  "
      ]
     },
     "execution_count": 13,
     "metadata": {},
     "output_type": "execute_result"
    }
   ],
   "source": [
    "d_mu_mm = d_mu_lng.pivot_table(index='TUMOR_ID', columns='FEATURE', values='VALUE', aggfunc='sum')\n",
    "d_mu_mm.iloc[:5, :10]"
   ]
  },
  {
   "cell_type": "markdown",
   "metadata": {},
   "source": [
    "## Clinical Data Prep"
   ]
  },
  {
   "cell_type": "code",
   "execution_count": 14,
   "metadata": {
    "collapsed": false
   },
   "outputs": [
    {
     "data": {
      "text/html": [
       "<div>\n",
       "<table border=\"1\" class=\"dataframe\">\n",
       "  <thead>\n",
       "    <tr style=\"text-align: right;\">\n",
       "      <th></th>\n",
       "      <th>CASE_ID</th>\n",
       "      <th>CANCER_TYPE</th>\n",
       "      <th>DATA_SOURCE</th>\n",
       "      <th>GENDER</th>\n",
       "      <th>HISTOLOGICAL_SUBTYPE</th>\n",
       "      <th>HISTOLOGY</th>\n",
       "      <th>PRIMARY_SITE</th>\n",
       "      <th>TUMOR_TYPE</th>\n",
       "    </tr>\n",
       "  </thead>\n",
       "  <tbody>\n",
       "    <tr>\n",
       "      <th>0</th>\n",
       "      <td>HCC78_LUNG</td>\n",
       "      <td>solid</td>\n",
       "      <td>DSMZ</td>\n",
       "      <td>Male</td>\n",
       "      <td>adenocarcinoma</td>\n",
       "      <td>carcinoma</td>\n",
       "      <td>lung</td>\n",
       "      <td>lung_NSC</td>\n",
       "    </tr>\n",
       "    <tr>\n",
       "      <th>1</th>\n",
       "      <td>COLO800_SKIN</td>\n",
       "      <td>solid</td>\n",
       "      <td>DSMZ</td>\n",
       "      <td>NaN</td>\n",
       "      <td>NaN</td>\n",
       "      <td>malignant_melanoma</td>\n",
       "      <td>skin</td>\n",
       "      <td>melanoma</td>\n",
       "    </tr>\n",
       "    <tr>\n",
       "      <th>2</th>\n",
       "      <td>SKMEL1_SKIN</td>\n",
       "      <td>solid</td>\n",
       "      <td>ATCC</td>\n",
       "      <td>Male</td>\n",
       "      <td>NaN</td>\n",
       "      <td>malignant_melanoma</td>\n",
       "      <td>skin</td>\n",
       "      <td>melanoma</td>\n",
       "    </tr>\n",
       "    <tr>\n",
       "      <th>3</th>\n",
       "      <td>HT115_LARGE_INTESTINE</td>\n",
       "      <td>solid</td>\n",
       "      <td>ECACC</td>\n",
       "      <td>NaN</td>\n",
       "      <td>NaN</td>\n",
       "      <td>carcinoma</td>\n",
       "      <td>large_intestine</td>\n",
       "      <td>colorectal</td>\n",
       "    </tr>\n",
       "    <tr>\n",
       "      <th>4</th>\n",
       "      <td>ECC12_STOMACH</td>\n",
       "      <td>solid</td>\n",
       "      <td>RIKEN</td>\n",
       "      <td>NaN</td>\n",
       "      <td>small_cell_adenocarcinoma</td>\n",
       "      <td>carcinoma</td>\n",
       "      <td>stomach</td>\n",
       "      <td>stomach</td>\n",
       "    </tr>\n",
       "  </tbody>\n",
       "</table>\n",
       "</div>"
      ],
      "text/plain": [
       "                 CASE_ID CANCER_TYPE DATA_SOURCE GENDER  \\\n",
       "0             HCC78_LUNG       solid        DSMZ   Male   \n",
       "1           COLO800_SKIN       solid        DSMZ    NaN   \n",
       "2            SKMEL1_SKIN       solid        ATCC   Male   \n",
       "3  HT115_LARGE_INTESTINE       solid       ECACC    NaN   \n",
       "4          ECC12_STOMACH       solid       RIKEN    NaN   \n",
       "\n",
       "        HISTOLOGICAL_SUBTYPE           HISTOLOGY     PRIMARY_SITE  TUMOR_TYPE  \n",
       "0             adenocarcinoma           carcinoma             lung    lung_NSC  \n",
       "1                        NaN  malignant_melanoma             skin    melanoma  \n",
       "2                        NaN  malignant_melanoma             skin    melanoma  \n",
       "3                        NaN           carcinoma  large_intestine  colorectal  \n",
       "4  small_cell_adenocarcinoma           carcinoma          stomach     stomach  "
      ]
     },
     "execution_count": 14,
     "metadata": {},
     "output_type": "execute_result"
    }
   ],
   "source": [
    "d_cl.head()"
   ]
  },
  {
   "cell_type": "code",
   "execution_count": 15,
   "metadata": {
    "collapsed": false
   },
   "outputs": [
    {
     "data": {
      "text/html": [
       "<div>\n",
       "<table border=\"1\" class=\"dataframe\">\n",
       "  <thead>\n",
       "    <tr style=\"text-align: right;\">\n",
       "      <th>FEATURE</th>\n",
       "      <th>CANCER_TYPE</th>\n",
       "      <th>HISTOLOGY</th>\n",
       "      <th>PRIMARY_SITE</th>\n",
       "      <th>GENDER</th>\n",
       "    </tr>\n",
       "    <tr>\n",
       "      <th>TUMOR_ID</th>\n",
       "      <th></th>\n",
       "      <th></th>\n",
       "      <th></th>\n",
       "      <th></th>\n",
       "    </tr>\n",
       "  </thead>\n",
       "  <tbody>\n",
       "    <tr>\n",
       "      <th>HCC78_LUNG</th>\n",
       "      <td>solid</td>\n",
       "      <td>carcinoma</td>\n",
       "      <td>lung</td>\n",
       "      <td>male</td>\n",
       "    </tr>\n",
       "    <tr>\n",
       "      <th>COLO800_SKIN</th>\n",
       "      <td>solid</td>\n",
       "      <td>malignant_melanoma</td>\n",
       "      <td>skin</td>\n",
       "      <td>unknown</td>\n",
       "    </tr>\n",
       "    <tr>\n",
       "      <th>SKMEL1_SKIN</th>\n",
       "      <td>solid</td>\n",
       "      <td>malignant_melanoma</td>\n",
       "      <td>skin</td>\n",
       "      <td>male</td>\n",
       "    </tr>\n",
       "    <tr>\n",
       "      <th>HT115_LARGE_INTESTINE</th>\n",
       "      <td>solid</td>\n",
       "      <td>carcinoma</td>\n",
       "      <td>large_intestine</td>\n",
       "      <td>unknown</td>\n",
       "    </tr>\n",
       "    <tr>\n",
       "      <th>ECC12_STOMACH</th>\n",
       "      <td>solid</td>\n",
       "      <td>carcinoma</td>\n",
       "      <td>stomach</td>\n",
       "      <td>unknown</td>\n",
       "    </tr>\n",
       "  </tbody>\n",
       "</table>\n",
       "</div>"
      ],
      "text/plain": [
       "FEATURE               CANCER_TYPE           HISTOLOGY     PRIMARY_SITE  \\\n",
       "TUMOR_ID                                                                 \n",
       "HCC78_LUNG                  solid           carcinoma             lung   \n",
       "COLO800_SKIN                solid  malignant_melanoma             skin   \n",
       "SKMEL1_SKIN                 solid  malignant_melanoma             skin   \n",
       "HT115_LARGE_INTESTINE       solid           carcinoma  large_intestine   \n",
       "ECC12_STOMACH               solid           carcinoma          stomach   \n",
       "\n",
       "FEATURE                 GENDER  \n",
       "TUMOR_ID                        \n",
       "HCC78_LUNG                male  \n",
       "COLO800_SKIN           unknown  \n",
       "SKMEL1_SKIN               male  \n",
       "HT115_LARGE_INTESTINE  unknown  \n",
       "ECC12_STOMACH          unknown  "
      ]
     },
     "execution_count": 15,
     "metadata": {},
     "output_type": "execute_result"
    }
   ],
   "source": [
    "d_cd = d_cl.copy()\n",
    "\n",
    "# Fill in missing primary site values in clinical data fields using primary site in case/tumor ID\n",
    "d_cd['PRIMARY_SITE_ID'] = d_cd['CASE_ID'].str.split('_').str[1:].str.join('_').str.lower()\n",
    "\n",
    "# Verify that when present, the primary site value from the clinical data is always equal to\n",
    "# the site name in the case/tumor ID\n",
    "d_site = d_cd[d_cd['PRIMARY_SITE'].notnull()]\n",
    "assert np.all(d_site['PRIMARY_SITE'] == d_site['PRIMARY_SITE_ID'])\n",
    "\n",
    "# Fill in missing primary site values\n",
    "d_cd['PRIMARY_SITE'] = d_cd['PRIMARY_SITE'].where(d_cd['PRIMARY_SITE'].notnull(), d_cd['PRIMARY_SITE_ID'])\n",
    "d_cd = d_cd.drop('PRIMARY_SITE_ID', axis=1)\n",
    "\n",
    "# Pivot all clinical features into rows\n",
    "cols = ['TUMOR_ID', 'CANCER_TYPE', 'HISTOLOGY', 'PRIMARY_SITE', 'GENDER']\n",
    "d_cd = d_cd.rename(columns={'CASE_ID': 'TUMOR_ID'})[cols]\\\n",
    "    .set_index('TUMOR_ID')\\\n",
    "    .fillna('unknown')\\\n",
    "    .applymap(lambda x: None if pd.isnull(x) else x.lower())\n",
    "d_cd.columns.name = 'FEATURE'\n",
    "\n",
    "d_cd.head()"
   ]
  },
  {
   "cell_type": "markdown",
   "metadata": {},
   "source": [
    "## Merging"
   ]
  },
  {
   "cell_type": "code",
   "execution_count": 25,
   "metadata": {
    "collapsed": false
   },
   "outputs": [
    {
     "name": "stdout",
     "output_type": "stream",
     "text": [
      "<class 'pandas.core.frame.DataFrame'>\n",
      "Index: 1019 entries, 1321N1 to ZR7530\n",
      "Columns: 107376 entries, CN:A1BG to CL:GENDER\n",
      "dtypes: float64(107372), object(4)\n",
      "memory usage: 834.8+ MB\n"
     ]
    }
   ],
   "source": [
    "d_exp = pd.concat([\n",
    "    d_cn.rename(columns=lambda c: 'CN:' + c), \n",
    "    d_ge.rename(columns=lambda c: 'GE:' + c), \n",
    "    d_mu_mm.rename(columns=lambda c: 'MU:' + c), \n",
    "    d_cd.rename(columns=lambda c: 'CL:' + c)\n",
    "], axis=1)\n",
    "\n",
    "# Rename known duplicates in tumor id values\n",
    "dupe_id = {'TT_OESOPHAGUS': 'TTOESOPH_OESOPHAGUS', 'TT_THYROID': 'TTTHYR_THYROID'}\n",
    "d_exp.index = d_exp.index.map(lambda x: dupe_id.get(x, x))\n",
    "\n",
    "# Remove primary site from tumor ID\n",
    "d_exp.index = [c.split('_')[0] for c in d_exp.index.values]\n",
    "d_exp.index.name = 'TUMOR_ID'\n",
    "\n",
    "# Ensure no duplicate tumor ids exist in index\n",
    "idx_dupe = d_exp.index[d_exp.index.duplicated()]\n",
    "assert len(idx_dupe) == 0, 'Found duplicate tumor IDs in index: {}'.format(idx_dupe)\n",
    "\n",
    "d_exp.info()"
   ]
  },
  {
   "cell_type": "code",
   "execution_count": 26,
   "metadata": {
    "collapsed": false
   },
   "outputs": [
    {
     "name": "stdout",
     "output_type": "stream",
     "text": [
      "<class 'pandas.core.frame.DataFrame'>\n",
      "Index: 1019 entries, 1321N1 to ZR7530\n",
      "Data columns (total 13 columns):\n",
      "MU:IMP:BRAF:high                 8 non-null float64\n",
      "MU:IMP:BRAF:low                  73 non-null float64\n",
      "MU:IMP:BRAF:med                  4 non-null float64\n",
      "MU:IMP:BRAF:neutral              6 non-null float64\n",
      "MU:IMP:BRAF:unknown              10 non-null float64\n",
      "MU:TYP:BRAF:frame_shift_del      2 non-null float64\n",
      "MU:TYP:BRAF:in_frame_ins         1 non-null float64\n",
      "MU:TYP:BRAF:missense_mutation    93 non-null float64\n",
      "MU:TYP:BRAF:splice_site          2 non-null float64\n",
      "CL:CANCER_TYPE                   1019 non-null object\n",
      "CL:HISTOLOGY                     1019 non-null object\n",
      "CL:PRIMARY_SITE                  1019 non-null object\n",
      "CL:GENDER                        1019 non-null object\n",
      "dtypes: float64(9), object(4)\n",
      "memory usage: 111.5+ KB\n"
     ]
    }
   ],
   "source": [
    "d_exp.filter(regex='^MU:TYP:BRAF|^MU:IMP:BRAF|^CL:').info()"
   ]
  },
  {
   "cell_type": "markdown",
   "metadata": {},
   "source": [
    "## Export"
   ]
  },
  {
   "cell_type": "code",
   "execution_count": 29,
   "metadata": {
    "collapsed": false
   },
   "outputs": [
    {
     "name": "stderr",
     "output_type": "stream",
     "text": [
      "2016-07-19 14:57:11,017:DEBUG:research.project.manager: Saving data to location \"/Users/eczech/data/research/musc_genomics/prepared/features_raw.pkl\"\n"
     ]
    },
    {
     "data": {
      "text/plain": [
       "'/Users/eczech/data/research/musc_genomics/prepared/features_raw.pkl'"
      ]
     },
     "execution_count": 29,
     "metadata": {},
     "output_type": "execute_result"
    }
   ],
   "source": [
    "data.save('prepared', 'features_raw', d_exp)"
   ]
  },
  {
   "cell_type": "markdown",
   "metadata": {},
   "source": [
    "<hr>\n",
    "\n",
    "## Analysis"
   ]
  },
  {
   "cell_type": "code",
   "execution_count": 30,
   "metadata": {
    "collapsed": false
   },
   "outputs": [
    {
     "data": {
      "text/plain": [
       "MU    70949\n",
       "CN    20381\n",
       "GE    16042\n",
       "CL        4\n",
       "dtype: int64"
      ]
     },
     "execution_count": 30,
     "metadata": {},
     "output_type": "execute_result"
    }
   ],
   "source": [
    "pd.Series([c.split(':')[0] for c in d_exp]).value_counts()"
   ]
  },
  {
   "cell_type": "code",
   "execution_count": 31,
   "metadata": {
    "collapsed": false
   },
   "outputs": [
    {
     "data": {
      "text/plain": [
       "FEATURE\n",
       "MU:AAC:BRAF:V600E                              1\n",
       "MU:AAC:BRAF:V600E,X287_splice                  1\n",
       "MU:AAC:BRAF:X287_splice                        1\n",
       "MU:IMP:BRAF:low                                1\n",
       "MU:IMP:BRAF:unknown                            1\n",
       "MU:TYP:BRAF:missense_mutation                  1\n",
       "MU:TYP:BRAF:splice_site                        1\n",
       "CL:CANCER_TYPE                             solid\n",
       "CL:HISTOLOGY                           carcinoma\n",
       "CL:PRIMARY_SITE                  large_intestine\n",
       "CL:GENDER                                unknown\n",
       "Name: OUMS23, dtype: object"
      ]
     },
     "execution_count": 31,
     "metadata": {},
     "output_type": "execute_result"
    }
   ],
   "source": [
    "dt = d_exp[d_exp.filter(regex='MU:TYP:BRAF').sum(axis=1) > 0]\n",
    "dt.loc['OUMS23'].filter(regex='CL:|:BRAF:').dropna()"
   ]
  },
  {
   "cell_type": "code",
   "execution_count": 52,
   "metadata": {
    "collapsed": false
   },
   "outputs": [
    {
     "data": {
      "text/html": [
       "<div>\n",
       "<table border=\"1\" class=\"dataframe\">\n",
       "  <thead>\n",
       "    <tr style=\"text-align: right;\">\n",
       "      <th></th>\n",
       "      <th>GENE_ID</th>\n",
       "      <th>TUMOR_ID</th>\n",
       "      <th>VALUE</th>\n",
       "    </tr>\n",
       "  </thead>\n",
       "  <tbody>\n",
       "    <tr>\n",
       "      <th>36904</th>\n",
       "      <td>BRAF</td>\n",
       "      <td>OUMS23_LARGE_INTESTINE</td>\n",
       "      <td>V600E,X287_splice</td>\n",
       "    </tr>\n",
       "  </tbody>\n",
       "</table>\n",
       "</div>"
      ],
      "text/plain": [
       "      GENE_ID                TUMOR_ID              VALUE\n",
       "36904    BRAF  OUMS23_LARGE_INTESTINE  V600E,X287_splice"
      ]
     },
     "execution_count": 52,
     "metadata": {},
     "output_type": "execute_result"
    }
   ],
   "source": [
    "dt = d_mu[d_mu['GENE_ID'] == 'BRAF']\n",
    "dt[dt['TUMOR_ID'] == 'OUMS23_LARGE_INTESTINE']"
   ]
  },
  {
   "cell_type": "code",
   "execution_count": 55,
   "metadata": {
    "collapsed": false
   },
   "outputs": [
    {
     "data": {
      "text/plain": [
       "FEATURE\n",
       "AAC:BRAF:V600E                1.0\n",
       "AAC:BRAF:V600E,X287_splice    1.0\n",
       "AAC:BRAF:X287_splice          1.0\n",
       "IMP:BRAF:low                  1.0\n",
       "IMP:BRAF:unknown              1.0\n",
       "TYP:BRAF:missense_mutation    1.0\n",
       "TYP:BRAF:splice_site          1.0\n",
       "Name: OUMS23_LARGE_INTESTINE, dtype: float64"
      ]
     },
     "execution_count": 55,
     "metadata": {},
     "output_type": "execute_result"
    }
   ],
   "source": [
    "d_mu_mm.loc['OUMS23_LARGE_INTESTINE'].filter(regex='BRAF').dropna()"
   ]
  },
  {
   "cell_type": "code",
   "execution_count": 69,
   "metadata": {
    "collapsed": false
   },
   "outputs": [
    {
     "name": "stderr",
     "output_type": "stream",
     "text": [
      "2016-07-16 06:13:29,179:INFO:musc_genomics.data_import.cgds: Processing batch 1 of 1\n"
     ]
    },
    {
     "data": {
      "text/html": [
       "<div>\n",
       "<table border=\"1\" class=\"dataframe\">\n",
       "  <thead>\n",
       "    <tr style=\"text-align: right;\">\n",
       "      <th></th>\n",
       "      <th>entrez_gene_id</th>\n",
       "      <th>gene_symbol</th>\n",
       "      <th>case_id</th>\n",
       "      <th>sequencing_center</th>\n",
       "      <th>mutation_status</th>\n",
       "      <th>mutation_type</th>\n",
       "      <th>validation_status</th>\n",
       "      <th>amino_acid_change</th>\n",
       "      <th>functional_impact_score</th>\n",
       "      <th>xvar_link</th>\n",
       "      <th>...</th>\n",
       "      <th>chr</th>\n",
       "      <th>start_position</th>\n",
       "      <th>end_position</th>\n",
       "      <th>reference_allele</th>\n",
       "      <th>variant_allele</th>\n",
       "      <th>reference_read_count_tumor</th>\n",
       "      <th>variant_read_count_tumor</th>\n",
       "      <th>reference_read_count_normal</th>\n",
       "      <th>variant_read_count_normal</th>\n",
       "      <th>genetic_profile_id</th>\n",
       "    </tr>\n",
       "  </thead>\n",
       "  <tbody>\n",
       "    <tr>\n",
       "      <th>80</th>\n",
       "      <td>673</td>\n",
       "      <td>BRAF</td>\n",
       "      <td>OUMS23_LARGE_INTESTINE</td>\n",
       "      <td>broad.mit.edu</td>\n",
       "      <td>NaN</td>\n",
       "      <td>Missense_Mutation</td>\n",
       "      <td>NaN</td>\n",
       "      <td>V600E</td>\n",
       "      <td>L</td>\n",
       "      <td>getma.org/?cm=var&amp;var=hg19,7,140453136,A,T&amp;fts...</td>\n",
       "      <td>...</td>\n",
       "      <td>7</td>\n",
       "      <td>140453136</td>\n",
       "      <td>140453136</td>\n",
       "      <td>A</td>\n",
       "      <td>T</td>\n",
       "      <td>92</td>\n",
       "      <td>27</td>\n",
       "      <td>NaN</td>\n",
       "      <td>NaN</td>\n",
       "      <td>cellline_ccle_broad_mutations</td>\n",
       "    </tr>\n",
       "    <tr>\n",
       "      <th>96</th>\n",
       "      <td>673</td>\n",
       "      <td>BRAF</td>\n",
       "      <td>OUMS23_LARGE_INTESTINE</td>\n",
       "      <td>broad.mit.edu</td>\n",
       "      <td>NaN</td>\n",
       "      <td>Splice_Site</td>\n",
       "      <td>NaN</td>\n",
       "      <td>X287_splice</td>\n",
       "      <td>NaN</td>\n",
       "      <td>NaN</td>\n",
       "      <td>...</td>\n",
       "      <td>7</td>\n",
       "      <td>140500282</td>\n",
       "      <td>140500282</td>\n",
       "      <td>C</td>\n",
       "      <td>T</td>\n",
       "      <td>61</td>\n",
       "      <td>7</td>\n",
       "      <td>NaN</td>\n",
       "      <td>NaN</td>\n",
       "      <td>cellline_ccle_broad_mutations</td>\n",
       "    </tr>\n",
       "  </tbody>\n",
       "</table>\n",
       "<p>2 rows × 22 columns</p>\n",
       "</div>"
      ],
      "text/plain": [
       "    entrez_gene_id gene_symbol                 case_id sequencing_center  \\\n",
       "80             673        BRAF  OUMS23_LARGE_INTESTINE     broad.mit.edu   \n",
       "96             673        BRAF  OUMS23_LARGE_INTESTINE     broad.mit.edu   \n",
       "\n",
       "    mutation_status      mutation_type  validation_status amino_acid_change  \\\n",
       "80              NaN  Missense_Mutation                NaN             V600E   \n",
       "96              NaN        Splice_Site                NaN       X287_splice   \n",
       "\n",
       "   functional_impact_score                                          xvar_link  \\\n",
       "80                       L  getma.org/?cm=var&var=hg19,7,140453136,A,T&fts...   \n",
       "96                     NaN                                                NaN   \n",
       "\n",
       "                ...               chr start_position  end_position  \\\n",
       "80              ...                 7      140453136     140453136   \n",
       "96              ...                 7      140500282     140500282   \n",
       "\n",
       "    reference_allele  variant_allele reference_read_count_tumor  \\\n",
       "80                 A               T                         92   \n",
       "96                 C               T                         61   \n",
       "\n",
       "   variant_read_count_tumor  reference_read_count_normal  \\\n",
       "80                       27                          NaN   \n",
       "96                        7                          NaN   \n",
       "\n",
       "    variant_read_count_normal             genetic_profile_id  \n",
       "80                        NaN  cellline_ccle_broad_mutations  \n",
       "96                        NaN  cellline_ccle_broad_mutations  \n",
       "\n",
       "[2 rows x 22 columns]"
      ]
     },
     "execution_count": 69,
     "metadata": {},
     "output_type": "execute_result"
    }
   ],
   "source": [
    "from musc_genomics.data_import import cgds\n",
    "dt = cgds.get_mutation_data(cgds.CCLE_CASE_LIST_ID, cgds.GEN_PROF_MUTATION, ['BRAF'], gene_id_batch_size=500)\n",
    "dt[dt['case_id'] == 'OUMS23_LARGE_INTESTINE']"
   ]
  },
  {
   "cell_type": "code",
   "execution_count": null,
   "metadata": {
    "collapsed": true
   },
   "outputs": [],
   "source": []
  }
 ],
 "metadata": {
  "kernelspec": {
   "display_name": "Python 3",
   "language": "python",
   "name": "python3"
  },
  "language_info": {
   "codemirror_mode": {
    "name": "ipython",
    "version": 3
   },
   "file_extension": ".py",
   "mimetype": "text/x-python",
   "name": "python",
   "nbconvert_exporter": "python",
   "pygments_lexer": "ipython3",
   "version": "3.5.2"
  }
 },
 "nbformat": 4,
 "nbformat_minor": 0
}
