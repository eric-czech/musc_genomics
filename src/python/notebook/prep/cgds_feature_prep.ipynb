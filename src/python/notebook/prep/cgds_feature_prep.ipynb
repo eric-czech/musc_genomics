{
 "cells": [
  {
   "cell_type": "code",
   "execution_count": 1,
   "metadata": {
    "collapsed": true
   },
   "outputs": [],
   "source": [
    "%run -m ipy_startup\n",
    "%run -m ipy_logging\n",
    "%matplotlib inline\n",
    "from musc_genomics.data_import import cgds, api, prep\n",
    "from musc_genomics import data\n",
    "pd.set_option('max_info_rows', int(1E9))"
   ]
  },
  {
   "cell_type": "code",
   "execution_count": 3,
   "metadata": {
    "collapsed": false
   },
   "outputs": [
    {
     "name": "stderr",
     "output_type": "stream",
     "text": [
      "2016-07-07 15:56:25,031:DEBUG:research.project.manager: Loading saved data from location \"/Users/eczech/data/research/musc_genomics/prepared/features_raw_fill.pkl\"\n"
     ]
    },
    {
     "data": {
      "text/html": [
       "<div>\n",
       "<table border=\"1\" class=\"dataframe\">\n",
       "  <thead>\n",
       "    <tr style=\"text-align: right;\">\n",
       "      <th>FEATURE</th>\n",
       "      <th>CN:A1BG</th>\n",
       "      <th>CN:A1BG-AS1</th>\n",
       "      <th>CN:A1CF</th>\n",
       "      <th>CN:A2M</th>\n",
       "      <th>CN:A2ML1</th>\n",
       "      <th>CN:A4GALT</th>\n",
       "      <th>CN:A4GNT</th>\n",
       "      <th>CN:AAAS</th>\n",
       "      <th>CN:AACS</th>\n",
       "      <th>CN:AACSP1</th>\n",
       "    </tr>\n",
       "  </thead>\n",
       "  <tbody>\n",
       "    <tr>\n",
       "      <th>1321N1_CENTRAL_NERVOUS_SYSTEM</th>\n",
       "      <td>-0.15440</td>\n",
       "      <td>-0.15440</td>\n",
       "      <td>-0.09850</td>\n",
       "      <td>-0.1819</td>\n",
       "      <td>-0.1819</td>\n",
       "      <td>-0.1732</td>\n",
       "      <td>0.25750</td>\n",
       "      <td>-0.04040</td>\n",
       "      <td>-0.1284</td>\n",
       "      <td>0.1682</td>\n",
       "    </tr>\n",
       "    <tr>\n",
       "      <th>143B_BONE</th>\n",
       "      <td>-0.21200</td>\n",
       "      <td>-0.21200</td>\n",
       "      <td>0.15800</td>\n",
       "      <td>-0.1753</td>\n",
       "      <td>-0.1753</td>\n",
       "      <td>-0.2536</td>\n",
       "      <td>0.20600</td>\n",
       "      <td>-0.14450</td>\n",
       "      <td>-0.2757</td>\n",
       "      <td>0.2150</td>\n",
       "    </tr>\n",
       "    <tr>\n",
       "      <th>22RV1_PROSTATE</th>\n",
       "      <td>-0.08084</td>\n",
       "      <td>-0.08084</td>\n",
       "      <td>-0.00250</td>\n",
       "      <td>0.4486</td>\n",
       "      <td>0.4486</td>\n",
       "      <td>-0.0574</td>\n",
       "      <td>-0.03030</td>\n",
       "      <td>0.46490</td>\n",
       "      <td>0.4406</td>\n",
       "      <td>-0.0518</td>\n",
       "    </tr>\n",
       "    <tr>\n",
       "      <th>2313287_STOMACH</th>\n",
       "      <td>-0.03310</td>\n",
       "      <td>-0.03310</td>\n",
       "      <td>-0.05348</td>\n",
       "      <td>-0.1917</td>\n",
       "      <td>-0.1917</td>\n",
       "      <td>-0.0512</td>\n",
       "      <td>-0.04608</td>\n",
       "      <td>-0.01474</td>\n",
       "      <td>-0.0516</td>\n",
       "      <td>-0.0514</td>\n",
       "    </tr>\n",
       "    <tr>\n",
       "      <th>253JBV_URINARY_TRACT</th>\n",
       "      <td>NaN</td>\n",
       "      <td>NaN</td>\n",
       "      <td>NaN</td>\n",
       "      <td>NaN</td>\n",
       "      <td>NaN</td>\n",
       "      <td>NaN</td>\n",
       "      <td>NaN</td>\n",
       "      <td>NaN</td>\n",
       "      <td>NaN</td>\n",
       "      <td>NaN</td>\n",
       "    </tr>\n",
       "  </tbody>\n",
       "</table>\n",
       "</div>"
      ],
      "text/plain": [
       "FEATURE                        CN:A1BG  CN:A1BG-AS1  CN:A1CF  CN:A2M  \\\n",
       "1321N1_CENTRAL_NERVOUS_SYSTEM -0.15440     -0.15440 -0.09850 -0.1819   \n",
       "143B_BONE                     -0.21200     -0.21200  0.15800 -0.1753   \n",
       "22RV1_PROSTATE                -0.08084     -0.08084 -0.00250  0.4486   \n",
       "2313287_STOMACH               -0.03310     -0.03310 -0.05348 -0.1917   \n",
       "253JBV_URINARY_TRACT               NaN          NaN      NaN     NaN   \n",
       "\n",
       "FEATURE                        CN:A2ML1  CN:A4GALT  CN:A4GNT  CN:AAAS  \\\n",
       "1321N1_CENTRAL_NERVOUS_SYSTEM   -0.1819    -0.1732   0.25750 -0.04040   \n",
       "143B_BONE                       -0.1753    -0.2536   0.20600 -0.14450   \n",
       "22RV1_PROSTATE                   0.4486    -0.0574  -0.03030  0.46490   \n",
       "2313287_STOMACH                 -0.1917    -0.0512  -0.04608 -0.01474   \n",
       "253JBV_URINARY_TRACT                NaN        NaN       NaN      NaN   \n",
       "\n",
       "FEATURE                        CN:AACS  CN:AACSP1  \n",
       "1321N1_CENTRAL_NERVOUS_SYSTEM  -0.1284     0.1682  \n",
       "143B_BONE                      -0.2757     0.2150  \n",
       "22RV1_PROSTATE                  0.4406    -0.0518  \n",
       "2313287_STOMACH                -0.0516    -0.0514  \n",
       "253JBV_URINARY_TRACT               NaN        NaN  "
      ]
     },
     "execution_count": 3,
     "metadata": {},
     "output_type": "execute_result"
    }
   ],
   "source": [
    "d_raw = data.load('prepared', 'features_raw_fill')\n",
    "d_raw.iloc[:5, :10]"
   ]
  },
  {
   "cell_type": "code",
   "execution_count": null,
   "metadata": {
    "collapsed": true
   },
   "outputs": [],
   "source": []
  }
 ],
 "metadata": {
  "kernelspec": {
   "display_name": "Python 3",
   "language": "python",
   "name": "python3"
  },
  "language_info": {
   "codemirror_mode": {
    "name": "ipython",
    "version": 3
   },
   "file_extension": ".py",
   "mimetype": "text/x-python",
   "name": "python",
   "nbconvert_exporter": "python",
   "pygments_lexer": "ipython3",
   "version": "3.5.1"
  }
 },
 "nbformat": 4,
 "nbformat_minor": 0
}
